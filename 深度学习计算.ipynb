{
 "cells": [
  {
   "cell_type": "markdown",
   "source": [
    "# 1 层和块\r\n",
    "使用块进行抽象的一个好处是可以将一些块组合成更大的组件。通过定义代码来按需生成任意复杂度的块， 我们可以通过简洁的代码实现复杂的神经网络。\r\n",
    "\r\n",
    "层和块的连接由sequential处理\r\n",
    "\r\n",
    "## 1.1 自定义块\r\n",
    "以下是将多层感知机构造为一个块。全连接，包含一个隐藏层和一个输出层。\r\n",
    "\r\n",
    "* 将输入数据作为其前向传播函数的参数。\r\n",
    "* 通过前向传播函数来生成输出。请注意，输出的形状可能与输入的形状不同。例如，我们上面模型中的第一个全连接的层接收一个20维的输入，但是返回一个维度为256的输出。\r\n",
    "* 计算其输出关于输入的梯度，可通过其反向传播函数进行访问。通常这是自动发生的。\r\n",
    "* 存储和访问前向传播计算所需的参数。\r\n",
    "* 根据需要初始化模型参数。\r\n",
    "\r\n",
    "net(X)调用模型输出\r\n",
    "\r\n",
    "通过super().__init__() 调用父类的__init__函数"
   ],
   "metadata": {}
  },
  {
   "cell_type": "code",
   "execution_count": null,
   "source": [
    "import torch\r\n",
    "from torch import nn\r\n",
    "from torch.nn import functional as F\r\n",
    "\r\n",
    "X = torch.rand(2, 20)"
   ],
   "outputs": [],
   "metadata": {}
  },
  {
   "cell_type": "code",
   "execution_count": null,
   "source": [
    "class MLP(nn.Module):\r\n",
    "    # 用模型参数声明层。这里，我们声明两个全连接的层\r\n",
    "    def __init__(self):\r\n",
    "        # 调用MLP的父类Module的构造函数来执行必要的初始化。\r\n",
    "        # 这样，在类实例化时也可以指定其他函数参数，例如模型参数params（稍后将介绍）\r\n",
    "        super().__init__()\r\n",
    "        self.hidden = nn.Linear(20, 256)  # 隐藏层\r\n",
    "        self.out = nn.Linear(256, 10)  # 输出层\r\n",
    "\r\n",
    "    # 定义模型的前向传播，即如何根据输入X返回所需的模型输出\r\n",
    "    def forward(self, X):\r\n",
    "        # 注意，这里我们使用ReLU的函数版本，其在nn.functional模块中定义。\r\n",
    "        return self.out(F.relu(self.hidden(X)))\r\n",
    "\r\n",
    "net = MLP()\r\n",
    "net(X)\r\n"
   ],
   "outputs": [],
   "metadata": {}
  },
  {
   "cell_type": "markdown",
   "source": [
    "## 1.2 顺序块\r\n",
    "只需要定义两个关键函数：\r\n",
    "\r\n",
    "* 一种将块逐个追加到列表中的函数；\r\n",
    "\r\n",
    "* 一种前向传播函数，用于将输入按追加块的顺序传递给块组成的“链条”\r\n",
    "\r\n",
    "__init__函数将每个模块逐个添加到有序字典_modules中。，_modules的主要优点是： 在模块的参数初始化过程中， 系统知道在_modules字典中查找需要初始化参数的子块。\r\n",
    "\r\n",
    "当MySequential的前向传播函数被调用时， 每个添加的块都按照它们被添加的顺序执行。"
   ],
   "metadata": {}
  },
  {
   "cell_type": "code",
   "execution_count": null,
   "source": [
    "class MySequential(nn.Module):\r\n",
    "    def __init__(self, *args):\r\n",
    "        super().__init__()\r\n",
    "        for idx, module in enumerate(args):\r\n",
    "            # 这里，module是Module子类的一个实例。我们把它保存在'Module'类的成员\r\n",
    "            # 变量_modules中。_module的类型是OrderedDict\r\n",
    "            self._modules[str(idx)] = module\r\n",
    "\r\n",
    "    def forward(self, X):\r\n",
    "        # OrderedDict保证了按照成员添加的顺序遍历它们\r\n",
    "        for block in self._modules.values():\r\n",
    "            X = block(X)\r\n",
    "        return X\r\n",
    "\r\n",
    "net = MySequential(nn.Linear(20, 256), nn.ReLU(), nn.Linear(256, 10))\r\n",
    "net(X)"
   ],
   "outputs": [],
   "metadata": {}
  },
  {
   "cell_type": "markdown",
   "source": [
    "## 1.3 在前向传播函数中执行代码\r\n",
    "并不是所有时候都用顺序块\r\n",
    "\r\n",
    "例如，计算$f(x)=c*w^T*x$时，c是某个在优化过程中没有更新的指定常量\r\n",
    "\r\n",
    "权重初始化后为常量，返回输出之前， 它运行了一个while循环，在L1范数大于1的条件下， 将输出向量除以2，直到它满足条件为止。 最后，模型返回了X中所有项的和。"
   ],
   "metadata": {}
  },
  {
   "cell_type": "code",
   "execution_count": null,
   "source": [
    "class FixedHiddenMLP(nn.Module):\r\n",
    "    def __init__(self):\r\n",
    "        super().__init__()\r\n",
    "        # 不计算梯度的随机权重参数。因此其在训练期间保持不变\r\n",
    "        self.rand_weight = torch.rand((20, 20), requires_grad=False)\r\n",
    "        self.linear = nn.Linear(20, 20)\r\n",
    "\r\n",
    "    def forward(self, X):\r\n",
    "        X = self.linear(X)\r\n",
    "        # 使用创建的常量参数以及relu和mm函数\r\n",
    "        X = F.relu(torch.mm(X, self.rand_weight) + 1)\r\n",
    "        # 复用全连接层。这相当于两个全连接层共享参数\r\n",
    "        X = self.linear(X)\r\n",
    "        # 控制流\r\n",
    "        while X.abs().sum() > 1:\r\n",
    "            X /= 2\r\n",
    "        return X.sum()\r\n",
    "net = FixedHiddenMLP()\r\n",
    "net(X)"
   ],
   "outputs": [],
   "metadata": {}
  },
  {
   "cell_type": "markdown",
   "source": [
    "我们可以混合搭配各种组合块的方法。"
   ],
   "metadata": {}
  },
  {
   "cell_type": "code",
   "execution_count": null,
   "source": [
    "class NestMLP(nn.Module):\r\n",
    "    def __init__(self):\r\n",
    "        super().__init__()\r\n",
    "        self.net = nn.Sequential(nn.Linear(20, 64), nn.ReLU(),\r\n",
    "                                 nn.Linear(64, 32), nn.ReLU())\r\n",
    "        self.linear = nn.Linear(32, 16)\r\n",
    "\r\n",
    "    def forward(self, X):\r\n",
    "        return self.linear(self.net(X))\r\n",
    "\r\n",
    "chimera = nn.Sequential(NestMLP(), nn.Linear(16, 20), FixedHiddenMLP())\r\n",
    "chimera(X)"
   ],
   "outputs": [],
   "metadata": {}
  },
  {
   "cell_type": "markdown",
   "source": [
    "# 2 参数管理\r\n",
    "访问参数，用于调试、诊断和可视化；\r\n",
    "\r\n",
    "参数初始化；\r\n",
    "\r\n",
    "在不同模型组件间共享参数"
   ],
   "metadata": {}
  },
  {
   "cell_type": "code",
   "execution_count": null,
   "source": [
    "\r\n",
    "import torch\r\n",
    "from torch import nn\r\n",
    "\r\n",
    "net = nn.Sequential(nn.Linear(4, 8), nn.ReLU(), nn.Linear(8, 1))\r\n",
    "X = torch.rand(size=(2, 4))\r\n",
    "net(X)"
   ],
   "outputs": [],
   "metadata": {}
  },
  {
   "cell_type": "markdown",
   "source": [
    "## 2.1 参数访问\r\n",
    "参数是复合的对象，包含值、梯度和额外信息。 这就是我们需要显式参数值的原因。 除了值之外，我们还可以访问每个参数的梯度。 在上面这个网络中，由于我们还没有调用反向传播，所以参数的梯度处于初始状态。\r\n",
    "\r\n",
    "### 2.1.1 目标参数"
   ],
   "metadata": {}
  },
  {
   "cell_type": "code",
   "execution_count": null,
   "source": [
    "\r\n",
    "print(net[2].state_dict())\r\n",
    "print(type(net[2].bias))\r\n",
    "print(net[2].bias)\r\n",
    "print(net[2].bias.data)\r\n",
    "\r\n",
    "net[2].weight.grad == None"
   ],
   "outputs": [],
   "metadata": {}
  },
  {
   "cell_type": "markdown",
   "source": [
    "### 2.1.2 一次性访问所有参数"
   ],
   "metadata": {}
  },
  {
   "cell_type": "code",
   "execution_count": null,
   "source": [
    "print(*[(name, param.shape) for name, param in net[0].named_parameters()])\r\n",
    "print(*[(name, param.shape) for name, param in net.named_parameters()])\r\n",
    "\r\n",
    "net.state_dict()['2.bias'].data"
   ],
   "outputs": [],
   "metadata": {}
  },
  {
   "cell_type": "markdown",
   "source": [
    "### 2.1.3 从嵌套块收集参数、\r\n",
    "如果多个块互相嵌套，如何查看参数"
   ],
   "metadata": {}
  },
  {
   "cell_type": "code",
   "execution_count": null,
   "source": [
    "def block1():\r\n",
    "    return nn.Sequential(nn.Linear(4, 8), nn.ReLU(),\r\n",
    "                         nn.Linear(8, 4), nn.ReLU())\r\n",
    "\r\n",
    "def block2():\r\n",
    "    net = nn.Sequential()\r\n",
    "    for i in range(4):\r\n",
    "        # 在这里嵌套\r\n",
    "        net.add_module(f'block {i}', block1())\r\n",
    "    return net\r\n",
    "\r\n",
    "rgnet = nn.Sequential(block2(), nn.Linear(4, 1))\r\n",
    "rgnet(X)\r\n",
    "print(rgnet)"
   ],
   "outputs": [],
   "metadata": {}
  },
  {
   "cell_type": "markdown",
   "source": [
    "因为层是分层嵌套的，所以我们也可以像通过嵌套列表索引一样访问它们。 下面，我们访问第一个主要的块中、第二个子块的第一层的偏置项。"
   ],
   "metadata": {}
  },
  {
   "cell_type": "code",
   "execution_count": null,
   "source": [
    "rgnet[0][1][0].bias.data"
   ],
   "outputs": [],
   "metadata": {}
  },
  {
   "cell_type": "markdown",
   "source": [
    "## 2.2 参数初始化\r\n",
    "PyTorch的nn.init模块提供了多种预置初始化方法。\r\n",
    "\r\n",
    "### 2.2.1 内置初始化\r\n",
    "更多初始化方法https://pytorch.org/docs/stable/nn.init.html"
   ],
   "metadata": {}
  },
  {
   "cell_type": "code",
   "execution_count": null,
   "source": [
    "# 将所有权重参数初始化为标准差为0.01的高斯随机变量， 且将偏置参数设置为0。\r\n",
    "def init_normal(m):\r\n",
    "    if type(m) == nn.Linear:\r\n",
    "        nn.init.normal_(m.weight, mean=0, std=0.01)\r\n",
    "        nn.init.zeros_(m.bias)\r\n",
    "net.apply(init_normal)\r\n",
    "net[0].weight.data[0], net[0].bias.data[0]"
   ],
   "outputs": [],
   "metadata": {}
  },
  {
   "cell_type": "code",
   "execution_count": null,
   "source": [
    "# 将所有参数初始化为给定的常数\r\n",
    "def init_constant(m):\r\n",
    "    if type(m) == nn.Linear:\r\n",
    "        nn.init.constant_(m.weight, 1)\r\n",
    "        nn.init.zeros_(m.bias)\r\n",
    "net.apply(init_constant)\r\n",
    "net[0].weight.data[0], net[0].bias.data[0]"
   ],
   "outputs": [],
   "metadata": {}
  },
  {
   "cell_type": "code",
   "execution_count": null,
   "source": [
    "# 对某些块应用不同的初始化方法 \r\n",
    "# 使用Xavier初始化方法初始化第一个神经网络层， 然后将第三个神经网络层初始化为常量值42\r\n",
    "def init_xavier(m):\r\n",
    "    if type(m) == nn.Linear:\r\n",
    "        nn.init.xavier_uniform_(m.weight)\r\n",
    "def init_42(m):\r\n",
    "    if type(m) == nn.Linear:\r\n",
    "        nn.init.constant_(m.weight, 42)\r\n",
    "\r\n",
    "net[0].apply(init_xavier)\r\n",
    "net[2].apply(init_42)\r\n",
    "print(net[0].weight.data[0])\r\n",
    "print(net[2].weight.data)"
   ],
   "outputs": [],
   "metadata": {}
  },
  {
   "cell_type": "markdown",
   "source": [
    "### 2.2.2 自定义初始化\r\n",
    "\r\n",
    "\r\n",
    "例如，\r\n",
    "$ w=\r\n",
    "\\left\\{\r\n",
    "    \\begin{aligned}\r\n",
    "    U(5,10),p=0.25\\\\\r\n",
    "    0,p=0.2\\\\\r\n",
    "    U(-10,-5),P=0.25\r\n",
    "    \\end{aligned}\r\n",
    "\\right.\r\n",
    "\\}\r\n",
    "$\r\n",
    "m.weight.data *= m.weight.data.abs() >= 5进行判定，看每一个权重的绝对值是否大于等于5，如果大于等于5则证明在(5, 10)和(-10，-5)区间上，那返回true，也就是1，m.weight.data乘1数值不变；反之会返回false，也就是0，将m.weight.data置零。至于怎么保证$\\frac{1}{4}和​\\frac{1}{2}$概率，因为是均匀分布，所以默认他们在区间上的分布已经均匀。"
   ],
   "metadata": {}
  },
  {
   "cell_type": "code",
   "execution_count": null,
   "source": [
    "def my_init(m):\r\n",
    "    if type(m) == nn.Linear:\r\n",
    "        print(\"Init\", *[(name, param.shape)\r\n",
    "                        for name, param in m.named_parameters()][0])\r\n",
    "        nn.init.uniform_(m.weight, -10, 10)\r\n",
    "        m.weight.data *= m.weight.data.abs() >= 5\r\n",
    "\r\n",
    "net.apply(my_init)\r\n",
    "net[0].weight[:2]\r\n",
    "# 也可以直接设置参数\r\n",
    "net[0].weight.data[:] += 1\r\n",
    "net[0].weight.data[0, 0] = 42\r\n",
    "net[0].weight.data[0]"
   ],
   "outputs": [],
   "metadata": {}
  },
  {
   "cell_type": "markdown",
   "source": [
    "## 2.3 参数绑定\r\n",
    "定义一个稠密层，然后使用它的参数来设置另一个层的参数。\r\n",
    "\r\n",
    "\r\n",
    "这个例子表明第三个和第五个神经网络层的参数是绑定的。 它们不仅值相等，而且由相同的张量表示。 因此，如果我们改变其中一个参数，另一个参数也会改变。 这里有一个问题：当参数绑定时，梯度会发生什么情况？ 答案是由于模型参数包含梯度，因此在反向传播期间第二个隐藏层 （即第三个神经网络层）和第三个隐藏层（即第五个神经网络层）的梯度会加在一起。"
   ],
   "metadata": {}
  },
  {
   "cell_type": "code",
   "execution_count": null,
   "source": [
    "# 我们需要给共享层一个名称，以便可以引用它的参数\r\n",
    "shared = nn.Linear(8, 8)\r\n",
    "net = nn.Sequential(nn.Linear(4, 8), nn.ReLU(),\r\n",
    "                    shared, nn.ReLU(),\r\n",
    "                    shared, nn.ReLU(),\r\n",
    "                    nn.Linear(8, 1))\r\n",
    "net(X)\r\n",
    "# 检查参数是否相同\r\n",
    "print(net[2].weight.data[0] == net[4].weight.data[0])\r\n",
    "net[2].weight.data[0, 0] = 100\r\n",
    "# 确保它们实际上是同一个对象，而不只是有相同的值\r\n",
    "print(net[2].weight.data[0] == net[4].weight.data[0])"
   ],
   "outputs": [],
   "metadata": {}
  },
  {
   "cell_type": "markdown",
   "source": [
    "# 3 自定义层\r\n",
    "## 3.1 不带参数的层"
   ],
   "metadata": {}
  },
  {
   "cell_type": "code",
   "execution_count": 28,
   "source": [
    "import torch\r\n",
    "import torch.nn.functional as F\r\n",
    "from torch import nn\r\n",
    "\r\n",
    "\r\n",
    "class CenteredLayer(nn.Module):\r\n",
    "    def __init__(self):\r\n",
    "        super().__init__()\r\n",
    "\r\n",
    "    def forward(self, X):\r\n",
    "        return X - X.mean()\r\n",
    "\r\n",
    "layer = CenteredLayer()\r\n",
    "layer(torch.FloatTensor([1, 2, 3, 4, 5]))"
   ],
   "outputs": [
    {
     "output_type": "execute_result",
     "data": {
      "text/plain": [
       "tensor([-2., -1.,  0.,  1.,  2.])"
      ]
     },
     "metadata": {},
     "execution_count": 28
    }
   ],
   "metadata": {}
  },
  {
   "cell_type": "code",
   "execution_count": 29,
   "source": [
    "net = nn.Sequential(nn.Linear(8, 128), CenteredLayer())\r\n",
    "Y = net(torch.rand(4, 8))\r\n",
    "Y.mean()"
   ],
   "outputs": [
    {
     "output_type": "execute_result",
     "data": {
      "text/plain": [
       "tensor(3.7253e-09, grad_fn=<MeanBackward0>)"
      ]
     },
     "metadata": {},
     "execution_count": 29
    }
   ],
   "metadata": {}
  },
  {
   "cell_type": "markdown",
   "source": [
    "## 3.2 带参数的层"
   ],
   "metadata": {}
  },
  {
   "cell_type": "code",
   "execution_count": 32,
   "source": [
    "class MyLinear(nn.Module):\r\n",
    "    def __init__(self, in_units, units):\r\n",
    "        super().__init__()\r\n",
    "        self.weight = nn.Parameter(torch.randn(in_units, units))\r\n",
    "        self.bias = nn.Parameter(torch.randn(units,))\r\n",
    "    def forward(self, X):\r\n",
    "        linear = torch.matmul(X, self.weight.data) + self.bias.data\r\n",
    "        return F.relu(linear)\r\n",
    "\r\n",
    "linear = MyLinear(5, 3)\r\n",
    "linear.weight\r\n",
    "\r\n",
    "linear(torch.rand(2, 5))\r\n",
    "\r\n",
    "net = nn.Sequential(MyLinear(64, 8), MyLinear(8, 1))\r\n",
    "net(torch.rand(2, 64))"
   ],
   "outputs": [
    {
     "output_type": "execute_result",
     "data": {
      "text/plain": [
       "tensor([[3.3973],\n",
       "        [0.0000]])"
      ]
     },
     "metadata": {},
     "execution_count": 32
    }
   ],
   "metadata": {}
  },
  {
   "cell_type": "markdown",
   "source": [
    "# 4 读写文件\r\n",
    "当训练过程较长时，定期保存训练结果\r\n",
    "\r\n",
    "该部分是如何存储和加载权重向量和整个模型\r\n",
    "\r\n",
    "## 4.1 加载和保存张量"
   ],
   "metadata": {}
  },
  {
   "cell_type": "code",
   "execution_count": 33,
   "source": [
    "import torch\r\n",
    "from torch import nn\r\n",
    "from torch.nn import functional as F\r\n",
    "\r\n",
    "x = torch.arange(4)\r\n",
    "torch.save(x, 'x-file')\r\n",
    "x2 = torch.load('x-file')\r\n",
    "x2"
   ],
   "outputs": [
    {
     "output_type": "execute_result",
     "data": {
      "text/plain": [
       "tensor([0, 1, 2, 3])"
      ]
     },
     "metadata": {},
     "execution_count": 33
    }
   ],
   "metadata": {}
  },
  {
   "cell_type": "code",
   "execution_count": 34,
   "source": [
    "\r\n",
    "y = torch.zeros(4)\r\n",
    "torch.save([x, y],'x-files')\r\n",
    "x2, y2 = torch.load('x-files')\r\n",
    "(x2, y2)"
   ],
   "outputs": [
    {
     "output_type": "execute_result",
     "data": {
      "text/plain": [
       "(tensor([0, 1, 2, 3]), tensor([0., 0., 0., 0.]))"
      ]
     },
     "metadata": {},
     "execution_count": 34
    }
   ],
   "metadata": {}
  },
  {
   "cell_type": "code",
   "execution_count": 36,
   "source": [
    "mydict = {'x': x, 'y': y}\r\n",
    "torch.save(mydict, 'mydict')\r\n",
    "mydict2 = torch.load('mydict')\r\n",
    "mydict2"
   ],
   "outputs": [
    {
     "output_type": "execute_result",
     "data": {
      "text/plain": [
       "{'x': tensor([0, 1, 2, 3]), 'y': tensor([0., 0., 0., 0.])}"
      ]
     },
     "metadata": {},
     "execution_count": 36
    }
   ],
   "metadata": {}
  },
  {
   "cell_type": "markdown",
   "source": [
    "## 4.2 加载和保存模型参数"
   ],
   "metadata": {}
  },
  {
   "cell_type": "code",
   "execution_count": 38,
   "source": [
    "class MLP(nn.Module):\r\n",
    "    def __init__(self):\r\n",
    "        super().__init__()\r\n",
    "        self.hidden = nn.Linear(20, 256)\r\n",
    "        self.output = nn.Linear(256, 10)\r\n",
    "\r\n",
    "    def forward(self, x):\r\n",
    "        return self.output(F.relu(self.hidden(x)))\r\n",
    "\r\n",
    "net = MLP()\r\n",
    "X = torch.randn(size=(2, 20))\r\n",
    "Y = net(X)"
   ],
   "outputs": [],
   "metadata": {}
  },
  {
   "cell_type": "code",
   "execution_count": 39,
   "source": [
    "torch.save(net.state_dict(), 'mlp.params')\r\n",
    "\r\n",
    "clone = MLP()\r\n",
    "clone.load_state_dict(torch.load('mlp.params'))\r\n",
    "clone.eval()\r\n",
    "\r\n",
    "Y_clone = clone(X)\r\n",
    "Y_clone == Y"
   ],
   "outputs": [
    {
     "output_type": "execute_result",
     "data": {
      "text/plain": [
       "tensor([[True, True, True, True, True, True, True, True, True, True],\n",
       "        [True, True, True, True, True, True, True, True, True, True]])"
      ]
     },
     "metadata": {},
     "execution_count": 39
    }
   ],
   "metadata": {}
  },
  {
   "cell_type": "markdown",
   "source": [
    "# 5 GPU\r\n",
    "\r\n",
    "## 5.1 计算设备\r\n",
    "默认情况下，张量是在内存中创建的，然后使用CPU计算它。\r\n",
    "\r\n",
    "使用torch.device(f'cuda:{i}') 来表示第I块GPU（从0开始)"
   ],
   "metadata": {}
  },
  {
   "cell_type": "code",
   "execution_count": 68,
   "source": [
    "!nvidia-smi"
   ],
   "outputs": [
    {
     "output_type": "stream",
     "name": "stdout",
     "text": [
      "Wed Apr 12 15:31:05 2023       \n",
      "+---------------------------------------------------------------------------------------+\n",
      "| NVIDIA-SMI 531.14                 Driver Version: 531.14       CUDA Version: 12.1     |\n",
      "|-----------------------------------------+----------------------+----------------------+\n",
      "| GPU  Name                      TCC/WDDM | Bus-Id        Disp.A | Volatile Uncorr. ECC |\n",
      "| Fan  Temp  Perf            Pwr:Usage/Cap|         Memory-Usage | GPU-Util  Compute M. |\n",
      "|                                         |                      |               MIG M. |\n",
      "|=========================================+======================+======================|\n",
      "|   0  NVIDIA GeForce RTX 2060       WDDM | 00000000:01:00.0  On |                  N/A |\n",
      "|  0%   49C    P8                9W / 170W|    134MiB /  6144MiB |      8%      Default |\n",
      "|                                         |                      |                  N/A |\n",
      "+-----------------------------------------+----------------------+----------------------+\n",
      "                                                                                         \n",
      "+---------------------------------------------------------------------------------------+\n",
      "| Processes:                                                                            |\n",
      "|  GPU   GI   CI        PID   Type   Process name                            GPU Memory |\n",
      "|        ID   ID                                                             Usage      |\n",
      "|=======================================================================================|\n",
      "|    0   N/A  N/A      9460    C+G   C:\\Windows\\explorer.exe                   N/A      |\n",
      "|    0   N/A  N/A     11352    C+G   ....Search_cw5n1h2txyewy\\SearchApp.exe    N/A      |\n",
      "|    0   N/A  N/A     12956    C+G   ...CBS_cw5n1h2txyewy\\TextInputHost.exe    N/A      |\n",
      "|    0   N/A  N/A     32076    C+G   ....Search_cw5n1h2txyewy\\SearchApp.exe    N/A      |\n",
      "+---------------------------------------------------------------------------------------+\n"
     ]
    }
   ],
   "metadata": {}
  },
  {
   "cell_type": "code",
   "execution_count": 69,
   "source": [
    "import torch\r\n",
    "from torch import nn\r\n",
    "\r\n",
    "torch.device('cpu'), torch.device('cuda'), torch.device('cuda:1')\r\n",
    "\r\n",
    "torch.cuda.device_count()"
   ],
   "outputs": [
    {
     "output_type": "execute_result",
     "data": {
      "text/plain": [
       "0"
      ]
     },
     "metadata": {},
     "execution_count": 69
    }
   ],
   "metadata": {}
  },
  {
   "cell_type": "markdown",
   "source": [
    "下边这个函数允许我们在不存在所需所有GPU的情况下运行代码"
   ],
   "metadata": {}
  },
  {
   "cell_type": "code",
   "execution_count": 70,
   "source": [
    "def try_gpu(i=0):  #@save\r\n",
    "    \"\"\"如果存在，则返回gpu(i)，否则返回cpu()\"\"\"\r\n",
    "    if torch.cuda.device_count() >= i + 1:\r\n",
    "        return torch.device(f'cuda:{i}')\r\n",
    "    return torch.device('cpu')\r\n",
    "\r\n",
    "def try_all_gpus():  #@save\r\n",
    "    \"\"\"返回所有可用的GPU，如果没有GPU，则返回[cpu(),]\"\"\"\r\n",
    "    devices = [torch.device(f'cuda:{i}')\r\n",
    "             for i in range(torch.cuda.device_count())]\r\n",
    "    return devices if devices else [torch.device('cpu')]\r\n",
    "\r\n",
    "try_gpu(), try_gpu(10), try_all_gpus()"
   ],
   "outputs": [
    {
     "output_type": "execute_result",
     "data": {
      "text/plain": [
       "(device(type='cpu'), device(type='cpu'), [device(type='cpu')])"
      ]
     },
     "metadata": {},
     "execution_count": 70
    }
   ],
   "metadata": {}
  },
  {
   "cell_type": "markdown",
   "source": [
    "## 5.2 张量与GPU\r\n",
    "无论何时对多个项进行操作，都必须在同一个设备上"
   ],
   "metadata": {}
  },
  {
   "cell_type": "code",
   "execution_count": 74,
   "source": [
    "x = torch.tensor([1, 2, 3])\r\n",
    "x.device"
   ],
   "outputs": [
    {
     "output_type": "execute_result",
     "data": {
      "text/plain": [
       "device(type='cpu')"
      ]
     },
     "metadata": {},
     "execution_count": 74
    }
   ],
   "metadata": {}
  },
  {
   "cell_type": "code",
   "execution_count": 75,
   "source": [
    "X = torch.ones(2, 3, device=try_gpu())\r\n",
    "X"
   ],
   "outputs": [
    {
     "output_type": "execute_result",
     "data": {
      "text/plain": [
       "tensor([[1., 1., 1.],\n",
       "        [1., 1., 1.]])"
      ]
     },
     "metadata": {},
     "execution_count": 75
    }
   ],
   "metadata": {}
  },
  {
   "cell_type": "code",
   "execution_count": 76,
   "source": [
    "Y = torch.rand(2, 3, device=try_gpu(1))\r\n",
    "Y"
   ],
   "outputs": [
    {
     "output_type": "execute_result",
     "data": {
      "text/plain": [
       "tensor([[0.2352, 0.2830, 0.5300],\n",
       "        [0.8061, 0.5678, 0.9085]])"
      ]
     },
     "metadata": {},
     "execution_count": 76
    }
   ],
   "metadata": {}
  },
  {
   "cell_type": "markdown",
   "source": [
    "## 5.3 神经网络与GPU\r\n",
    "\r\n",
    "类似地，神经网络模型可以指定设备。 下面的代码将模型参数放在GPU上。"
   ],
   "metadata": {}
  },
  {
   "cell_type": "code",
   "execution_count": 80,
   "source": [
    "net = nn.Sequential(nn.Linear(3, 1))\r\n",
    "net = net.to(device=try_gpu())\r\n",
    "net(X)"
   ],
   "outputs": [
    {
     "output_type": "execute_result",
     "data": {
      "text/plain": [
       "tensor([[-0.2281],\n",
       "        [-0.2281]], grad_fn=<AddmmBackward0>)"
      ]
     },
     "metadata": {},
     "execution_count": 80
    }
   ],
   "metadata": {}
  },
  {
   "cell_type": "code",
   "execution_count": 81,
   "source": [
    "net[0].weight.data.device"
   ],
   "outputs": [
    {
     "output_type": "execute_result",
     "data": {
      "text/plain": [
       "device(type='cpu')"
      ]
     },
     "metadata": {},
     "execution_count": 81
    }
   ],
   "metadata": {}
  }
 ],
 "metadata": {
  "orig_nbformat": 4,
  "language_info": {
   "name": "python",
   "version": "3.7.9",
   "mimetype": "text/x-python",
   "codemirror_mode": {
    "name": "ipython",
    "version": 3
   },
   "pygments_lexer": "ipython3",
   "nbconvert_exporter": "python",
   "file_extension": ".py"
  },
  "kernelspec": {
   "name": "python3",
   "display_name": "Python 3.7.9 64-bit"
  },
  "interpreter": {
   "hash": "44b587bdbd3bfaa54601477ce1326b7d527a431c153e76c0e9ba3ad4e8e32186"
  }
 },
 "nbformat": 4,
 "nbformat_minor": 2
}