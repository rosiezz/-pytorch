{
 "cells": [
  {
   "cell_type": "markdown",
   "metadata": {},
   "source": [
    "# 1 预备知识\n",
    "## 1.1 数据操作"
   ]
  },
  {
   "cell_type": "code",
   "execution_count": 8,
   "metadata": {},
   "outputs": [],
   "source": [
    "import torch"
   ]
  },
  {
   "cell_type": "code",
   "execution_count": 9,
   "metadata": {},
   "outputs": [
    {
     "name": "stdout",
     "output_type": "stream",
     "text": [
      "torch.Size([4])\n",
      "4\n",
      "tensor([[0, 1],\n",
      "        [2, 3]])\n",
      "tensor([[[0., 0.],\n",
      "         [0., 0.]],\n",
      "\n",
      "        [[0., 0.],\n",
      "         [0., 0.]]])\n",
      "tensor([[2, 1, 4],\n",
      "        [1, 2, 3]])\n",
      "tensor([ 1,  6, 10,  6]) tensor([-1, -4, -6,  0]) tensor([ 0,  5, 16,  9]) tensor([0.0000, 0.2000, 0.2500, 1.0000]) tensor([  0,   1, 256,  27])\n"
     ]
    }
   ],
   "source": [
    "x=torch.arange(4)\n",
    "\n",
    "## 张量的形状，向量，一维数组\n",
    "print(x.shape)\n",
    "\n",
    "# 张量中元素的总数，标量\n",
    "print(x.numel())\n",
    "\n",
    "# 改变张量的形状，不改变数量和元素值\n",
    "print(x.reshape(2,2))\n",
    "\n",
    "# 使用全0或者全1、其他常量或者从特定分布中随机采样的数字\n",
    "\n",
    "print(torch.zeros(2,2,2))\n",
    "\n",
    "# 通过提供包含数值的python列表（或者嵌套列表）来为所需张量中的每个元素赋予确定值\n",
    "print(torch.tensor([[2,1,4],[1,2,3]]))\n",
    "\n",
    "# 常见的标准算术运算符都可以被升级为按元素运算\n",
    "y=torch.tensor([1,5,8,3])\n",
    "print(x+y,x-y,x*y,x/y,x**y)\n",
    "\n"
   ]
  },
  {
   "cell_type": "markdown",
   "metadata": {},
   "source": [
    "### 广播机制"
   ]
  },
  {
   "cell_type": "code",
   "execution_count": 10,
   "metadata": {},
   "outputs": [
    {
     "name": "stdout",
     "output_type": "stream",
     "text": [
      "tensor([[0., 1., 2.],\n",
      "        [3., 4., 5.],\n",
      "        [2., 1., 4.],\n",
      "        [5., 8., 2.]])\n",
      "tensor([[0., 1., 2., 2., 1., 4.],\n",
      "        [3., 4., 5., 5., 8., 2.]])\n",
      "tensor([[False,  True, False],\n",
      "        [False, False, False]])\n",
      "tensor([[0],\n",
      "        [1],\n",
      "        [2]]) tensor([[0, 1]]) tensor([[0, 1],\n",
      "        [1, 2],\n",
      "        [2, 3]])\n",
      "tensor([2])\n",
      "tensor([[1],\n",
      "        [2]])\n",
      "tensor([[10],\n",
      "        [ 1],\n",
      "        [ 2]])\n"
     ]
    }
   ],
   "source": [
    "# 把多个张量连结在一起\n",
    "a=torch.arange(6,dtype=torch.float32).reshape((2,3))\n",
    "b=torch.tensor([[2.0,1,4],[5,8,2]])\n",
    "c=torch.concat((a,b),dim=0)#行堆积\n",
    "d=torch.concat((a,b),dim=1)#列堆积\n",
    "print(c)\n",
    "print(d)\n",
    "\n",
    "# 用逻辑运算符构建二元张量\n",
    "print(a==b)\n",
    "\n",
    "#即使形状不同，仍然可以用广播机制来执行元素操作\n",
    "## 程序会将张量自动复制成形状相同的张量进行元素相加\n",
    "a=torch.arange(3).reshape((3,1))\n",
    "b=torch.arange(2).reshape((1,2))\n",
    "print(a,b,a+b)\n",
    "\n",
    "# 访问元素\n",
    "print(a[-1])\n",
    "print(a[1:3])\n",
    "\n",
    "# 写值\n",
    "a[0:1]=10\n",
    "print(a)"
   ]
  },
  {
   "cell_type": "code",
   "execution_count": 11,
   "metadata": {},
   "outputs": [
    {
     "name": "stdout",
     "output_type": "stream",
     "text": [
      "3112312010928\n",
      "False\n",
      "3112312012688\n",
      "3112312012688\n",
      "3112219480128\n",
      "True\n"
     ]
    }
   ],
   "source": [
    "# 运行一些操作可能会导致为新结果分配内存\n",
    "before=id(y)\n",
    "print(before)\n",
    "y=y+x\n",
    "print(id(y)==before)\n",
    "\n",
    "# 执行原地操作,创造一个z，内存没发生变化\n",
    "z=torch.zeros_like(y)\n",
    "print(id(z))\n",
    "z[:]=x+y\n",
    "print(id(z))\n",
    "\n",
    "# 若后续计算没有重复使用x,也可以x[:]=x+y或x+=y来减少内存开销\n",
    "before=id(x)\n",
    "print(before)\n",
    "x+=y\n",
    "print(id(x)==before)"
   ]
  },
  {
   "cell_type": "code",
   "execution_count": 12,
   "metadata": {},
   "outputs": [
    {
     "name": "stdout",
     "output_type": "stream",
     "text": [
      "<class 'numpy.ndarray'> <class 'torch.Tensor'>\n",
      "tensor([3.5000]) 3.5 3.5 3\n"
     ]
    }
   ],
   "source": [
    "# 转为numpy张量\n",
    "m=x.numpy()\n",
    "n=torch.tensor(m)\n",
    "print(type(m),type(n))\n",
    "\n",
    "# 把大小为1的张量转为numpy标量\n",
    "a=torch.tensor([3.5])\n",
    "print(a,a.item(),float(a),int(a))\n"
   ]
  },
  {
   "cell_type": "code",
   "execution_count": 13,
   "metadata": {},
   "outputs": [
    {
     "name": "stdout",
     "output_type": "stream",
     "text": [
      "tensor([ 1,  7, 12,  9]) tensor([ 1,  6, 10,  6])\n",
      "tensor([False,  True,  True,  True])\n",
      "tensor([[[ 0,  1,  2,  3],\n",
      "         [ 4,  5,  6,  7],\n",
      "         [ 8,  9, 10, 11]]]) tensor([[[1, 2, 3, 4],\n",
      "         [1, 2, 3, 4],\n",
      "         [1, 2, 3, 4]],\n",
      "\n",
      "        [[2, 4, 6, 8],\n",
      "         [2, 4, 6, 8],\n",
      "         [2, 4, 6, 8]]])\n",
      "tensor([[[ 1,  3,  5,  7],\n",
      "         [ 5,  7,  9, 11],\n",
      "         [ 9, 11, 13, 15]],\n",
      "\n",
      "        [[ 2,  5,  8, 11],\n",
      "         [ 6,  9, 12, 15],\n",
      "         [10, 13, 16, 19]]])\n"
     ]
    }
   ],
   "source": [
    "## 练习\n",
    "## 1 将本节中的条件语句X == Y更改为X < Y或X > Y\n",
    "print(x,y)\n",
    "print(x>y)\n",
    "\n",
    "## 2 用其他形状（例如三维张量）替换广播机制中按元素操作的两个张量\n",
    "p=torch.arange(12).reshape((1,3,4))\n",
    "q=torch.tensor([[[1,2,3,4],[1,2,3,4],[1,2,3,4]],[[2,4,6,8],[2,4,6,8],[2,4,6,8]]])\n",
    "print(p,q)\n",
    "print(p+q)"
   ]
  },
  {
   "cell_type": "markdown",
   "metadata": {},
   "source": [
    "## 1.2 数据预处理"
   ]
  },
  {
   "cell_type": "code",
   "execution_count": 14,
   "metadata": {},
   "outputs": [
    {
     "name": "stdout",
     "output_type": "stream",
     "text": [
      "   NumRooms Alley   Price\n",
      "0       NaN  Pave  127500\n",
      "1       2.0   NaN  106000\n",
      "2       4.0   NaN  178100\n",
      "3       NaN   NaN  140000\n"
     ]
    }
   ],
   "source": [
    "import os\n",
    "import pandas as pd\n",
    "\n",
    "#创建数据集读取数据集\n",
    "os.makedirs(os.path.join('..', 'data'), exist_ok=True)\n",
    "data_file = os.path.join('..', 'data', 'house_tiny.csv')\n",
    "with open(data_file, 'w') as f:\n",
    "    f.write('NumRooms,Alley,Price\\n')  # 列名\n",
    "    f.write('NA,Pave,127500\\n')  # 每行表示一个数据样本\n",
    "    f.write('2,NA,106000\\n')\n",
    "    f.write('4,NA,178100\\n')\n",
    "    f.write('NA,NA,140000\\n')\n",
    "\n",
    "data=pd.read_csv(data_file)\n",
    "print(data)"
   ]
  },
  {
   "cell_type": "code",
   "execution_count": 15,
   "metadata": {},
   "outputs": [
    {
     "name": "stdout",
     "output_type": "stream",
     "text": [
      "   NumRooms Alley\n",
      "0       3.0  Pave\n",
      "1       2.0   NaN\n",
      "2       4.0   NaN\n",
      "3       3.0   NaN\n",
      "   NumRooms  Alley_Pave  Alley_nan\n",
      "0       3.0           1          0\n",
      "1       2.0           0          1\n",
      "2       4.0           0          1\n",
      "3       3.0           0          1\n"
     ]
    }
   ],
   "source": [
    "# 处理缺失值\n",
    "## 这里举例插值\n",
    "inputs,outputs=data.iloc[:,0:2],data.iloc[:,2]\n",
    "inputs=inputs.fillna(inputs.mean())\n",
    "print(inputs)\n",
    "\n",
    "## 对于inputs中的类别值或离散值，将NaN视为一个类别\n",
    "inputs=pd.get_dummies(inputs,dummy_na=True)\n",
    "print(inputs)"
   ]
  },
  {
   "cell_type": "code",
   "execution_count": 16,
   "metadata": {},
   "outputs": [
    {
     "name": "stdout",
     "output_type": "stream",
     "text": [
      "tensor([[3., 1., 0.],\n",
      "        [2., 0., 1.],\n",
      "        [4., 0., 1.],\n",
      "        [3., 0., 1.]], dtype=torch.float64) tensor([127500, 106000, 178100, 140000])\n"
     ]
    }
   ],
   "source": [
    "# 转换为张量格式\n",
    "## 现在inputs和outputs中的所有条目都是数值类型\n",
    "X, y = torch.tensor(inputs.values), torch.tensor(outputs.values)\n",
    "print(X,y)"
   ]
  },
  {
   "cell_type": "code",
   "execution_count": 17,
   "metadata": {},
   "outputs": [
    {
     "name": "stdout",
     "output_type": "stream",
     "text": [
      "   NumRooms Alley   Price\n",
      "0       NaN  Pave  127500\n",
      "1       2.0   NaN  106000\n",
      "2       4.0   NaN  178100\n",
      "3       NaN   NaN  140000\n",
      "   NumRooms   Price\n",
      "0       NaN  127500\n",
      "1       2.0  106000\n",
      "2       4.0  178100\n",
      "3       NaN  140000\n",
      "   2.0  4.0  NaN\n",
      "0    0    0    1\n",
      "1    1    0    0\n",
      "2    0    1    0\n",
      "3    0    0    1\n",
      "0    127500\n",
      "1    106000\n",
      "2    178100\n",
      "3    140000\n",
      "Name: Price, dtype: int64\n",
      "tensor([[0, 0, 1],\n",
      "        [1, 0, 0],\n",
      "        [0, 1, 0],\n",
      "        [0, 0, 1]], dtype=torch.uint8) tensor([127500., 106000., 178100., 140000.])\n"
     ]
    }
   ],
   "source": [
    "# 练习\n",
    "## 删除缺失值最多的列\n",
    "print(data)\n",
    "sum = data.isna().sum()\n",
    "d = data.drop(columns=sum.index[sum.argmax()])\n",
    "print(d)\n",
    "\n",
    "## 将预处理后的数据集转换为张量格式。\n",
    "inp,outp=d.iloc[:,0],d.iloc[:,1]\n",
    "inp=pd.get_dummies(inp,dummy_na=True)\n",
    "print(inp)\n",
    "print(outp)\n",
    "v,w = torch.tensor(inp.values), torch.tensor(outp.values,dtype=torch.float32)\n",
    "print(v,w)"
   ]
  },
  {
   "cell_type": "markdown",
   "metadata": {},
   "source": [
    "# 2 线性代数"
   ]
  },
  {
   "cell_type": "code",
   "execution_count": 18,
   "metadata": {},
   "outputs": [],
   "source": [
    "import torch"
   ]
  },
  {
   "cell_type": "markdown",
   "metadata": {},
   "source": [
    "## 2.1 标量"
   ]
  },
  {
   "cell_type": "code",
   "execution_count": 19,
   "metadata": {},
   "outputs": [
    {
     "data": {
      "text/plain": [
       "(tensor(5.), tensor(6.), tensor(1.5000), tensor(9.))"
      ]
     },
     "execution_count": 19,
     "metadata": {},
     "output_type": "execute_result"
    }
   ],
   "source": [
    "# 标量由只有一个元素的张量表示\n",
    "x = torch.tensor(3.0)\n",
    "y = torch.tensor(2.0)\n",
    "\n",
    "x + y, x * y, x / y, x**y"
   ]
  },
  {
   "cell_type": "markdown",
   "metadata": {},
   "source": [
    "## 2.2 向量"
   ]
  },
  {
   "cell_type": "code",
   "execution_count": 20,
   "metadata": {},
   "outputs": [
    {
     "name": "stdout",
     "output_type": "stream",
     "text": [
      "tensor([0, 1, 2, 3])\n"
     ]
    },
    {
     "data": {
      "text/plain": [
       "torch.Size([4])"
      ]
     },
     "execution_count": 20,
     "metadata": {},
     "output_type": "execute_result"
    }
   ],
   "source": [
    "# 向量可以被视为标量值组成的列表。 这些标量值被称为向量的元素（element）或分量（component）。\n",
    "# 一维张量表示向量。一般来说，张量可以具有任意长度，取决于机器的内存限制。\n",
    "x = torch.arange(4)\n",
    "print(x)\n",
    "# 访问元素\n",
    "x[3]\n",
    "# 长度\n",
    "len(x)\n",
    "# 形状\n",
    "x.shape\n"
   ]
  },
  {
   "cell_type": "markdown",
   "metadata": {},
   "source": [
    "## 2.3 矩阵"
   ]
  },
  {
   "cell_type": "code",
   "execution_count": 21,
   "metadata": {},
   "outputs": [
    {
     "data": {
      "text/plain": [
       "tensor([[ 0,  4,  8, 12, 16],\n",
       "        [ 1,  5,  9, 13, 17],\n",
       "        [ 2,  6, 10, 14, 18],\n",
       "        [ 3,  7, 11, 15, 19]])"
      ]
     },
     "execution_count": 21,
     "metadata": {},
     "output_type": "execute_result"
    }
   ],
   "source": [
    "# 当调用函数来实例化张量时， 我们可以通过指定两个分量m和n来创建一个形状为m*n的矩阵。\n",
    "\n",
    "A = torch.arange(20).reshape(5, 4)\n",
    "A\n",
    "# 转置\n",
    "A.T\n"
   ]
  },
  {
   "cell_type": "code",
   "execution_count": 22,
   "metadata": {},
   "outputs": [
    {
     "name": "stdout",
     "output_type": "stream",
     "text": [
      "tensor([[1, 2, 3],\n",
      "        [2, 0, 4],\n",
      "        [3, 4, 5]])\n"
     ]
    },
    {
     "data": {
      "text/plain": [
       "tensor([[True, True, True],\n",
       "        [True, True, True],\n",
       "        [True, True, True]])"
      ]
     },
     "execution_count": 22,
     "metadata": {},
     "output_type": "execute_result"
    }
   ],
   "source": [
    "# 方阵的对称矩阵\n",
    "B = torch.tensor([[1, 2, 3], [2, 0, 4], [3, 4, 5]])\n",
    "print(B)\n",
    "B==B.T\n"
   ]
  },
  {
   "cell_type": "markdown",
   "metadata": {},
   "source": [
    "## 2.4 张量"
   ]
  },
  {
   "cell_type": "code",
   "execution_count": 23,
   "metadata": {},
   "outputs": [
    {
     "data": {
      "text/plain": [
       "tensor([[[ 0,  1,  2,  3],\n",
       "         [ 4,  5,  6,  7],\n",
       "         [ 8,  9, 10, 11]],\n",
       "\n",
       "        [[12, 13, 14, 15],\n",
       "         [16, 17, 18, 19],\n",
       "         [20, 21, 22, 23]]])"
      ]
     },
     "execution_count": 23,
     "metadata": {},
     "output_type": "execute_result"
    }
   ],
   "source": [
    "X = torch.arange(24).reshape(2, 3, 4)\n",
    "X"
   ]
  },
  {
   "cell_type": "code",
   "execution_count": 24,
   "metadata": {},
   "outputs": [
    {
     "data": {
      "text/plain": [
       "(tensor([[ 0.,  1.,  2.,  3.],\n",
       "         [ 4.,  5.,  6.,  7.],\n",
       "         [ 8.,  9., 10., 11.],\n",
       "         [12., 13., 14., 15.],\n",
       "         [16., 17., 18., 19.]]),\n",
       " tensor([[ 0.,  2.,  4.,  6.],\n",
       "         [ 8., 10., 12., 14.],\n",
       "         [16., 18., 20., 22.],\n",
       "         [24., 26., 28., 30.],\n",
       "         [32., 34., 36., 38.]]))"
      ]
     },
     "execution_count": 24,
     "metadata": {},
     "output_type": "execute_result"
    }
   ],
   "source": [
    "# 张量算法的基本性质\n",
    "\n",
    "## 加减乘除基本运算\n",
    "A = torch.arange(20, dtype=torch.float32).reshape(5, 4)\n",
    "B = A.clone()  # 通过分配新内存，将A的一个副本分配给B\n",
    "A, A + B"
   ]
  },
  {
   "cell_type": "code",
   "execution_count": 25,
   "metadata": {},
   "outputs": [
    {
     "data": {
      "text/plain": [
       "tensor([[  0.,   1.,   4.,   9.],\n",
       "        [ 16.,  25.,  36.,  49.],\n",
       "        [ 64.,  81., 100., 121.],\n",
       "        [144., 169., 196., 225.],\n",
       "        [256., 289., 324., 361.]])"
      ]
     },
     "execution_count": 25,
     "metadata": {},
     "output_type": "execute_result"
    }
   ],
   "source": [
    "## 两个矩阵的按元素乘法称为Hadamard积\n",
    "A * B"
   ]
  },
  {
   "cell_type": "code",
   "execution_count": 26,
   "metadata": {},
   "outputs": [
    {
     "data": {
      "text/plain": [
       "(tensor([[[ 2,  3,  4,  5],\n",
       "          [ 6,  7,  8,  9],\n",
       "          [10, 11, 12, 13]],\n",
       " \n",
       "         [[14, 15, 16, 17],\n",
       "          [18, 19, 20, 21],\n",
       "          [22, 23, 24, 25]]]),\n",
       " torch.Size([2, 3, 4]))"
      ]
     },
     "execution_count": 26,
     "metadata": {},
     "output_type": "execute_result"
    }
   ],
   "source": [
    "## 张量乘以或加上一个标量\n",
    "### 不会改变张量的形状，其中张量的每个元素都将与标量相加或相乘\n",
    "a = 2\n",
    "X = torch.arange(24).reshape(2, 3, 4)\n",
    "a + X, (a * X).shape"
   ]
  },
  {
   "cell_type": "markdown",
   "metadata": {},
   "source": [
    "## 2.5 降维"
   ]
  },
  {
   "cell_type": "code",
   "execution_count": 27,
   "metadata": {},
   "outputs": [
    {
     "data": {
      "text/plain": [
       "(tensor([[ 0.,  1.,  2.,  3.],\n",
       "         [ 4.,  5.,  6.,  7.],\n",
       "         [ 8.,  9., 10., 11.],\n",
       "         [12., 13., 14., 15.],\n",
       "         [16., 17., 18., 19.]]),\n",
       " torch.Size([5, 4]),\n",
       " tensor(190.),\n",
       " tensor(6.))"
      ]
     },
     "execution_count": 27,
     "metadata": {},
     "output_type": "execute_result"
    }
   ],
   "source": [
    "## 元素求和\n",
    "x = torch.arange(4, dtype=torch.float32)\n",
    "x, x.shape, x.sum()\n",
    "A,A.shape, A.sum(),A[1][2]\n"
   ]
  },
  {
   "cell_type": "code",
   "execution_count": 28,
   "metadata": {},
   "outputs": [
    {
     "data": {
      "text/plain": [
       "(tensor([40., 45., 50., 55.]), torch.Size([4]))"
      ]
     },
     "execution_count": 28,
     "metadata": {},
     "output_type": "execute_result"
    }
   ],
   "source": [
    "## 默认情况下，求和会沿所有轴降低张量维度\n",
    "## 可以指定张量沿哪个轴降低维度\n",
    "A_sum_axis0 = A.sum(axis=0)# 沿行降低维度,行消失\n",
    "A_sum_axis0, A_sum_axis0.shape"
   ]
  },
  {
   "cell_type": "code",
   "execution_count": 29,
   "metadata": {},
   "outputs": [
    {
     "data": {
      "text/plain": [
       "(tensor([ 6., 22., 38., 54., 70.]), torch.Size([5]))"
      ]
     },
     "execution_count": 29,
     "metadata": {},
     "output_type": "execute_result"
    }
   ],
   "source": [
    "A_sum_axis1 = A.sum(axis=1)\n",
    "A_sum_axis1, A_sum_axis1.shape"
   ]
  },
  {
   "cell_type": "code",
   "execution_count": 30,
   "metadata": {},
   "outputs": [
    {
     "data": {
      "text/plain": [
       "tensor(190.)"
      ]
     },
     "execution_count": 30,
     "metadata": {},
     "output_type": "execute_result"
    }
   ],
   "source": [
    "A.sum(axis=[0, 1])  # 结果和A.sum()相同"
   ]
  },
  {
   "cell_type": "code",
   "execution_count": 31,
   "metadata": {},
   "outputs": [
    {
     "data": {
      "text/plain": [
       "(tensor(9.5000), tensor(9.5000))"
      ]
     },
     "execution_count": 31,
     "metadata": {},
     "output_type": "execute_result"
    }
   ],
   "source": [
    "## 平均值\n",
    "A.mean(), A.sum() / A.numel()"
   ]
  },
  {
   "cell_type": "code",
   "execution_count": 32,
   "metadata": {},
   "outputs": [
    {
     "data": {
      "text/plain": [
       "(tensor([ 8.,  9., 10., 11.]), tensor([ 8.,  9., 10., 11.]))"
      ]
     },
     "execution_count": 32,
     "metadata": {},
     "output_type": "execute_result"
    }
   ],
   "source": [
    "## 沿指定轴计算平均值\n",
    "A.mean(axis=0), A.sum(axis=0) / A.shape[0]"
   ]
  },
  {
   "cell_type": "code",
   "execution_count": 33,
   "metadata": {},
   "outputs": [
    {
     "data": {
      "text/plain": [
       "tensor([[0.0000, 0.1667, 0.3333, 0.5000],\n",
       "        [0.1818, 0.2273, 0.2727, 0.3182],\n",
       "        [0.2105, 0.2368, 0.2632, 0.2895],\n",
       "        [0.2222, 0.2407, 0.2593, 0.2778],\n",
       "        [0.2286, 0.2429, 0.2571, 0.2714]])"
      ]
     },
     "execution_count": 33,
     "metadata": {},
     "output_type": "execute_result"
    }
   ],
   "source": [
    "## 非降维求和\n",
    "###但是，有时在调用函数来计算总和或均值时保持轴数不变会很有用。\n",
    "sum_A = A.sum(axis=1, keepdims=True)\n",
    "sum_A\n",
    "A/sum_A"
   ]
  },
  {
   "cell_type": "code",
   "execution_count": 34,
   "metadata": {},
   "outputs": [
    {
     "data": {
      "text/plain": [
       "(tensor([[ 0.,  1.,  2.,  3.],\n",
       "         [ 4.,  5.,  6.,  7.],\n",
       "         [ 8.,  9., 10., 11.],\n",
       "         [12., 13., 14., 15.],\n",
       "         [16., 17., 18., 19.]]),\n",
       " tensor([[ 0.,  1.,  2.,  3.],\n",
       "         [ 4.,  6.,  8., 10.],\n",
       "         [12., 15., 18., 21.],\n",
       "         [24., 28., 32., 36.],\n",
       "         [40., 45., 50., 55.]]))"
      ]
     },
     "execution_count": 34,
     "metadata": {},
     "output_type": "execute_result"
    }
   ],
   "source": [
    "## 累积元素求和\n",
    "A,A.cumsum(axis=0)\n"
   ]
  },
  {
   "cell_type": "markdown",
   "metadata": {},
   "source": [
    "## 2.6 点积"
   ]
  },
  {
   "cell_type": "code",
   "execution_count": 35,
   "metadata": {},
   "outputs": [
    {
     "data": {
      "text/plain": [
       "(tensor([0., 1., 2., 3.]), tensor([1., 1., 1., 1.]), tensor(6.))"
      ]
     },
     "execution_count": 35,
     "metadata": {},
     "output_type": "execute_result"
    }
   ],
   "source": [
    "y = torch.ones(4, dtype = torch.float32)\n",
    "x, y, torch.dot(x, y)"
   ]
  },
  {
   "cell_type": "code",
   "execution_count": 36,
   "metadata": {},
   "outputs": [
    {
     "data": {
      "text/plain": [
       "tensor(6.)"
      ]
     },
     "execution_count": 36,
     "metadata": {},
     "output_type": "execute_result"
    }
   ],
   "source": [
    "# 元素乘法+求和\n",
    "torch.sum(x * y)"
   ]
  },
  {
   "cell_type": "markdown",
   "metadata": {},
   "source": [
    "## 2.7 矩阵-向量积"
   ]
  },
  {
   "cell_type": "code",
   "execution_count": 37,
   "metadata": {},
   "outputs": [
    {
     "data": {
      "text/plain": [
       "(tensor([[ 0.,  1.,  2.,  3.],\n",
       "         [ 4.,  5.,  6.,  7.],\n",
       "         [ 8.,  9., 10., 11.],\n",
       "         [12., 13., 14., 15.],\n",
       "         [16., 17., 18., 19.]]),\n",
       " tensor([0., 1., 2., 3.]),\n",
       " torch.Size([5, 4]),\n",
       " torch.Size([4]),\n",
       " tensor([ 14.,  38.,  62.,  86., 110.]))"
      ]
     },
     "execution_count": 37,
     "metadata": {},
     "output_type": "execute_result"
    }
   ],
   "source": [
    "A,x,A.shape, x.shape, torch.mv(A, x)"
   ]
  },
  {
   "cell_type": "markdown",
   "metadata": {},
   "source": [
    "## 2.8 矩阵-矩阵乘法"
   ]
  },
  {
   "cell_type": "code",
   "execution_count": 38,
   "metadata": {},
   "outputs": [
    {
     "data": {
      "text/plain": [
       "(tensor([[ 0.,  1.,  2.,  3.],\n",
       "         [ 4.,  5.,  6.,  7.],\n",
       "         [ 8.,  9., 10., 11.],\n",
       "         [12., 13., 14., 15.],\n",
       "         [16., 17., 18., 19.]]),\n",
       " tensor([[1., 1., 1.],\n",
       "         [1., 1., 1.],\n",
       "         [1., 1., 1.],\n",
       "         [1., 1., 1.]]),\n",
       " tensor([[ 6.,  6.,  6.],\n",
       "         [22., 22., 22.],\n",
       "         [38., 38., 38.],\n",
       "         [54., 54., 54.],\n",
       "         [70., 70., 70.]]))"
      ]
     },
     "execution_count": 38,
     "metadata": {},
     "output_type": "execute_result"
    }
   ],
   "source": [
    "B = torch.ones(4, 3)\n",
    "\n",
    "A,B,torch.mm(A, B)"
   ]
  },
  {
   "cell_type": "markdown",
   "metadata": {},
   "source": [
    "## 2.9 范数\n",
    "向量的范数是表示一个向量有多大。 这里考虑的大小（size）概念不涉及维度，而是分量的大小。\n",
    "L2范数和 L1范数是更一般Lp范数的特例：\n",
    " $||x||_p=(\\sum|x_i|^p)^{1/p}$\n",
    "矩阵的范数\n",
    " $||X||_p=(\\sum\\sum|x_{ij}^2)^{1/2}$\n",
    "\n",
    "#### 范数和目标\n",
    "在深度学习中，我们经常试图解决优化问题： 最大化分配给观测数据的概率; 最小化预测和真实观测之间的距离。 用向量表示物品（如单词、产品或新闻文章），以便最小化相似项目之间的距离，最大化不同项目之间的距离。 目标，或许是深度学习算法最重要的组成部分（除了数据），通常被表达为范数。"
   ]
  },
  {
   "cell_type": "code",
   "execution_count": 39,
   "metadata": {},
   "outputs": [
    {
     "data": {
      "text/plain": [
       "tensor(5.)"
      ]
     },
     "execution_count": 39,
     "metadata": {},
     "output_type": "execute_result"
    }
   ],
   "source": [
    "## L2范数是向量元素平方和的平方根\n",
    "u = torch.tensor([3.0, -4.0])\n",
    "torch.norm(u)\n"
   ]
  },
  {
   "cell_type": "code",
   "execution_count": 40,
   "metadata": {},
   "outputs": [
    {
     "data": {
      "text/plain": [
       "tensor(7.)"
      ]
     },
     "execution_count": 40,
     "metadata": {},
     "output_type": "execute_result"
    }
   ],
   "source": [
    "## L1范数是向量元素的绝对值之和\n",
    "## 与L2范数相比，L1范数受异常值的影响较小。为了计算L1范数，我们将绝对值函数和按元素求和组合起来。\n",
    "torch.abs(u).sum()"
   ]
  },
  {
   "cell_type": "code",
   "execution_count": 41,
   "metadata": {},
   "outputs": [
    {
     "data": {
      "text/plain": [
       "(tensor([[1., 1., 1., 1., 1., 1., 1., 1., 1.],\n",
       "         [1., 1., 1., 1., 1., 1., 1., 1., 1.],\n",
       "         [1., 1., 1., 1., 1., 1., 1., 1., 1.],\n",
       "         [1., 1., 1., 1., 1., 1., 1., 1., 1.]]),\n",
       " tensor(6.))"
      ]
     },
     "execution_count": 41,
     "metadata": {},
     "output_type": "execute_result"
    }
   ],
   "source": [
    "## Frobenius范数满足向量范数的所有性质\n",
    "A=torch.ones((4, 9))\n",
    "A,torch.norm(A)"
   ]
  },
  {
   "cell_type": "markdown",
   "metadata": {},
   "source": [
    "## 2.10 练习"
   ]
  },
  {
   "cell_type": "code",
   "execution_count": 42,
   "metadata": {},
   "outputs": [
    {
     "data": {
      "text/plain": [
       "(tensor([[1., 1., 1., 1., 1., 1., 1., 1., 1.],\n",
       "         [1., 1., 1., 1., 1., 1., 1., 1., 1.],\n",
       "         [1., 1., 1., 1., 1., 1., 1., 1., 1.],\n",
       "         [1., 1., 1., 1., 1., 1., 1., 1., 1.]]),\n",
       " tensor([[1., 1., 1., 1.],\n",
       "         [1., 1., 1., 1.],\n",
       "         [1., 1., 1., 1.],\n",
       "         [1., 1., 1., 1.],\n",
       "         [1., 1., 1., 1.],\n",
       "         [1., 1., 1., 1.],\n",
       "         [1., 1., 1., 1.],\n",
       "         [1., 1., 1., 1.],\n",
       "         [1., 1., 1., 1.]]),\n",
       " tensor([[1., 1., 1., 1., 1., 1., 1., 1., 1.],\n",
       "         [1., 1., 1., 1., 1., 1., 1., 1., 1.],\n",
       "         [1., 1., 1., 1., 1., 1., 1., 1., 1.],\n",
       "         [1., 1., 1., 1., 1., 1., 1., 1., 1.]]))"
      ]
     },
     "execution_count": 42,
     "metadata": {},
     "output_type": "execute_result"
    }
   ],
   "source": [
    "# 1.一个矩阵的转置的转置是它自己\n",
    "A,A.T,A.T.T"
   ]
  },
  {
   "cell_type": "code",
   "execution_count": 43,
   "metadata": {},
   "outputs": [
    {
     "data": {
      "text/plain": [
       "(tensor([[ 1.,  5.,  9.],\n",
       "         [ 2.,  6., 10.],\n",
       "         [ 3.,  7., 11.],\n",
       "         [ 4.,  8., 12.]]),\n",
       " tensor([[ 1.,  5.,  9.],\n",
       "         [ 2.,  6., 10.],\n",
       "         [ 3.,  7., 11.],\n",
       "         [ 4.,  8., 12.]]))"
      ]
     },
     "execution_count": 43,
     "metadata": {},
     "output_type": "execute_result"
    }
   ],
   "source": [
    "# 2.两个矩阵，证明“它们转置的和”等于“它们和的转置”\n",
    "A = torch.arange(12).reshape(3,4)\n",
    "B = torch.ones(3,4)\n",
    "(A+B).T,A.T+B.T"
   ]
  },
  {
   "cell_type": "code",
   "execution_count": 44,
   "metadata": {},
   "outputs": [
    {
     "data": {
      "text/plain": [
       "tensor([[ 0,  5, 10, 15],\n",
       "        [ 5, 10, 15, 20],\n",
       "        [10, 15, 20, 25],\n",
       "        [15, 20, 25, 30]])"
      ]
     },
     "execution_count": 44,
     "metadata": {},
     "output_type": "execute_result"
    }
   ],
   "source": [
    "# 3.任意方阵，A+A.T总是对称的吗?为什么?\n",
    "## 是\n",
    "A = torch.arange(16).reshape(4,4)\n",
    "A+A.T"
   ]
  },
  {
   "cell_type": "code",
   "execution_count": 45,
   "metadata": {},
   "outputs": [
    {
     "data": {
      "text/plain": [
       "(tensor([[[ 0,  1,  2,  3],\n",
       "          [ 4,  5,  6,  7],\n",
       "          [ 8,  9, 10, 11]],\n",
       " \n",
       "         [[12, 13, 14, 15],\n",
       "          [16, 17, 18, 19],\n",
       "          [20, 21, 22, 23]]]),\n",
       " 2)"
      ]
     },
     "execution_count": 45,
     "metadata": {},
     "output_type": "execute_result"
    }
   ],
   "source": [
    "# 4.形状（2，3，4）的张量X。len(X)的输出结果是什么？\n",
    "A = torch.arange(24).reshape(2,3,4)\n",
    "A,len(A)"
   ]
  },
  {
   "cell_type": "code",
   "execution_count": 46,
   "metadata": {},
   "outputs": [
    {
     "data": {
      "text/plain": [
       "(tensor([[[ 0,  1,  2,  3],\n",
       "          [ 4,  5,  6,  7],\n",
       "          [ 8,  9, 10, 11]],\n",
       " \n",
       "         [[12, 13, 14, 15],\n",
       "          [16, 17, 18, 19],\n",
       "          [20, 21, 22, 23]],\n",
       " \n",
       "         [[24, 25, 26, 27],\n",
       "          [28, 29, 30, 31],\n",
       "          [32, 33, 34, 35]],\n",
       " \n",
       "         [[36, 37, 38, 39],\n",
       "          [40, 41, 42, 43],\n",
       "          [44, 45, 46, 47]]]),\n",
       " 4)"
      ]
     },
     "execution_count": 46,
     "metadata": {},
     "output_type": "execute_result"
    }
   ],
   "source": [
    "# 5.任意形状的张量X,len(X)是否总是对应于X特定轴的长度?这个轴是什么\n",
    "# 是对应于特定轴的长度，应该是axis=2\n",
    "A = torch.arange(48).reshape(4,3,4)\n",
    "A,len(A)"
   ]
  },
  {
   "cell_type": "code",
   "execution_count": 47,
   "metadata": {},
   "outputs": [
    {
     "name": "stdout",
     "output_type": "stream",
     "text": [
      "torch.Size([3, 4]) torch.Size([3])\n",
      "tensor([[0.0000, 0.0667, 0.1111, 0.1429],\n",
      "        [0.3333, 0.3333, 0.3333, 0.3333],\n",
      "        [0.6667, 0.6000, 0.5556, 0.5238]])\n"
     ]
    },
    {
     "data": {
      "text/plain": [
       "(torch.Size([4, 4]),\n",
       " torch.Size([4]),\n",
       " tensor([[0.0000, 0.0455, 0.0526, 0.0556],\n",
       "         [0.6667, 0.2273, 0.1579, 0.1296],\n",
       "         [1.3333, 0.4091, 0.2632, 0.2037],\n",
       "         [2.0000, 0.5909, 0.3684, 0.2778]]))"
      ]
     },
     "execution_count": 47,
     "metadata": {},
     "output_type": "execute_result"
    }
   ],
   "source": [
    "# 6.运行A/A.sum(axis=1)\n",
    "A = torch.arange(12).reshape(3,4)\n",
    "print(A.shape,A.sum(axis=1).shape)#列消失\n",
    "print(A/A.sum(axis=0))\n",
    "B = torch.arange(16).reshape(4,4)\n",
    "B.shape,B.sum(axis=1).shape,B/B.sum(axis=1)"
   ]
  },
  {
   "cell_type": "code",
   "execution_count": 48,
   "metadata": {},
   "outputs": [
    {
     "data": {
      "text/plain": [
       "(tensor([[[ 0,  1,  2,  3],\n",
       "          [ 4,  5,  6,  7],\n",
       "          [ 8,  9, 10, 11]],\n",
       " \n",
       "         [[12, 13, 14, 15],\n",
       "          [16, 17, 18, 19],\n",
       "          [20, 21, 22, 23]]]),\n",
       " torch.Size([3, 4]),\n",
       " torch.Size([2, 4]),\n",
       " torch.Size([2, 3]))"
      ]
     },
     "execution_count": 48,
     "metadata": {},
     "output_type": "execute_result"
    }
   ],
   "source": [
    "# 7.考虑一个具有形状(2,3,4)的张量，在轴0、1、2上的求和输出是什么形状?\n",
    "A = torch.arange(24).reshape(2,3,4)\n",
    "A,A.sum(axis=0).shape,A.sum(axis=1).shape,A.sum(axis=2).shape\n",
    "#面消失，列消失，行消失"
   ]
  },
  {
   "cell_type": "code",
   "execution_count": 49,
   "metadata": {},
   "outputs": [
    {
     "data": {
      "text/plain": [
       "(tensor([[[ 0.2605,  0.3793, -0.2679,  0.3022],\n",
       "          [-1.6352,  1.0393,  0.3542, -0.3184],\n",
       "          [ 1.8391, -0.0698,  0.7222,  0.3123]],\n",
       " \n",
       "         [[ 0.7010, -0.0454,  1.2480,  1.7198],\n",
       "          [-0.6909,  0.3297, -0.7733,  1.1702],\n",
       "          [-0.3396, -0.3399, -0.0069, -1.0231]]]),\n",
       " tensor(4.1475),\n",
       " tensor(4.1475))"
      ]
     },
     "execution_count": 49,
     "metadata": {},
     "output_type": "execute_result"
    }
   ],
   "source": [
    "# 8.为linalg.norm函数提供3个或更多轴的张量，并观察其输出。对于任意形状的张量这个函数计算得到什么?\n",
    "A = torch.randn(2,3,4)\n",
    "B = torch.ones(2,3,4)\n",
    "A,torch.linalg.norm(A),torch.norm(A)"
   ]
  },
  {
   "cell_type": "markdown",
   "metadata": {},
   "source": [
    "# 3 微积分\n",
    "## 3.1 导数和微分\n",
    "微分和积分是微积分的两个分支，前者可以应用于深度学习中的优化问题\n",
    "导数可以被解释为函数相对于其变量的瞬时变化率，它也是函数曲线的切线的斜率"
   ]
  },
  {
   "cell_type": "code",
   "execution_count": 50,
   "metadata": {},
   "outputs": [],
   "source": [
    "import numpy as np\n",
    "from matplotlib_inline import backend_inline\n",
    "from d2l import torch as d2l"
   ]
  },
  {
   "cell_type": "code",
   "execution_count": 51,
   "metadata": {},
   "outputs": [
    {
     "data": {
      "image/svg+xml": "<?xml version=\"1.0\" encoding=\"utf-8\" standalone=\"no\"?>\n<!DOCTYPE svg PUBLIC \"-//W3C//DTD SVG 1.1//EN\"\n  \"http://www.w3.org/Graphics/SVG/1.1/DTD/svg11.dtd\">\n<svg xmlns:xlink=\"http://www.w3.org/1999/xlink\" width=\"243.529359pt\" height=\"183.35625pt\" viewBox=\"0 0 243.529359 183.35625\" xmlns=\"http://www.w3.org/2000/svg\" version=\"1.1\">\n <metadata>\n  <rdf:RDF xmlns:dc=\"http://purl.org/dc/elements/1.1/\" xmlns:cc=\"http://creativecommons.org/ns#\" xmlns:rdf=\"http://www.w3.org/1999/02/22-rdf-syntax-ns#\">\n   <cc:Work>\n    <dc:type rdf:resource=\"http://purl.org/dc/dcmitype/StillImage\"/>\n    <dc:date>2023-03-20T11:38:17.528706</dc:date>\n    <dc:format>image/svg+xml</dc:format>\n    <dc:creator>\n     <cc:Agent>\n      <dc:title>Matplotlib v3.5.1, https://matplotlib.org/</dc:title>\n     </cc:Agent>\n    </dc:creator>\n   </cc:Work>\n  </rdf:RDF>\n </metadata>\n <defs>\n  <style type=\"text/css\">*{stroke-linejoin: round; stroke-linecap: butt}</style>\n </defs>\n <g id=\"figure_1\">\n  <g id=\"patch_1\">\n   <path d=\"M 0 183.35625 \nL 243.529359 183.35625 \nL 243.529359 0 \nL 0 0 \nz\n\" style=\"fill: #ffffff\"/>\n  </g>\n  <g id=\"axes_1\">\n   <g id=\"patch_2\">\n    <path d=\"M 40.603125 145.8 \nL 235.903125 145.8 \nL 235.903125 7.2 \nL 40.603125 7.2 \nz\n\" style=\"fill: #ffffff\"/>\n   </g>\n   <g id=\"matplotlib.axis_1\">\n    <g id=\"xtick_1\">\n     <g id=\"line2d_1\">\n      <path d=\"M 49.480398 145.8 \nL 49.480398 7.2 \n\" clip-path=\"url(#p5a0a124b0a)\" style=\"fill: none; stroke: #b0b0b0; stroke-width: 0.8; stroke-linecap: square\"/>\n     </g>\n     <g id=\"line2d_2\">\n      <defs>\n       <path id=\"m914cecc6b8\" d=\"M 0 0 \nL 0 3.5 \n\" style=\"stroke: #000000; stroke-width: 0.8\"/>\n      </defs>\n      <g>\n       <use xlink:href=\"#m914cecc6b8\" x=\"49.480398\" y=\"145.8\" style=\"stroke: #000000; stroke-width: 0.8\"/>\n      </g>\n     </g>\n     <g id=\"text_1\">\n      <!-- 0 -->\n      <g transform=\"translate(46.299148 160.398438)scale(0.1 -0.1)\">\n       <defs>\n        <path id=\"DejaVuSans-30\" d=\"M 2034 4250 \nQ 1547 4250 1301 3770 \nQ 1056 3291 1056 2328 \nQ 1056 1369 1301 889 \nQ 1547 409 2034 409 \nQ 2525 409 2770 889 \nQ 3016 1369 3016 2328 \nQ 3016 3291 2770 3770 \nQ 2525 4250 2034 4250 \nz\nM 2034 4750 \nQ 2819 4750 3233 4129 \nQ 3647 3509 3647 2328 \nQ 3647 1150 3233 529 \nQ 2819 -91 2034 -91 \nQ 1250 -91 836 529 \nQ 422 1150 422 2328 \nQ 422 3509 836 4129 \nQ 1250 4750 2034 4750 \nz\n\" transform=\"scale(0.015625)\"/>\n       </defs>\n       <use xlink:href=\"#DejaVuSans-30\"/>\n      </g>\n     </g>\n    </g>\n    <g id=\"xtick_2\">\n     <g id=\"line2d_3\">\n      <path d=\"M 110.702968 145.8 \nL 110.702968 7.2 \n\" clip-path=\"url(#p5a0a124b0a)\" style=\"fill: none; stroke: #b0b0b0; stroke-width: 0.8; stroke-linecap: square\"/>\n     </g>\n     <g id=\"line2d_4\">\n      <g>\n       <use xlink:href=\"#m914cecc6b8\" x=\"110.702968\" y=\"145.8\" style=\"stroke: #000000; stroke-width: 0.8\"/>\n      </g>\n     </g>\n     <g id=\"text_2\">\n      <!-- 1 -->\n      <g transform=\"translate(107.521718 160.398438)scale(0.1 -0.1)\">\n       <defs>\n        <path id=\"DejaVuSans-31\" d=\"M 794 531 \nL 1825 531 \nL 1825 4091 \nL 703 3866 \nL 703 4441 \nL 1819 4666 \nL 2450 4666 \nL 2450 531 \nL 3481 531 \nL 3481 0 \nL 794 0 \nL 794 531 \nz\n\" transform=\"scale(0.015625)\"/>\n       </defs>\n       <use xlink:href=\"#DejaVuSans-31\"/>\n      </g>\n     </g>\n    </g>\n    <g id=\"xtick_3\">\n     <g id=\"line2d_5\">\n      <path d=\"M 171.925539 145.8 \nL 171.925539 7.2 \n\" clip-path=\"url(#p5a0a124b0a)\" style=\"fill: none; stroke: #b0b0b0; stroke-width: 0.8; stroke-linecap: square\"/>\n     </g>\n     <g id=\"line2d_6\">\n      <g>\n       <use xlink:href=\"#m914cecc6b8\" x=\"171.925539\" y=\"145.8\" style=\"stroke: #000000; stroke-width: 0.8\"/>\n      </g>\n     </g>\n     <g id=\"text_3\">\n      <!-- 2 -->\n      <g transform=\"translate(168.744289 160.398438)scale(0.1 -0.1)\">\n       <defs>\n        <path id=\"DejaVuSans-32\" d=\"M 1228 531 \nL 3431 531 \nL 3431 0 \nL 469 0 \nL 469 531 \nQ 828 903 1448 1529 \nQ 2069 2156 2228 2338 \nQ 2531 2678 2651 2914 \nQ 2772 3150 2772 3378 \nQ 2772 3750 2511 3984 \nQ 2250 4219 1831 4219 \nQ 1534 4219 1204 4116 \nQ 875 4013 500 3803 \nL 500 4441 \nQ 881 4594 1212 4672 \nQ 1544 4750 1819 4750 \nQ 2544 4750 2975 4387 \nQ 3406 4025 3406 3419 \nQ 3406 3131 3298 2873 \nQ 3191 2616 2906 2266 \nQ 2828 2175 2409 1742 \nQ 1991 1309 1228 531 \nz\n\" transform=\"scale(0.015625)\"/>\n       </defs>\n       <use xlink:href=\"#DejaVuSans-32\"/>\n      </g>\n     </g>\n    </g>\n    <g id=\"xtick_4\">\n     <g id=\"line2d_7\">\n      <path d=\"M 233.148109 145.8 \nL 233.148109 7.2 \n\" clip-path=\"url(#p5a0a124b0a)\" style=\"fill: none; stroke: #b0b0b0; stroke-width: 0.8; stroke-linecap: square\"/>\n     </g>\n     <g id=\"line2d_8\">\n      <g>\n       <use xlink:href=\"#m914cecc6b8\" x=\"233.148109\" y=\"145.8\" style=\"stroke: #000000; stroke-width: 0.8\"/>\n      </g>\n     </g>\n     <g id=\"text_4\">\n      <!-- 3 -->\n      <g transform=\"translate(229.966859 160.398438)scale(0.1 -0.1)\">\n       <defs>\n        <path id=\"DejaVuSans-33\" d=\"M 2597 2516 \nQ 3050 2419 3304 2112 \nQ 3559 1806 3559 1356 \nQ 3559 666 3084 287 \nQ 2609 -91 1734 -91 \nQ 1441 -91 1130 -33 \nQ 819 25 488 141 \nL 488 750 \nQ 750 597 1062 519 \nQ 1375 441 1716 441 \nQ 2309 441 2620 675 \nQ 2931 909 2931 1356 \nQ 2931 1769 2642 2001 \nQ 2353 2234 1838 2234 \nL 1294 2234 \nL 1294 2753 \nL 1863 2753 \nQ 2328 2753 2575 2939 \nQ 2822 3125 2822 3475 \nQ 2822 3834 2567 4026 \nQ 2313 4219 1838 4219 \nQ 1578 4219 1281 4162 \nQ 984 4106 628 3988 \nL 628 4550 \nQ 988 4650 1302 4700 \nQ 1616 4750 1894 4750 \nQ 2613 4750 3031 4423 \nQ 3450 4097 3450 3541 \nQ 3450 3153 3228 2886 \nQ 3006 2619 2597 2516 \nz\n\" transform=\"scale(0.015625)\"/>\n       </defs>\n       <use xlink:href=\"#DejaVuSans-33\"/>\n      </g>\n     </g>\n    </g>\n    <g id=\"text_5\">\n     <!-- x -->\n     <g transform=\"translate(135.29375 174.076563)scale(0.1 -0.1)\">\n      <defs>\n       <path id=\"DejaVuSans-78\" d=\"M 3513 3500 \nL 2247 1797 \nL 3578 0 \nL 2900 0 \nL 1881 1375 \nL 863 0 \nL 184 0 \nL 1544 1831 \nL 300 3500 \nL 978 3500 \nL 1906 2253 \nL 2834 3500 \nL 3513 3500 \nz\n\" transform=\"scale(0.015625)\"/>\n      </defs>\n      <use xlink:href=\"#DejaVuSans-78\"/>\n     </g>\n    </g>\n   </g>\n   <g id=\"matplotlib.axis_2\">\n    <g id=\"ytick_1\">\n     <g id=\"line2d_9\">\n      <path d=\"M 40.603125 116.769994 \nL 235.903125 116.769994 \n\" clip-path=\"url(#p5a0a124b0a)\" style=\"fill: none; stroke: #b0b0b0; stroke-width: 0.8; stroke-linecap: square\"/>\n     </g>\n     <g id=\"line2d_10\">\n      <defs>\n       <path id=\"m232dbc9174\" d=\"M 0 0 \nL -3.5 0 \n\" style=\"stroke: #000000; stroke-width: 0.8\"/>\n      </defs>\n      <g>\n       <use xlink:href=\"#m232dbc9174\" x=\"40.603125\" y=\"116.769994\" style=\"stroke: #000000; stroke-width: 0.8\"/>\n      </g>\n     </g>\n     <g id=\"text_6\">\n      <!-- 0 -->\n      <g transform=\"translate(27.240625 120.569213)scale(0.1 -0.1)\">\n       <use xlink:href=\"#DejaVuSans-30\"/>\n      </g>\n     </g>\n    </g>\n    <g id=\"ytick_2\">\n     <g id=\"line2d_11\">\n      <path d=\"M 40.603125 78.886651 \nL 235.903125 78.886651 \n\" clip-path=\"url(#p5a0a124b0a)\" style=\"fill: none; stroke: #b0b0b0; stroke-width: 0.8; stroke-linecap: square\"/>\n     </g>\n     <g id=\"line2d_12\">\n      <g>\n       <use xlink:href=\"#m232dbc9174\" x=\"40.603125\" y=\"78.886651\" style=\"stroke: #000000; stroke-width: 0.8\"/>\n      </g>\n     </g>\n     <g id=\"text_7\">\n      <!-- 5 -->\n      <g transform=\"translate(27.240625 82.685869)scale(0.1 -0.1)\">\n       <defs>\n        <path id=\"DejaVuSans-35\" d=\"M 691 4666 \nL 3169 4666 \nL 3169 4134 \nL 1269 4134 \nL 1269 2991 \nQ 1406 3038 1543 3061 \nQ 1681 3084 1819 3084 \nQ 2600 3084 3056 2656 \nQ 3513 2228 3513 1497 \nQ 3513 744 3044 326 \nQ 2575 -91 1722 -91 \nQ 1428 -91 1123 -41 \nQ 819 9 494 109 \nL 494 744 \nQ 775 591 1075 516 \nQ 1375 441 1709 441 \nQ 2250 441 2565 725 \nQ 2881 1009 2881 1497 \nQ 2881 1984 2565 2268 \nQ 2250 2553 1709 2553 \nQ 1456 2553 1204 2497 \nQ 953 2441 691 2322 \nL 691 4666 \nz\n\" transform=\"scale(0.015625)\"/>\n       </defs>\n       <use xlink:href=\"#DejaVuSans-35\"/>\n      </g>\n     </g>\n    </g>\n    <g id=\"ytick_3\">\n     <g id=\"line2d_13\">\n      <path d=\"M 40.603125 41.003307 \nL 235.903125 41.003307 \n\" clip-path=\"url(#p5a0a124b0a)\" style=\"fill: none; stroke: #b0b0b0; stroke-width: 0.8; stroke-linecap: square\"/>\n     </g>\n     <g id=\"line2d_14\">\n      <g>\n       <use xlink:href=\"#m232dbc9174\" x=\"40.603125\" y=\"41.003307\" style=\"stroke: #000000; stroke-width: 0.8\"/>\n      </g>\n     </g>\n     <g id=\"text_8\">\n      <!-- 10 -->\n      <g transform=\"translate(20.878125 44.802526)scale(0.1 -0.1)\">\n       <use xlink:href=\"#DejaVuSans-31\"/>\n       <use xlink:href=\"#DejaVuSans-30\" x=\"63.623047\"/>\n      </g>\n     </g>\n    </g>\n    <g id=\"text_9\">\n     <!-- f(x) -->\n     <g transform=\"translate(14.798437 85.121094)rotate(-90)scale(0.1 -0.1)\">\n      <defs>\n       <path id=\"DejaVuSans-66\" d=\"M 2375 4863 \nL 2375 4384 \nL 1825 4384 \nQ 1516 4384 1395 4259 \nQ 1275 4134 1275 3809 \nL 1275 3500 \nL 2222 3500 \nL 2222 3053 \nL 1275 3053 \nL 1275 0 \nL 697 0 \nL 697 3053 \nL 147 3053 \nL 147 3500 \nL 697 3500 \nL 697 3744 \nQ 697 4328 969 4595 \nQ 1241 4863 1831 4863 \nL 2375 4863 \nz\n\" transform=\"scale(0.015625)\"/>\n       <path id=\"DejaVuSans-28\" d=\"M 1984 4856 \nQ 1566 4138 1362 3434 \nQ 1159 2731 1159 2009 \nQ 1159 1288 1364 580 \nQ 1569 -128 1984 -844 \nL 1484 -844 \nQ 1016 -109 783 600 \nQ 550 1309 550 2009 \nQ 550 2706 781 3412 \nQ 1013 4119 1484 4856 \nL 1984 4856 \nz\n\" transform=\"scale(0.015625)\"/>\n       <path id=\"DejaVuSans-29\" d=\"M 513 4856 \nL 1013 4856 \nQ 1481 4119 1714 3412 \nQ 1947 2706 1947 2009 \nQ 1947 1309 1714 600 \nQ 1481 -109 1013 -844 \nL 513 -844 \nQ 928 -128 1133 580 \nQ 1338 1288 1338 2009 \nQ 1338 2731 1133 3434 \nQ 928 4138 513 4856 \nz\n\" transform=\"scale(0.015625)\"/>\n      </defs>\n      <use xlink:href=\"#DejaVuSans-66\"/>\n      <use xlink:href=\"#DejaVuSans-28\" x=\"35.205078\"/>\n      <use xlink:href=\"#DejaVuSans-78\" x=\"74.21875\"/>\n      <use xlink:href=\"#DejaVuSans-29\" x=\"133.398438\"/>\n     </g>\n    </g>\n   </g>\n   <g id=\"line2d_15\">\n    <path d=\"M 49.480398 116.769994 \nL 55.602655 119.573361 \nL 61.724912 121.922129 \nL 67.847169 123.816296 \nL 73.969426 125.255863 \nL 80.091683 126.24083 \nL 86.21394 126.771197 \nL 92.336197 126.846963 \nL 98.458454 126.46813 \nL 104.580711 125.634696 \nL 110.702968 124.346663 \nL 116.825225 122.604029 \nL 122.947482 120.406795 \nL 129.069739 117.754961 \nL 135.191996 114.648527 \nL 141.314254 111.087492 \nL 147.436511 107.071858 \nL 153.558768 102.601624 \nL 159.681025 97.676789 \nL 165.803282 92.297354 \nL 171.925539 86.463319 \nL 178.047796 80.174684 \nL 184.170053 73.431449 \nL 190.29231 66.233614 \nL 196.414567 58.581179 \nL 202.536824 50.474143 \nL 208.659081 41.912508 \nL 214.781338 32.896272 \nL 220.903595 23.425436 \nL 227.025852 13.5 \n\" clip-path=\"url(#p5a0a124b0a)\" style=\"fill: none; stroke: #1f77b4; stroke-width: 1.5; stroke-linecap: square\"/>\n   </g>\n   <g id=\"line2d_16\">\n    <path d=\"M 49.480398 139.5 \nL 55.602655 137.984666 \nL 61.724912 136.469333 \nL 67.847169 134.953999 \nL 73.969426 133.438665 \nL 80.091683 131.923331 \nL 86.21394 130.407998 \nL 92.336197 128.892664 \nL 98.458454 127.37733 \nL 104.580711 125.861996 \nL 110.702968 124.346663 \nL 116.825225 122.831329 \nL 122.947482 121.315995 \nL 129.069739 119.800661 \nL 135.191996 118.285328 \nL 141.314254 116.769994 \nL 147.436511 115.25466 \nL 153.558768 113.739327 \nL 159.681025 112.223993 \nL 165.803282 110.708659 \nL 171.925539 109.193325 \nL 178.047796 107.677992 \nL 184.170053 106.162658 \nL 190.29231 104.647324 \nL 196.414567 103.13199 \nL 202.536824 101.616657 \nL 208.659081 100.101323 \nL 214.781338 98.585989 \nL 220.903595 97.070655 \nL 227.025852 95.555322 \n\" clip-path=\"url(#p5a0a124b0a)\" style=\"fill: none; stroke-dasharray: 5.55,2.4; stroke-dashoffset: 0; stroke: #bf00bf; stroke-width: 1.5\"/>\n   </g>\n   <g id=\"patch_3\">\n    <path d=\"M 40.603125 145.8 \nL 40.603125 7.2 \n\" style=\"fill: none; stroke: #000000; stroke-width: 0.8; stroke-linejoin: miter; stroke-linecap: square\"/>\n   </g>\n   <g id=\"patch_4\">\n    <path d=\"M 235.903125 145.8 \nL 235.903125 7.2 \n\" style=\"fill: none; stroke: #000000; stroke-width: 0.8; stroke-linejoin: miter; stroke-linecap: square\"/>\n   </g>\n   <g id=\"patch_5\">\n    <path d=\"M 40.603125 145.8 \nL 235.903125 145.8 \n\" style=\"fill: none; stroke: #000000; stroke-width: 0.8; stroke-linejoin: miter; stroke-linecap: square\"/>\n   </g>\n   <g id=\"patch_6\">\n    <path d=\"M 40.603125 7.2 \nL 235.903125 7.2 \n\" style=\"fill: none; stroke: #000000; stroke-width: 0.8; stroke-linejoin: miter; stroke-linecap: square\"/>\n   </g>\n   <g id=\"legend_1\">\n    <g id=\"patch_7\">\n     <path d=\"M 47.603125 44.55625 \nL 172.153125 44.55625 \nQ 174.153125 44.55625 174.153125 42.55625 \nL 174.153125 14.2 \nQ 174.153125 12.2 172.153125 12.2 \nL 47.603125 12.2 \nQ 45.603125 12.2 45.603125 14.2 \nL 45.603125 42.55625 \nQ 45.603125 44.55625 47.603125 44.55625 \nz\n\" style=\"fill: #ffffff; opacity: 0.8; stroke: #cccccc; stroke-linejoin: miter\"/>\n    </g>\n    <g id=\"line2d_17\">\n     <path d=\"M 49.603125 20.298438 \nL 59.603125 20.298438 \nL 69.603125 20.298438 \n\" style=\"fill: none; stroke: #1f77b4; stroke-width: 1.5; stroke-linecap: square\"/>\n    </g>\n    <g id=\"text_10\">\n     <!-- f(x) -->\n     <g transform=\"translate(77.603125 23.798438)scale(0.1 -0.1)\">\n      <use xlink:href=\"#DejaVuSans-66\"/>\n      <use xlink:href=\"#DejaVuSans-28\" x=\"35.205078\"/>\n      <use xlink:href=\"#DejaVuSans-78\" x=\"74.21875\"/>\n      <use xlink:href=\"#DejaVuSans-29\" x=\"133.398438\"/>\n     </g>\n    </g>\n    <g id=\"line2d_18\">\n     <path d=\"M 49.603125 34.976562 \nL 59.603125 34.976562 \nL 69.603125 34.976562 \n\" style=\"fill: none; stroke-dasharray: 5.55,2.4; stroke-dashoffset: 0; stroke: #bf00bf; stroke-width: 1.5\"/>\n    </g>\n    <g id=\"text_11\">\n     <!-- Tangent line (x=1) -->\n     <g transform=\"translate(77.603125 38.476562)scale(0.1 -0.1)\">\n      <defs>\n       <path id=\"DejaVuSans-54\" d=\"M -19 4666 \nL 3928 4666 \nL 3928 4134 \nL 2272 4134 \nL 2272 0 \nL 1638 0 \nL 1638 4134 \nL -19 4134 \nL -19 4666 \nz\n\" transform=\"scale(0.015625)\"/>\n       <path id=\"DejaVuSans-61\" d=\"M 2194 1759 \nQ 1497 1759 1228 1600 \nQ 959 1441 959 1056 \nQ 959 750 1161 570 \nQ 1363 391 1709 391 \nQ 2188 391 2477 730 \nQ 2766 1069 2766 1631 \nL 2766 1759 \nL 2194 1759 \nz\nM 3341 1997 \nL 3341 0 \nL 2766 0 \nL 2766 531 \nQ 2569 213 2275 61 \nQ 1981 -91 1556 -91 \nQ 1019 -91 701 211 \nQ 384 513 384 1019 \nQ 384 1609 779 1909 \nQ 1175 2209 1959 2209 \nL 2766 2209 \nL 2766 2266 \nQ 2766 2663 2505 2880 \nQ 2244 3097 1772 3097 \nQ 1472 3097 1187 3025 \nQ 903 2953 641 2809 \nL 641 3341 \nQ 956 3463 1253 3523 \nQ 1550 3584 1831 3584 \nQ 2591 3584 2966 3190 \nQ 3341 2797 3341 1997 \nz\n\" transform=\"scale(0.015625)\"/>\n       <path id=\"DejaVuSans-6e\" d=\"M 3513 2113 \nL 3513 0 \nL 2938 0 \nL 2938 2094 \nQ 2938 2591 2744 2837 \nQ 2550 3084 2163 3084 \nQ 1697 3084 1428 2787 \nQ 1159 2491 1159 1978 \nL 1159 0 \nL 581 0 \nL 581 3500 \nL 1159 3500 \nL 1159 2956 \nQ 1366 3272 1645 3428 \nQ 1925 3584 2291 3584 \nQ 2894 3584 3203 3211 \nQ 3513 2838 3513 2113 \nz\n\" transform=\"scale(0.015625)\"/>\n       <path id=\"DejaVuSans-67\" d=\"M 2906 1791 \nQ 2906 2416 2648 2759 \nQ 2391 3103 1925 3103 \nQ 1463 3103 1205 2759 \nQ 947 2416 947 1791 \nQ 947 1169 1205 825 \nQ 1463 481 1925 481 \nQ 2391 481 2648 825 \nQ 2906 1169 2906 1791 \nz\nM 3481 434 \nQ 3481 -459 3084 -895 \nQ 2688 -1331 1869 -1331 \nQ 1566 -1331 1297 -1286 \nQ 1028 -1241 775 -1147 \nL 775 -588 \nQ 1028 -725 1275 -790 \nQ 1522 -856 1778 -856 \nQ 2344 -856 2625 -561 \nQ 2906 -266 2906 331 \nL 2906 616 \nQ 2728 306 2450 153 \nQ 2172 0 1784 0 \nQ 1141 0 747 490 \nQ 353 981 353 1791 \nQ 353 2603 747 3093 \nQ 1141 3584 1784 3584 \nQ 2172 3584 2450 3431 \nQ 2728 3278 2906 2969 \nL 2906 3500 \nL 3481 3500 \nL 3481 434 \nz\n\" transform=\"scale(0.015625)\"/>\n       <path id=\"DejaVuSans-65\" d=\"M 3597 1894 \nL 3597 1613 \nL 953 1613 \nQ 991 1019 1311 708 \nQ 1631 397 2203 397 \nQ 2534 397 2845 478 \nQ 3156 559 3463 722 \nL 3463 178 \nQ 3153 47 2828 -22 \nQ 2503 -91 2169 -91 \nQ 1331 -91 842 396 \nQ 353 884 353 1716 \nQ 353 2575 817 3079 \nQ 1281 3584 2069 3584 \nQ 2775 3584 3186 3129 \nQ 3597 2675 3597 1894 \nz\nM 3022 2063 \nQ 3016 2534 2758 2815 \nQ 2500 3097 2075 3097 \nQ 1594 3097 1305 2825 \nQ 1016 2553 972 2059 \nL 3022 2063 \nz\n\" transform=\"scale(0.015625)\"/>\n       <path id=\"DejaVuSans-74\" d=\"M 1172 4494 \nL 1172 3500 \nL 2356 3500 \nL 2356 3053 \nL 1172 3053 \nL 1172 1153 \nQ 1172 725 1289 603 \nQ 1406 481 1766 481 \nL 2356 481 \nL 2356 0 \nL 1766 0 \nQ 1100 0 847 248 \nQ 594 497 594 1153 \nL 594 3053 \nL 172 3053 \nL 172 3500 \nL 594 3500 \nL 594 4494 \nL 1172 4494 \nz\n\" transform=\"scale(0.015625)\"/>\n       <path id=\"DejaVuSans-20\" transform=\"scale(0.015625)\"/>\n       <path id=\"DejaVuSans-6c\" d=\"M 603 4863 \nL 1178 4863 \nL 1178 0 \nL 603 0 \nL 603 4863 \nz\n\" transform=\"scale(0.015625)\"/>\n       <path id=\"DejaVuSans-69\" d=\"M 603 3500 \nL 1178 3500 \nL 1178 0 \nL 603 0 \nL 603 3500 \nz\nM 603 4863 \nL 1178 4863 \nL 1178 4134 \nL 603 4134 \nL 603 4863 \nz\n\" transform=\"scale(0.015625)\"/>\n       <path id=\"DejaVuSans-3d\" d=\"M 678 2906 \nL 4684 2906 \nL 4684 2381 \nL 678 2381 \nL 678 2906 \nz\nM 678 1631 \nL 4684 1631 \nL 4684 1100 \nL 678 1100 \nL 678 1631 \nz\n\" transform=\"scale(0.015625)\"/>\n      </defs>\n      <use xlink:href=\"#DejaVuSans-54\"/>\n      <use xlink:href=\"#DejaVuSans-61\" x=\"44.583984\"/>\n      <use xlink:href=\"#DejaVuSans-6e\" x=\"105.863281\"/>\n      <use xlink:href=\"#DejaVuSans-67\" x=\"169.242188\"/>\n      <use xlink:href=\"#DejaVuSans-65\" x=\"232.71875\"/>\n      <use xlink:href=\"#DejaVuSans-6e\" x=\"294.242188\"/>\n      <use xlink:href=\"#DejaVuSans-74\" x=\"357.621094\"/>\n      <use xlink:href=\"#DejaVuSans-20\" x=\"396.830078\"/>\n      <use xlink:href=\"#DejaVuSans-6c\" x=\"428.617188\"/>\n      <use xlink:href=\"#DejaVuSans-69\" x=\"456.400391\"/>\n      <use xlink:href=\"#DejaVuSans-6e\" x=\"484.183594\"/>\n      <use xlink:href=\"#DejaVuSans-65\" x=\"547.5625\"/>\n      <use xlink:href=\"#DejaVuSans-20\" x=\"609.085938\"/>\n      <use xlink:href=\"#DejaVuSans-28\" x=\"640.873047\"/>\n      <use xlink:href=\"#DejaVuSans-78\" x=\"679.886719\"/>\n      <use xlink:href=\"#DejaVuSans-3d\" x=\"739.066406\"/>\n      <use xlink:href=\"#DejaVuSans-31\" x=\"822.855469\"/>\n      <use xlink:href=\"#DejaVuSans-29\" x=\"886.478516\"/>\n     </g>\n    </g>\n   </g>\n  </g>\n </g>\n <defs>\n  <clipPath id=\"p5a0a124b0a\">\n   <rect x=\"40.603125\" y=\"7.2\" width=\"195.3\" height=\"138.6\"/>\n  </clipPath>\n </defs>\n</svg>\n",
      "text/plain": [
       "<Figure size 350x250 with 1 Axes>"
      ]
     },
     "metadata": {},
     "output_type": "display_data"
    }
   ],
   "source": [
    "## 导数解释可视化 注释#@save是一个特殊的标记，会将对应的函数、类或语句保存在d2l包中\n",
    "def f(x):\n",
    "    return 3 * x ** 2 - 4 * x\n",
    "def use_svg_display():  #@save\n",
    "    \"\"\"使用svg格式在Jupyter中显示绘图\"\"\"\n",
    "    backend_inline.set_matplotlib_formats('svg')\n",
    "def set_figsize(figsize=(3.5, 2.5)):  #@save\n",
    "    \"\"\"设置matplotlib的图表大小\"\"\"\n",
    "    use_svg_display()\n",
    "    d2l.plt.rcParams['figure.figsize'] = figsize\n",
    "#@save\n",
    "def set_axes(axes, xlabel, ylabel, xlim, ylim, xscale, yscale, legend):\n",
    "    \"\"\"设置matplotlib的轴\"\"\"\n",
    "    axes.set_xlabel(xlabel)\n",
    "    axes.set_ylabel(ylabel)\n",
    "    axes.set_xscale(xscale)\n",
    "    axes.set_yscale(yscale)\n",
    "    axes.set_xlim(xlim)\n",
    "    axes.set_ylim(ylim)\n",
    "    if legend:\n",
    "        axes.legend(legend)\n",
    "    axes.grid()\n",
    "#@save\n",
    "def plot(X, Y=None, xlabel=None, ylabel=None, legend=None, xlim=None,\n",
    "         ylim=None, xscale='linear', yscale='linear',\n",
    "         fmts=('-', 'm--', 'g-.', 'r:'), figsize=(3.5, 2.5), axes=None):\n",
    "    \"\"\"绘制数据点\"\"\"\n",
    "    if legend is None:\n",
    "        legend = []\n",
    "\n",
    "    set_figsize(figsize)\n",
    "    axes = axes if axes else d2l.plt.gca()\n",
    "\n",
    "    # 如果X有一个轴，输出True\n",
    "    def has_one_axis(X):\n",
    "        return (hasattr(X, \"ndim\") and X.ndim == 1 or isinstance(X, list)\n",
    "                and not hasattr(X[0], \"__len__\"))\n",
    "\n",
    "    if has_one_axis(X):\n",
    "        X = [X]\n",
    "    if Y is None:\n",
    "        X, Y = [[]] * len(X), X\n",
    "    elif has_one_axis(Y):\n",
    "        Y = [Y]\n",
    "    if len(X) != len(Y):\n",
    "        X = X * len(Y)\n",
    "    axes.cla()\n",
    "    for x, y, fmt in zip(X, Y, fmts):\n",
    "        if len(x):\n",
    "            axes.plot(x, y, fmt)\n",
    "        else:\n",
    "            axes.plot(y, fmt)\n",
    "    set_axes(axes, xlabel, ylabel, xlim, ylim, xscale, yscale, legend)\n",
    "x = np.arange(0, 3, 0.1)\n",
    "plot(x, [f(x), 2 * x - 3], 'x', 'f(x)', legend=['f(x)', 'Tangent line (x=1)'])"
   ]
  },
  {
   "cell_type": "markdown",
   "metadata": {},
   "source": [
    "## 3.2 偏导\n",
    "多个变量\n",
    "## 3.3 梯度\n",
    "连结一个多元函数对其所有变量的偏导数，以得到该函数的梯度（gradient）向量\n",
    "## 3.4 链式法则\n",
    "可以用来微分复合函数\n",
    "## 3.5 练习"
   ]
  },
  {
   "cell_type": "code",
   "execution_count": 52,
   "metadata": {},
   "outputs": [
    {
     "name": "stderr",
     "output_type": "stream",
     "text": [
      "C:\\Users\\rosie\\AppData\\Local\\Temp\\ipykernel_6496\\2106227047.py:3: RuntimeWarning: divide by zero encountered in true_divide\n",
      "  fx=x**3-1/x\n"
     ]
    },
    {
     "data": {
      "image/svg+xml": "<?xml version=\"1.0\" encoding=\"utf-8\" standalone=\"no\"?>\n<!DOCTYPE svg PUBLIC \"-//W3C//DTD SVG 1.1//EN\"\n  \"http://www.w3.org/Graphics/SVG/1.1/DTD/svg11.dtd\">\n<svg xmlns:xlink=\"http://www.w3.org/1999/xlink\" width=\"251.909047pt\" height=\"183.35625pt\" viewBox=\"0 0 251.909047 183.35625\" xmlns=\"http://www.w3.org/2000/svg\" version=\"1.1\">\n <metadata>\n  <rdf:RDF xmlns:dc=\"http://purl.org/dc/elements/1.1/\" xmlns:cc=\"http://creativecommons.org/ns#\" xmlns:rdf=\"http://www.w3.org/1999/02/22-rdf-syntax-ns#\">\n   <cc:Work>\n    <dc:type rdf:resource=\"http://purl.org/dc/dcmitype/StillImage\"/>\n    <dc:date>2023-03-20T11:38:17.805058</dc:date>\n    <dc:format>image/svg+xml</dc:format>\n    <dc:creator>\n     <cc:Agent>\n      <dc:title>Matplotlib v3.5.1, https://matplotlib.org/</dc:title>\n     </cc:Agent>\n    </dc:creator>\n   </cc:Work>\n  </rdf:RDF>\n </metadata>\n <defs>\n  <style type=\"text/css\">*{stroke-linejoin: round; stroke-linecap: butt}</style>\n </defs>\n <g id=\"figure_1\">\n  <g id=\"patch_1\">\n   <path d=\"M -0 183.35625 \nL 251.909047 183.35625 \nL 251.909047 0 \nL -0 0 \nz\n\" style=\"fill: #ffffff\"/>\n  </g>\n  <g id=\"axes_1\">\n   <g id=\"patch_2\">\n    <path d=\"M 48.982813 145.8 \nL 244.282813 145.8 \nL 244.282813 7.2 \nL 48.982813 7.2 \nz\n\" style=\"fill: #ffffff\"/>\n   </g>\n   <g id=\"matplotlib.axis_1\">\n    <g id=\"xtick_1\">\n     <g id=\"line2d_1\">\n      <path d=\"M 57.860085 145.8 \nL 57.860085 7.2 \n\" clip-path=\"url(#p6320f3137d)\" style=\"fill: none; stroke: #b0b0b0; stroke-width: 0.8; stroke-linecap: square\"/>\n     </g>\n     <g id=\"line2d_2\">\n      <defs>\n       <path id=\"mf3c550acc2\" d=\"M 0 0 \nL 0 3.5 \n\" style=\"stroke: #000000; stroke-width: 0.8\"/>\n      </defs>\n      <g>\n       <use xlink:href=\"#mf3c550acc2\" x=\"57.860085\" y=\"145.8\" style=\"stroke: #000000; stroke-width: 0.8\"/>\n      </g>\n     </g>\n     <g id=\"text_1\">\n      <!-- 0 -->\n      <g transform=\"translate(54.678835 160.398438)scale(0.1 -0.1)\">\n       <defs>\n        <path id=\"DejaVuSans-30\" d=\"M 2034 4250 \nQ 1547 4250 1301 3770 \nQ 1056 3291 1056 2328 \nQ 1056 1369 1301 889 \nQ 1547 409 2034 409 \nQ 2525 409 2770 889 \nQ 3016 1369 3016 2328 \nQ 3016 3291 2770 3770 \nQ 2525 4250 2034 4250 \nz\nM 2034 4750 \nQ 2819 4750 3233 4129 \nQ 3647 3509 3647 2328 \nQ 3647 1150 3233 529 \nQ 2819 -91 2034 -91 \nQ 1250 -91 836 529 \nQ 422 1150 422 2328 \nQ 422 3509 836 4129 \nQ 1250 4750 2034 4750 \nz\n\" transform=\"scale(0.015625)\"/>\n       </defs>\n       <use xlink:href=\"#DejaVuSans-30\"/>\n      </g>\n     </g>\n    </g>\n    <g id=\"xtick_2\">\n     <g id=\"line2d_3\">\n      <path d=\"M 119.082656 145.8 \nL 119.082656 7.2 \n\" clip-path=\"url(#p6320f3137d)\" style=\"fill: none; stroke: #b0b0b0; stroke-width: 0.8; stroke-linecap: square\"/>\n     </g>\n     <g id=\"line2d_4\">\n      <g>\n       <use xlink:href=\"#mf3c550acc2\" x=\"119.082656\" y=\"145.8\" style=\"stroke: #000000; stroke-width: 0.8\"/>\n      </g>\n     </g>\n     <g id=\"text_2\">\n      <!-- 1 -->\n      <g transform=\"translate(115.901406 160.398438)scale(0.1 -0.1)\">\n       <defs>\n        <path id=\"DejaVuSans-31\" d=\"M 794 531 \nL 1825 531 \nL 1825 4091 \nL 703 3866 \nL 703 4441 \nL 1819 4666 \nL 2450 4666 \nL 2450 531 \nL 3481 531 \nL 3481 0 \nL 794 0 \nL 794 531 \nz\n\" transform=\"scale(0.015625)\"/>\n       </defs>\n       <use xlink:href=\"#DejaVuSans-31\"/>\n      </g>\n     </g>\n    </g>\n    <g id=\"xtick_3\">\n     <g id=\"line2d_5\">\n      <path d=\"M 180.305226 145.8 \nL 180.305226 7.2 \n\" clip-path=\"url(#p6320f3137d)\" style=\"fill: none; stroke: #b0b0b0; stroke-width: 0.8; stroke-linecap: square\"/>\n     </g>\n     <g id=\"line2d_6\">\n      <g>\n       <use xlink:href=\"#mf3c550acc2\" x=\"180.305226\" y=\"145.8\" style=\"stroke: #000000; stroke-width: 0.8\"/>\n      </g>\n     </g>\n     <g id=\"text_3\">\n      <!-- 2 -->\n      <g transform=\"translate(177.123976 160.398438)scale(0.1 -0.1)\">\n       <defs>\n        <path id=\"DejaVuSans-32\" d=\"M 1228 531 \nL 3431 531 \nL 3431 0 \nL 469 0 \nL 469 531 \nQ 828 903 1448 1529 \nQ 2069 2156 2228 2338 \nQ 2531 2678 2651 2914 \nQ 2772 3150 2772 3378 \nQ 2772 3750 2511 3984 \nQ 2250 4219 1831 4219 \nQ 1534 4219 1204 4116 \nQ 875 4013 500 3803 \nL 500 4441 \nQ 881 4594 1212 4672 \nQ 1544 4750 1819 4750 \nQ 2544 4750 2975 4387 \nQ 3406 4025 3406 3419 \nQ 3406 3131 3298 2873 \nQ 3191 2616 2906 2266 \nQ 2828 2175 2409 1742 \nQ 1991 1309 1228 531 \nz\n\" transform=\"scale(0.015625)\"/>\n       </defs>\n       <use xlink:href=\"#DejaVuSans-32\"/>\n      </g>\n     </g>\n    </g>\n    <g id=\"xtick_4\">\n     <g id=\"line2d_7\">\n      <path d=\"M 241.527797 145.8 \nL 241.527797 7.2 \n\" clip-path=\"url(#p6320f3137d)\" style=\"fill: none; stroke: #b0b0b0; stroke-width: 0.8; stroke-linecap: square\"/>\n     </g>\n     <g id=\"line2d_8\">\n      <g>\n       <use xlink:href=\"#mf3c550acc2\" x=\"241.527797\" y=\"145.8\" style=\"stroke: #000000; stroke-width: 0.8\"/>\n      </g>\n     </g>\n     <g id=\"text_4\">\n      <!-- 3 -->\n      <g transform=\"translate(238.346547 160.398438)scale(0.1 -0.1)\">\n       <defs>\n        <path id=\"DejaVuSans-33\" d=\"M 2597 2516 \nQ 3050 2419 3304 2112 \nQ 3559 1806 3559 1356 \nQ 3559 666 3084 287 \nQ 2609 -91 1734 -91 \nQ 1441 -91 1130 -33 \nQ 819 25 488 141 \nL 488 750 \nQ 750 597 1062 519 \nQ 1375 441 1716 441 \nQ 2309 441 2620 675 \nQ 2931 909 2931 1356 \nQ 2931 1769 2642 2001 \nQ 2353 2234 1838 2234 \nL 1294 2234 \nL 1294 2753 \nL 1863 2753 \nQ 2328 2753 2575 2939 \nQ 2822 3125 2822 3475 \nQ 2822 3834 2567 4026 \nQ 2313 4219 1838 4219 \nQ 1578 4219 1281 4162 \nQ 984 4106 628 3988 \nL 628 4550 \nQ 988 4650 1302 4700 \nQ 1616 4750 1894 4750 \nQ 2613 4750 3031 4423 \nQ 3450 4097 3450 3541 \nQ 3450 3153 3228 2886 \nQ 3006 2619 2597 2516 \nz\n\" transform=\"scale(0.015625)\"/>\n       </defs>\n       <use xlink:href=\"#DejaVuSans-33\"/>\n      </g>\n     </g>\n    </g>\n    <g id=\"text_5\">\n     <!-- x -->\n     <g transform=\"translate(143.673438 174.076563)scale(0.1 -0.1)\">\n      <defs>\n       <path id=\"DejaVuSans-78\" d=\"M 3513 3500 \nL 2247 1797 \nL 3578 0 \nL 2900 0 \nL 1881 1375 \nL 863 0 \nL 184 0 \nL 1544 1831 \nL 300 3500 \nL 978 3500 \nL 1906 2253 \nL 2834 3500 \nL 3513 3500 \nz\n\" transform=\"scale(0.015625)\"/>\n      </defs>\n      <use xlink:href=\"#DejaVuSans-78\"/>\n     </g>\n    </g>\n   </g>\n   <g id=\"matplotlib.axis_2\">\n    <g id=\"ytick_1\">\n     <g id=\"line2d_9\">\n      <path d=\"M 48.982813 139.503701 \nL 244.282813 139.503701 \n\" clip-path=\"url(#p6320f3137d)\" style=\"fill: none; stroke: #b0b0b0; stroke-width: 0.8; stroke-linecap: square\"/>\n     </g>\n     <g id=\"line2d_10\">\n      <defs>\n       <path id=\"mf22d2c08a3\" d=\"M 0 0 \nL -3.5 0 \n\" style=\"stroke: #000000; stroke-width: 0.8\"/>\n      </defs>\n      <g>\n       <use xlink:href=\"#mf22d2c08a3\" x=\"48.982813\" y=\"139.503701\" style=\"stroke: #000000; stroke-width: 0.8\"/>\n      </g>\n     </g>\n     <g id=\"text_6\">\n      <!-- −10 -->\n      <g transform=\"translate(20.878125 143.30292)scale(0.1 -0.1)\">\n       <defs>\n        <path id=\"DejaVuSans-2212\" d=\"M 678 2272 \nL 4684 2272 \nL 4684 1741 \nL 678 1741 \nL 678 2272 \nz\n\" transform=\"scale(0.015625)\"/>\n       </defs>\n       <use xlink:href=\"#DejaVuSans-2212\"/>\n       <use xlink:href=\"#DejaVuSans-31\" x=\"83.789062\"/>\n       <use xlink:href=\"#DejaVuSans-30\" x=\"147.412109\"/>\n      </g>\n     </g>\n    </g>\n    <g id=\"ytick_2\">\n     <g id=\"line2d_11\">\n      <path d=\"M 48.982813 102.491874 \nL 244.282813 102.491874 \n\" clip-path=\"url(#p6320f3137d)\" style=\"fill: none; stroke: #b0b0b0; stroke-width: 0.8; stroke-linecap: square\"/>\n     </g>\n     <g id=\"line2d_12\">\n      <g>\n       <use xlink:href=\"#mf22d2c08a3\" x=\"48.982813\" y=\"102.491874\" style=\"stroke: #000000; stroke-width: 0.8\"/>\n      </g>\n     </g>\n     <g id=\"text_7\">\n      <!-- 0 -->\n      <g transform=\"translate(35.620313 106.291093)scale(0.1 -0.1)\">\n       <use xlink:href=\"#DejaVuSans-30\"/>\n      </g>\n     </g>\n    </g>\n    <g id=\"ytick_3\">\n     <g id=\"line2d_13\">\n      <path d=\"M 48.982813 65.480048 \nL 244.282813 65.480048 \n\" clip-path=\"url(#p6320f3137d)\" style=\"fill: none; stroke: #b0b0b0; stroke-width: 0.8; stroke-linecap: square\"/>\n     </g>\n     <g id=\"line2d_14\">\n      <g>\n       <use xlink:href=\"#mf22d2c08a3\" x=\"48.982813\" y=\"65.480048\" style=\"stroke: #000000; stroke-width: 0.8\"/>\n      </g>\n     </g>\n     <g id=\"text_8\">\n      <!-- 10 -->\n      <g transform=\"translate(29.257813 69.279266)scale(0.1 -0.1)\">\n       <use xlink:href=\"#DejaVuSans-31\"/>\n       <use xlink:href=\"#DejaVuSans-30\" x=\"63.623047\"/>\n      </g>\n     </g>\n    </g>\n    <g id=\"ytick_4\">\n     <g id=\"line2d_15\">\n      <path d=\"M 48.982813 28.468221 \nL 244.282813 28.468221 \n\" clip-path=\"url(#p6320f3137d)\" style=\"fill: none; stroke: #b0b0b0; stroke-width: 0.8; stroke-linecap: square\"/>\n     </g>\n     <g id=\"line2d_16\">\n      <g>\n       <use xlink:href=\"#mf22d2c08a3\" x=\"48.982813\" y=\"28.468221\" style=\"stroke: #000000; stroke-width: 0.8\"/>\n      </g>\n     </g>\n     <g id=\"text_9\">\n      <!-- 20 -->\n      <g transform=\"translate(29.257813 32.26744)scale(0.1 -0.1)\">\n       <use xlink:href=\"#DejaVuSans-32\"/>\n       <use xlink:href=\"#DejaVuSans-30\" x=\"63.623047\"/>\n      </g>\n     </g>\n    </g>\n    <g id=\"text_10\">\n     <!-- f(x) -->\n     <g transform=\"translate(14.798438 85.121094)rotate(-90)scale(0.1 -0.1)\">\n      <defs>\n       <path id=\"DejaVuSans-66\" d=\"M 2375 4863 \nL 2375 4384 \nL 1825 4384 \nQ 1516 4384 1395 4259 \nQ 1275 4134 1275 3809 \nL 1275 3500 \nL 2222 3500 \nL 2222 3053 \nL 1275 3053 \nL 1275 0 \nL 697 0 \nL 697 3053 \nL 147 3053 \nL 147 3500 \nL 697 3500 \nL 697 3744 \nQ 697 4328 969 4595 \nQ 1241 4863 1831 4863 \nL 2375 4863 \nz\n\" transform=\"scale(0.015625)\"/>\n       <path id=\"DejaVuSans-28\" d=\"M 1984 4856 \nQ 1566 4138 1362 3434 \nQ 1159 2731 1159 2009 \nQ 1159 1288 1364 580 \nQ 1569 -128 1984 -844 \nL 1484 -844 \nQ 1016 -109 783 600 \nQ 550 1309 550 2009 \nQ 550 2706 781 3412 \nQ 1013 4119 1484 4856 \nL 1984 4856 \nz\n\" transform=\"scale(0.015625)\"/>\n       <path id=\"DejaVuSans-29\" d=\"M 513 4856 \nL 1013 4856 \nQ 1481 4119 1714 3412 \nQ 1947 2706 1947 2009 \nQ 1947 1309 1714 600 \nQ 1481 -109 1013 -844 \nL 513 -844 \nQ 928 -128 1133 580 \nQ 1338 1288 1338 2009 \nQ 1338 2731 1133 3434 \nQ 928 4138 513 4856 \nz\n\" transform=\"scale(0.015625)\"/>\n      </defs>\n      <use xlink:href=\"#DejaVuSans-66\"/>\n      <use xlink:href=\"#DejaVuSans-28\" x=\"35.205078\"/>\n      <use xlink:href=\"#DejaVuSans-78\" x=\"74.21875\"/>\n      <use xlink:href=\"#DejaVuSans-29\" x=\"133.398438\"/>\n     </g>\n    </g>\n   </g>\n   <g id=\"line2d_17\">\n    <path d=\"M 63.982342 139.5 \nL 70.104599 120.968178 \nL 76.226856 114.729218 \nL 82.349113 111.507955 \nL 88.47137 109.431592 \nL 94.593628 107.861057 \nL 100.715885 106.509773 \nL 106.838142 105.223347 \nL 112.960399 103.906137 \nL 119.082656 102.491874 \nL 125.204913 100.930312 \nL 131.32717 99.18055 \nL 137.449427 97.20744 \nL 143.571684 94.979531 \nL 149.693941 92.467838 \nL 155.816198 89.645069 \nL 161.938455 86.48513 \nL 168.060712 82.96279 \nL 174.182969 79.053453 \nL 180.305226 74.733004 \nL 186.427483 69.97769 \nL 192.54974 64.764037 \nL 198.671997 59.068795 \nL 204.794255 52.868885 \nL 210.916512 46.141368 \nL 217.038769 38.863419 \nL 223.161026 31.012304 \nL 229.283283 22.565363 \nL 235.40554 13.5 \n\" clip-path=\"url(#p6320f3137d)\" style=\"fill: none; stroke: #1f77b4; stroke-width: 1.5; stroke-linecap: square\"/>\n   </g>\n   <g id=\"line2d_18\">\n    <path d=\"M 57.860085 117.296605 \nL 63.982342 115.816132 \nL 70.104599 114.335659 \nL 76.226856 112.855186 \nL 82.349113 111.374713 \nL 88.47137 109.89424 \nL 94.593628 108.413767 \nL 100.715885 106.933294 \nL 106.838142 105.452821 \nL 112.960399 103.972347 \nL 119.082656 102.491874 \nL 125.204913 101.011401 \nL 131.32717 99.530928 \nL 137.449427 98.050455 \nL 143.571684 96.569982 \nL 149.693941 95.089509 \nL 155.816198 93.609036 \nL 161.938455 92.128563 \nL 168.060712 90.64809 \nL 174.182969 89.167617 \nL 180.305226 87.687144 \nL 186.427483 86.206671 \nL 192.54974 84.726198 \nL 198.671997 83.245724 \nL 204.794255 81.765251 \nL 210.916512 80.284778 \nL 217.038769 78.804305 \nL 223.161026 77.323832 \nL 229.283283 75.843359 \nL 235.40554 74.362886 \n\" clip-path=\"url(#p6320f3137d)\" style=\"fill: none; stroke-dasharray: 5.55,2.4; stroke-dashoffset: 0; stroke: #bf00bf; stroke-width: 1.5\"/>\n   </g>\n   <g id=\"patch_3\">\n    <path d=\"M 48.982813 145.8 \nL 48.982813 7.2 \n\" style=\"fill: none; stroke: #000000; stroke-width: 0.8; stroke-linejoin: miter; stroke-linecap: square\"/>\n   </g>\n   <g id=\"patch_4\">\n    <path d=\"M 244.282813 145.8 \nL 244.282813 7.2 \n\" style=\"fill: none; stroke: #000000; stroke-width: 0.8; stroke-linejoin: miter; stroke-linecap: square\"/>\n   </g>\n   <g id=\"patch_5\">\n    <path d=\"M 48.982813 145.8 \nL 244.282813 145.8 \n\" style=\"fill: none; stroke: #000000; stroke-width: 0.8; stroke-linejoin: miter; stroke-linecap: square\"/>\n   </g>\n   <g id=\"patch_6\">\n    <path d=\"M 48.982813 7.2 \nL 244.282813 7.2 \n\" style=\"fill: none; stroke: #000000; stroke-width: 0.8; stroke-linejoin: miter; stroke-linecap: square\"/>\n   </g>\n   <g id=\"legend_1\">\n    <g id=\"patch_7\">\n     <path d=\"M 55.982813 44.55625 \nL 180.532813 44.55625 \nQ 182.532813 44.55625 182.532813 42.55625 \nL 182.532813 14.2 \nQ 182.532813 12.2 180.532813 12.2 \nL 55.982813 12.2 \nQ 53.982813 12.2 53.982813 14.2 \nL 53.982813 42.55625 \nQ 53.982813 44.55625 55.982813 44.55625 \nz\n\" style=\"fill: #ffffff; opacity: 0.8; stroke: #cccccc; stroke-linejoin: miter\"/>\n    </g>\n    <g id=\"line2d_19\">\n     <path d=\"M 57.982813 20.298438 \nL 67.982813 20.298438 \nL 77.982813 20.298438 \n\" style=\"fill: none; stroke: #1f77b4; stroke-width: 1.5; stroke-linecap: square\"/>\n    </g>\n    <g id=\"text_11\">\n     <!-- f(x) -->\n     <g transform=\"translate(85.982813 23.798438)scale(0.1 -0.1)\">\n      <use xlink:href=\"#DejaVuSans-66\"/>\n      <use xlink:href=\"#DejaVuSans-28\" x=\"35.205078\"/>\n      <use xlink:href=\"#DejaVuSans-78\" x=\"74.21875\"/>\n      <use xlink:href=\"#DejaVuSans-29\" x=\"133.398438\"/>\n     </g>\n    </g>\n    <g id=\"line2d_20\">\n     <path d=\"M 57.982813 34.976562 \nL 67.982813 34.976562 \nL 77.982813 34.976562 \n\" style=\"fill: none; stroke-dasharray: 5.55,2.4; stroke-dashoffset: 0; stroke: #bf00bf; stroke-width: 1.5\"/>\n    </g>\n    <g id=\"text_12\">\n     <!-- Tangent line (x=1) -->\n     <g transform=\"translate(85.982813 38.476562)scale(0.1 -0.1)\">\n      <defs>\n       <path id=\"DejaVuSans-54\" d=\"M -19 4666 \nL 3928 4666 \nL 3928 4134 \nL 2272 4134 \nL 2272 0 \nL 1638 0 \nL 1638 4134 \nL -19 4134 \nL -19 4666 \nz\n\" transform=\"scale(0.015625)\"/>\n       <path id=\"DejaVuSans-61\" d=\"M 2194 1759 \nQ 1497 1759 1228 1600 \nQ 959 1441 959 1056 \nQ 959 750 1161 570 \nQ 1363 391 1709 391 \nQ 2188 391 2477 730 \nQ 2766 1069 2766 1631 \nL 2766 1759 \nL 2194 1759 \nz\nM 3341 1997 \nL 3341 0 \nL 2766 0 \nL 2766 531 \nQ 2569 213 2275 61 \nQ 1981 -91 1556 -91 \nQ 1019 -91 701 211 \nQ 384 513 384 1019 \nQ 384 1609 779 1909 \nQ 1175 2209 1959 2209 \nL 2766 2209 \nL 2766 2266 \nQ 2766 2663 2505 2880 \nQ 2244 3097 1772 3097 \nQ 1472 3097 1187 3025 \nQ 903 2953 641 2809 \nL 641 3341 \nQ 956 3463 1253 3523 \nQ 1550 3584 1831 3584 \nQ 2591 3584 2966 3190 \nQ 3341 2797 3341 1997 \nz\n\" transform=\"scale(0.015625)\"/>\n       <path id=\"DejaVuSans-6e\" d=\"M 3513 2113 \nL 3513 0 \nL 2938 0 \nL 2938 2094 \nQ 2938 2591 2744 2837 \nQ 2550 3084 2163 3084 \nQ 1697 3084 1428 2787 \nQ 1159 2491 1159 1978 \nL 1159 0 \nL 581 0 \nL 581 3500 \nL 1159 3500 \nL 1159 2956 \nQ 1366 3272 1645 3428 \nQ 1925 3584 2291 3584 \nQ 2894 3584 3203 3211 \nQ 3513 2838 3513 2113 \nz\n\" transform=\"scale(0.015625)\"/>\n       <path id=\"DejaVuSans-67\" d=\"M 2906 1791 \nQ 2906 2416 2648 2759 \nQ 2391 3103 1925 3103 \nQ 1463 3103 1205 2759 \nQ 947 2416 947 1791 \nQ 947 1169 1205 825 \nQ 1463 481 1925 481 \nQ 2391 481 2648 825 \nQ 2906 1169 2906 1791 \nz\nM 3481 434 \nQ 3481 -459 3084 -895 \nQ 2688 -1331 1869 -1331 \nQ 1566 -1331 1297 -1286 \nQ 1028 -1241 775 -1147 \nL 775 -588 \nQ 1028 -725 1275 -790 \nQ 1522 -856 1778 -856 \nQ 2344 -856 2625 -561 \nQ 2906 -266 2906 331 \nL 2906 616 \nQ 2728 306 2450 153 \nQ 2172 0 1784 0 \nQ 1141 0 747 490 \nQ 353 981 353 1791 \nQ 353 2603 747 3093 \nQ 1141 3584 1784 3584 \nQ 2172 3584 2450 3431 \nQ 2728 3278 2906 2969 \nL 2906 3500 \nL 3481 3500 \nL 3481 434 \nz\n\" transform=\"scale(0.015625)\"/>\n       <path id=\"DejaVuSans-65\" d=\"M 3597 1894 \nL 3597 1613 \nL 953 1613 \nQ 991 1019 1311 708 \nQ 1631 397 2203 397 \nQ 2534 397 2845 478 \nQ 3156 559 3463 722 \nL 3463 178 \nQ 3153 47 2828 -22 \nQ 2503 -91 2169 -91 \nQ 1331 -91 842 396 \nQ 353 884 353 1716 \nQ 353 2575 817 3079 \nQ 1281 3584 2069 3584 \nQ 2775 3584 3186 3129 \nQ 3597 2675 3597 1894 \nz\nM 3022 2063 \nQ 3016 2534 2758 2815 \nQ 2500 3097 2075 3097 \nQ 1594 3097 1305 2825 \nQ 1016 2553 972 2059 \nL 3022 2063 \nz\n\" transform=\"scale(0.015625)\"/>\n       <path id=\"DejaVuSans-74\" d=\"M 1172 4494 \nL 1172 3500 \nL 2356 3500 \nL 2356 3053 \nL 1172 3053 \nL 1172 1153 \nQ 1172 725 1289 603 \nQ 1406 481 1766 481 \nL 2356 481 \nL 2356 0 \nL 1766 0 \nQ 1100 0 847 248 \nQ 594 497 594 1153 \nL 594 3053 \nL 172 3053 \nL 172 3500 \nL 594 3500 \nL 594 4494 \nL 1172 4494 \nz\n\" transform=\"scale(0.015625)\"/>\n       <path id=\"DejaVuSans-20\" transform=\"scale(0.015625)\"/>\n       <path id=\"DejaVuSans-6c\" d=\"M 603 4863 \nL 1178 4863 \nL 1178 0 \nL 603 0 \nL 603 4863 \nz\n\" transform=\"scale(0.015625)\"/>\n       <path id=\"DejaVuSans-69\" d=\"M 603 3500 \nL 1178 3500 \nL 1178 0 \nL 603 0 \nL 603 3500 \nz\nM 603 4863 \nL 1178 4863 \nL 1178 4134 \nL 603 4134 \nL 603 4863 \nz\n\" transform=\"scale(0.015625)\"/>\n       <path id=\"DejaVuSans-3d\" d=\"M 678 2906 \nL 4684 2906 \nL 4684 2381 \nL 678 2381 \nL 678 2906 \nz\nM 678 1631 \nL 4684 1631 \nL 4684 1100 \nL 678 1100 \nL 678 1631 \nz\n\" transform=\"scale(0.015625)\"/>\n      </defs>\n      <use xlink:href=\"#DejaVuSans-54\"/>\n      <use xlink:href=\"#DejaVuSans-61\" x=\"44.583984\"/>\n      <use xlink:href=\"#DejaVuSans-6e\" x=\"105.863281\"/>\n      <use xlink:href=\"#DejaVuSans-67\" x=\"169.242188\"/>\n      <use xlink:href=\"#DejaVuSans-65\" x=\"232.71875\"/>\n      <use xlink:href=\"#DejaVuSans-6e\" x=\"294.242188\"/>\n      <use xlink:href=\"#DejaVuSans-74\" x=\"357.621094\"/>\n      <use xlink:href=\"#DejaVuSans-20\" x=\"396.830078\"/>\n      <use xlink:href=\"#DejaVuSans-6c\" x=\"428.617188\"/>\n      <use xlink:href=\"#DejaVuSans-69\" x=\"456.400391\"/>\n      <use xlink:href=\"#DejaVuSans-6e\" x=\"484.183594\"/>\n      <use xlink:href=\"#DejaVuSans-65\" x=\"547.5625\"/>\n      <use xlink:href=\"#DejaVuSans-20\" x=\"609.085938\"/>\n      <use xlink:href=\"#DejaVuSans-28\" x=\"640.873047\"/>\n      <use xlink:href=\"#DejaVuSans-78\" x=\"679.886719\"/>\n      <use xlink:href=\"#DejaVuSans-3d\" x=\"739.066406\"/>\n      <use xlink:href=\"#DejaVuSans-31\" x=\"822.855469\"/>\n      <use xlink:href=\"#DejaVuSans-29\" x=\"886.478516\"/>\n     </g>\n    </g>\n   </g>\n  </g>\n </g>\n <defs>\n  <clipPath id=\"p6320f3137d\">\n   <rect x=\"48.982813\" y=\"7.2\" width=\"195.3\" height=\"138.6\"/>\n  </clipPath>\n </defs>\n</svg>\n",
      "text/plain": [
       "<Figure size 350x250 with 1 Axes>"
      ]
     },
     "metadata": {},
     "output_type": "display_data"
    }
   ],
   "source": [
    "# 1. 绘制下x^3-1/x在x=1处切线的图像\n",
    "x = np.arange(0, 3, 0.1)\n",
    "fx=x**3-1/x\n",
    "plot(x,[fx,4*x-4],'x', 'f(x)', legend=['f(x)', 'Tangent line (x=1)'])"
   ]
  },
  {
   "cell_type": "code",
   "execution_count": 53,
   "metadata": {},
   "outputs": [],
   "source": [
    "# 2. 求3x1**2+5*exp(x2)的梯度\n",
    "# [6x1,5exp(x2)]"
   ]
  },
  {
   "cell_type": "markdown",
   "metadata": {},
   "source": [
    "2 求3x1**2+5*exp(x2)的梯度\n",
    "\n",
    "[6x1,5exp(x2)]\n",
    "\n",
    "3.||x||_2的梯度是什么\n",
    "\n",
    "$\\frac{X}{||x||_2}$\n",
    "\n",
    "\n",
    "4.尝试写出函数u=f(x,y,z)，其中x=x(a,b)，y=y(a,b)，z=z(a,b)的链式法则。\n",
    "\n",
    "$\\frac{du}{da}=\\frac{du}{dx}\\frac{dx}{da}+\\frac{du}{dy}\\frac{dy}{da}+\\frac{du}{dz}\\frac{dz}{da}$\n",
    "\n",
    "$\\frac{du}{db}=\\frac{du}{dx}\\frac{dx}{db}+\\frac{du}{dy}\\frac{dy}{b}+\\frac{du}{dz}\\frac{dz}{db}$"
   ]
  },
  {
   "cell_type": "markdown",
   "metadata": {},
   "source": [
    "# 4 自动微分\n",
    "实际中，根据设计好的模型，系统会构建一个计算图（computational graph）， 来跟踪计算是哪些数据通过哪些操作组合起来产生输出。 自动微分使系统能够随后反向传播梯度。 这里，反向传播（backpropagate）意味着跟踪整个计算图，填充关于每个参数的偏导数。\n",
    "\n",
    "## 4.1 对y=2X.T*X求导"
   ]
  },
  {
   "cell_type": "code",
   "execution_count": 73,
   "metadata": {},
   "outputs": [
    {
     "name": "stdout",
     "output_type": "stream",
     "text": [
      "None\n"
     ]
    },
    {
     "data": {
      "text/plain": [
       "(tensor(6., grad_fn=<SumBackward0>), None, tensor([1., 1., 1., 1.]))"
      ]
     },
     "execution_count": 73,
     "metadata": {},
     "output_type": "execute_result"
    }
   ],
   "source": [
    "x = torch.arange(4.0)\n",
    "# 需要一个地方存储梯度\n",
    "x.requires_grad_(True) \n",
    "print(x.grad)\n",
    "\n",
    "#计算Y\n",
    "y=2*torch.dot(x,x)\n",
    "y\n",
    "\n",
    "# 通过调用反向传播函数来自动计算y关于x每个分量的梯度\n",
    "y.backward(),x.grad,x.grad == 4 * x\n",
    "\n",
    "#计算x的另一个函数\n",
    "# 在默认情况下，PyTorch会累积梯度，我们需要清除之前的值\n",
    "x.grad.zero_()\n",
    "y = x.sum()\n",
    "y,y.backward(),x.grad"
   ]
  },
  {
   "cell_type": "markdown",
   "metadata": {},
   "source": [
    "## 4.2 非标量变量的反向传播\n",
    "当y不是标量时，向量y关于向量x的导数的最自然解释是一个矩阵。 对于高阶和高维的y和x，求导的结果可以是一个高阶张量。"
   ]
  },
  {
   "cell_type": "code",
   "execution_count": 75,
   "metadata": {},
   "outputs": [
    {
     "data": {
      "text/plain": [
       "(tensor([0., 1., 4., 9.], grad_fn=<MulBackward0>),\n",
       " None,\n",
       " tensor([0., 2., 4., 6.]))"
      ]
     },
     "execution_count": 75,
     "metadata": {},
     "output_type": "execute_result"
    }
   ],
   "source": [
    "# 对非标量调用backward需要传入一个gradient参数，该参数指定微分函数关于self的梯度。\n",
    "# 本例只想求偏导数的和，所以传递一个1的梯度是合适的\n",
    "x.grad.zero_()\n",
    "y = x * x\n",
    "# 等价于y.backward(torch.ones(len(x)))\n",
    "y,y.sum().backward(),x.grad"
   ]
  },
  {
   "cell_type": "markdown",
   "metadata": {},
   "source": [
    "## 4.3 分离计算\n",
    "有时，我们希望将某些计算移动到记录的计算图之外。 例如，假设y是作为x的函数计算的，而z则是作为y和x的函数计算的。 想象一下，我们想计算z关于x的梯度，但由于某种原因，希望将y视为一个常数， 并且只考虑到x在y被计算后发挥的作用。\n",
    "\n",
    "这里可以分离y来返回一个新变量u，该变量与y具有相同的值， 但丢弃计算图中如何计算y的任何信息。 换句话说，梯度不会向后流经u到x。 因此，下面的反向传播函数计算z=u*x关于x的偏导数，同时将u作为常数处理， 而不是z=x*x*x关于x的偏导数。"
   ]
  },
  {
   "cell_type": "code",
   "execution_count": 77,
   "metadata": {},
   "outputs": [
    {
     "data": {
      "text/plain": [
       "(None,\n",
       " tensor([0., 1., 4., 9.], grad_fn=<MulBackward0>),\n",
       " tensor([0., 1., 4., 9.]),\n",
       " tensor([ 0.,  1.,  8., 27.], grad_fn=<MulBackward0>),\n",
       " tensor([True, True, True, True]))"
      ]
     },
     "execution_count": 77,
     "metadata": {},
     "output_type": "execute_result"
    }
   ],
   "source": [
    "x.grad.zero_()\n",
    "y = x * x\n",
    "u = y.detach()\n",
    "z = u * x\n",
    "\n",
    "z.sum().backward(),y,u,z,x.grad == u\n"
   ]
  },
  {
   "cell_type": "code",
   "execution_count": 78,
   "metadata": {},
   "outputs": [
    {
     "data": {
      "text/plain": [
       "tensor([True, True, True, True])"
      ]
     },
     "execution_count": 78,
     "metadata": {},
     "output_type": "execute_result"
    }
   ],
   "source": [
    "x.grad.zero_()\n",
    "y.sum().backward()\n",
    "x.grad == 2 * x"
   ]
  },
  {
   "cell_type": "markdown",
   "metadata": {},
   "source": [
    "## 4.4 Python控制流的梯度计算\n"
   ]
  },
  {
   "cell_type": "code",
   "execution_count": 80,
   "metadata": {},
   "outputs": [
    {
     "data": {
      "text/plain": [
       "(tensor(0.2446, requires_grad=True), None, tensor(True))"
      ]
     },
     "execution_count": 80,
     "metadata": {},
     "output_type": "execute_result"
    }
   ],
   "source": [
    "def f(a):\n",
    "    b = a * 2\n",
    "    while b.norm() < 1000:\n",
    "        b = b * 2\n",
    "    if b.sum() > 0:\n",
    "        c = b\n",
    "    else:\n",
    "        c = 100 * b\n",
    "    return c\n",
    "# 计算梯度\n",
    "a = torch.randn(size=(), requires_grad=True)\n",
    "d = f(a)\n",
    "a,d.backward(),a.grad == d / a"
   ]
  },
  {
   "cell_type": "code",
   "execution_count": 121,
   "metadata": {},
   "outputs": [
    {
     "data": {
      "text/plain": [
       "(tensor(0.0958, requires_grad=True),\n",
       " tensor(1569.4906, grad_fn=<MulBackward0>),\n",
       " None,\n",
       " tensor(16384.))"
      ]
     },
     "execution_count": 121,
     "metadata": {},
     "output_type": "execute_result"
    }
   ],
   "source": [
    "def f(a):\n",
    "    b = a * 2\n",
    "    while b.norm() < 1000:\n",
    "        b = b * 2\n",
    "    if b.sum() > 0:\n",
    "        c = b\n",
    "    else:\n",
    "        c = 100 * b\n",
    "    return c\n",
    "# 计算梯度\n",
    "a = torch.randn(size=(), requires_grad=True)\n",
    "d = f(a)\n",
    "a,d,d.backward(),a.grad"
   ]
  },
  {
   "cell_type": "markdown",
   "metadata": {},
   "source": [
    "## 4.5 小结\n",
    "深度学习框架可以自动计算导数：我们首先将梯度附加到想要对其计算偏导数的变量上，然后记录目标值的计算，执行它的反向传播函数，并访问得到的梯度。"
   ]
  },
  {
   "cell_type": "markdown",
   "metadata": {},
   "source": [
    "## 4.6 练习\n"
   ]
  },
  {
   "cell_type": "code",
   "execution_count": 98,
   "metadata": {},
   "outputs": [
    {
     "data": {
      "text/plain": [
       "(None, tensor([0., 2., 4., 6.]))"
      ]
     },
     "execution_count": 98,
     "metadata": {},
     "output_type": "execute_result"
    }
   ],
   "source": [
    "# 2. 运行反向传播函数后，立即再次运行，会发生什么\n",
    "\n",
    "x = torch.arange(4.0)\n",
    "x.requires_grad_(True) \n",
    "#计算Y\n",
    "y=x*x\n",
    "# 通过调用反向传播函数来自动计算y关于x每个分量的梯度\n",
    "y.sum().backward(),x.grad\n",
    "\n",
    "# 会报错\n",
    "#y.sum().backward(),x.grad\n"
   ]
  },
  {
   "cell_type": "code",
   "execution_count": 104,
   "metadata": {},
   "outputs": [
    {
     "data": {
      "text/plain": [
       "(tensor([[-0.1465],\n",
       "         [-1.4069],\n",
       "         [ 0.6053]], requires_grad=True),\n",
       " None,\n",
       " tensor([[ 5.0644],\n",
       "         [10.9379],\n",
       "         [ 6.0990]]))"
      ]
     },
     "execution_count": 104,
     "metadata": {},
     "output_type": "execute_result"
    }
   ],
   "source": [
    "# 3.在控制流的例子中，我们计算d关于a的导数，如果将变量a更改为随机向量或矩阵，会发生什么？\n",
    "a = torch.randn(size=(3,1), requires_grad=True)\n",
    "d = f(a)\n",
    "\n",
    "# 会报错：grad can be implicitly created only for scalar outputs\n",
    "#a,d.backward(),a.grad == d / a\n",
    "\n",
    "a,d.sum().backward(),a.grad\n"
   ]
  },
  {
   "cell_type": "code",
   "execution_count": 125,
   "metadata": {},
   "outputs": [
    {
     "data": {
      "text/plain": [
       "(None,\n",
       " tensor([[2.],\n",
       "         [2.],\n",
       "         [2.]]))"
      ]
     },
     "execution_count": 125,
     "metadata": {},
     "output_type": "execute_result"
    }
   ],
   "source": [
    "# 4. 重新设计一个求控制流梯度的例子，运行并分析结果。\n",
    "def f(a):\n",
    "    c=2*a\n",
    "    return c\n",
    "\n",
    "m = torch.randn(size=(3,1), requires_grad=True)\n",
    "n = f(m)\n",
    "n.sum().backward(),m.grad"
   ]
  },
  {
   "cell_type": "code",
   "execution_count": 133,
   "metadata": {},
   "outputs": [
    {
     "data": {
      "image/svg+xml": "<?xml version=\"1.0\" encoding=\"utf-8\" standalone=\"no\"?>\n<!DOCTYPE svg PUBLIC \"-//W3C//DTD SVG 1.1//EN\"\n  \"http://www.w3.org/Graphics/SVG/1.1/DTD/svg11.dtd\">\n<svg xmlns:xlink=\"http://www.w3.org/1999/xlink\" width=\"254.660937pt\" height=\"183.35625pt\" viewBox=\"0 0 254.660937 183.35625\" xmlns=\"http://www.w3.org/2000/svg\" version=\"1.1\">\n <metadata>\n  <rdf:RDF xmlns:dc=\"http://purl.org/dc/elements/1.1/\" xmlns:cc=\"http://creativecommons.org/ns#\" xmlns:rdf=\"http://www.w3.org/1999/02/22-rdf-syntax-ns#\">\n   <cc:Work>\n    <dc:type rdf:resource=\"http://purl.org/dc/dcmitype/StillImage\"/>\n    <dc:date>2023-03-20T12:36:16.519493</dc:date>\n    <dc:format>image/svg+xml</dc:format>\n    <dc:creator>\n     <cc:Agent>\n      <dc:title>Matplotlib v3.5.1, https://matplotlib.org/</dc:title>\n     </cc:Agent>\n    </dc:creator>\n   </cc:Work>\n  </rdf:RDF>\n </metadata>\n <defs>\n  <style type=\"text/css\">*{stroke-linejoin: round; stroke-linecap: butt}</style>\n </defs>\n <g id=\"figure_1\">\n  <g id=\"patch_1\">\n   <path d=\"M 0 183.35625 \nL 254.660937 183.35625 \nL 254.660937 0 \nL 0 0 \nz\n\" style=\"fill: #ffffff\"/>\n  </g>\n  <g id=\"axes_1\">\n   <g id=\"patch_2\">\n    <path d=\"M 52.160938 145.8 \nL 247.460938 145.8 \nL 247.460938 7.2 \nL 52.160938 7.2 \nz\n\" style=\"fill: #ffffff\"/>\n   </g>\n   <g id=\"matplotlib.axis_1\">\n    <g id=\"xtick_1\">\n     <g id=\"line2d_1\">\n      <path d=\"M 61.03821 145.8 \nL 61.03821 7.2 \n\" clip-path=\"url(#pe395e2c1e4)\" style=\"fill: none; stroke: #b0b0b0; stroke-width: 0.8; stroke-linecap: square\"/>\n     </g>\n     <g id=\"line2d_2\">\n      <defs>\n       <path id=\"md24c3b2003\" d=\"M 0 0 \nL 0 3.5 \n\" style=\"stroke: #000000; stroke-width: 0.8\"/>\n      </defs>\n      <g>\n       <use xlink:href=\"#md24c3b2003\" x=\"61.03821\" y=\"145.8\" style=\"stroke: #000000; stroke-width: 0.8\"/>\n      </g>\n     </g>\n     <g id=\"text_1\">\n      <!-- 0 -->\n      <g transform=\"translate(57.85696 160.398438)scale(0.1 -0.1)\">\n       <defs>\n        <path id=\"DejaVuSans-30\" d=\"M 2034 4250 \nQ 1547 4250 1301 3770 \nQ 1056 3291 1056 2328 \nQ 1056 1369 1301 889 \nQ 1547 409 2034 409 \nQ 2525 409 2770 889 \nQ 3016 1369 3016 2328 \nQ 3016 3291 2770 3770 \nQ 2525 4250 2034 4250 \nz\nM 2034 4750 \nQ 2819 4750 3233 4129 \nQ 3647 3509 3647 2328 \nQ 3647 1150 3233 529 \nQ 2819 -91 2034 -91 \nQ 1250 -91 836 529 \nQ 422 1150 422 2328 \nQ 422 3509 836 4129 \nQ 1250 4750 2034 4750 \nz\n\" transform=\"scale(0.015625)\"/>\n       </defs>\n       <use xlink:href=\"#DejaVuSans-30\"/>\n      </g>\n     </g>\n    </g>\n    <g id=\"xtick_2\">\n     <g id=\"line2d_3\">\n      <path d=\"M 105.647622 145.8 \nL 105.647622 7.2 \n\" clip-path=\"url(#pe395e2c1e4)\" style=\"fill: none; stroke: #b0b0b0; stroke-width: 0.8; stroke-linecap: square\"/>\n     </g>\n     <g id=\"line2d_4\">\n      <g>\n       <use xlink:href=\"#md24c3b2003\" x=\"105.647622\" y=\"145.8\" style=\"stroke: #000000; stroke-width: 0.8\"/>\n      </g>\n     </g>\n     <g id=\"text_2\">\n      <!-- 5 -->\n      <g transform=\"translate(102.466372 160.398438)scale(0.1 -0.1)\">\n       <defs>\n        <path id=\"DejaVuSans-35\" d=\"M 691 4666 \nL 3169 4666 \nL 3169 4134 \nL 1269 4134 \nL 1269 2991 \nQ 1406 3038 1543 3061 \nQ 1681 3084 1819 3084 \nQ 2600 3084 3056 2656 \nQ 3513 2228 3513 1497 \nQ 3513 744 3044 326 \nQ 2575 -91 1722 -91 \nQ 1428 -91 1123 -41 \nQ 819 9 494 109 \nL 494 744 \nQ 775 591 1075 516 \nQ 1375 441 1709 441 \nQ 2250 441 2565 725 \nQ 2881 1009 2881 1497 \nQ 2881 1984 2565 2268 \nQ 2250 2553 1709 2553 \nQ 1456 2553 1204 2497 \nQ 953 2441 691 2322 \nL 691 4666 \nz\n\" transform=\"scale(0.015625)\"/>\n       </defs>\n       <use xlink:href=\"#DejaVuSans-35\"/>\n      </g>\n     </g>\n    </g>\n    <g id=\"xtick_3\">\n     <g id=\"line2d_5\">\n      <path d=\"M 150.257033 145.8 \nL 150.257033 7.2 \n\" clip-path=\"url(#pe395e2c1e4)\" style=\"fill: none; stroke: #b0b0b0; stroke-width: 0.8; stroke-linecap: square\"/>\n     </g>\n     <g id=\"line2d_6\">\n      <g>\n       <use xlink:href=\"#md24c3b2003\" x=\"150.257033\" y=\"145.8\" style=\"stroke: #000000; stroke-width: 0.8\"/>\n      </g>\n     </g>\n     <g id=\"text_3\">\n      <!-- 10 -->\n      <g transform=\"translate(143.894533 160.398438)scale(0.1 -0.1)\">\n       <defs>\n        <path id=\"DejaVuSans-31\" d=\"M 794 531 \nL 1825 531 \nL 1825 4091 \nL 703 3866 \nL 703 4441 \nL 1819 4666 \nL 2450 4666 \nL 2450 531 \nL 3481 531 \nL 3481 0 \nL 794 0 \nL 794 531 \nz\n\" transform=\"scale(0.015625)\"/>\n       </defs>\n       <use xlink:href=\"#DejaVuSans-31\"/>\n       <use xlink:href=\"#DejaVuSans-30\" x=\"63.623047\"/>\n      </g>\n     </g>\n    </g>\n    <g id=\"xtick_4\">\n     <g id=\"line2d_7\">\n      <path d=\"M 194.866445 145.8 \nL 194.866445 7.2 \n\" clip-path=\"url(#pe395e2c1e4)\" style=\"fill: none; stroke: #b0b0b0; stroke-width: 0.8; stroke-linecap: square\"/>\n     </g>\n     <g id=\"line2d_8\">\n      <g>\n       <use xlink:href=\"#md24c3b2003\" x=\"194.866445\" y=\"145.8\" style=\"stroke: #000000; stroke-width: 0.8\"/>\n      </g>\n     </g>\n     <g id=\"text_4\">\n      <!-- 15 -->\n      <g transform=\"translate(188.503945 160.398438)scale(0.1 -0.1)\">\n       <use xlink:href=\"#DejaVuSans-31\"/>\n       <use xlink:href=\"#DejaVuSans-35\" x=\"63.623047\"/>\n      </g>\n     </g>\n    </g>\n    <g id=\"xtick_5\">\n     <g id=\"line2d_9\">\n      <path d=\"M 239.475856 145.8 \nL 239.475856 7.2 \n\" clip-path=\"url(#pe395e2c1e4)\" style=\"fill: none; stroke: #b0b0b0; stroke-width: 0.8; stroke-linecap: square\"/>\n     </g>\n     <g id=\"line2d_10\">\n      <g>\n       <use xlink:href=\"#md24c3b2003\" x=\"239.475856\" y=\"145.8\" style=\"stroke: #000000; stroke-width: 0.8\"/>\n      </g>\n     </g>\n     <g id=\"text_5\">\n      <!-- 20 -->\n      <g transform=\"translate(233.113356 160.398438)scale(0.1 -0.1)\">\n       <defs>\n        <path id=\"DejaVuSans-32\" d=\"M 1228 531 \nL 3431 531 \nL 3431 0 \nL 469 0 \nL 469 531 \nQ 828 903 1448 1529 \nQ 2069 2156 2228 2338 \nQ 2531 2678 2651 2914 \nQ 2772 3150 2772 3378 \nQ 2772 3750 2511 3984 \nQ 2250 4219 1831 4219 \nQ 1534 4219 1204 4116 \nQ 875 4013 500 3803 \nL 500 4441 \nQ 881 4594 1212 4672 \nQ 1544 4750 1819 4750 \nQ 2544 4750 2975 4387 \nQ 3406 4025 3406 3419 \nQ 3406 3131 3298 2873 \nQ 3191 2616 2906 2266 \nQ 2828 2175 2409 1742 \nQ 1991 1309 1228 531 \nz\n\" transform=\"scale(0.015625)\"/>\n       </defs>\n       <use xlink:href=\"#DejaVuSans-32\"/>\n       <use xlink:href=\"#DejaVuSans-30\" x=\"63.623047\"/>\n      </g>\n     </g>\n    </g>\n    <g id=\"text_6\">\n     <!-- x -->\n     <g transform=\"translate(146.851563 174.076563)scale(0.1 -0.1)\">\n      <defs>\n       <path id=\"DejaVuSans-78\" d=\"M 3513 3500 \nL 2247 1797 \nL 3578 0 \nL 2900 0 \nL 1881 1375 \nL 863 0 \nL 184 0 \nL 1544 1831 \nL 300 3500 \nL 978 3500 \nL 1906 2253 \nL 2834 3500 \nL 3513 3500 \nz\n\" transform=\"scale(0.015625)\"/>\n      </defs>\n      <use xlink:href=\"#DejaVuSans-78\"/>\n     </g>\n    </g>\n   </g>\n   <g id=\"matplotlib.axis_2\">\n    <g id=\"ytick_1\">\n     <g id=\"line2d_11\">\n      <path d=\"M 52.160938 139.500616 \nL 247.460938 139.500616 \n\" clip-path=\"url(#pe395e2c1e4)\" style=\"fill: none; stroke: #b0b0b0; stroke-width: 0.8; stroke-linecap: square\"/>\n     </g>\n     <g id=\"line2d_12\">\n      <defs>\n       <path id=\"m05e9b5f33c\" d=\"M 0 0 \nL -3.5 0 \n\" style=\"stroke: #000000; stroke-width: 0.8\"/>\n      </defs>\n      <g>\n       <use xlink:href=\"#m05e9b5f33c\" x=\"52.160938\" y=\"139.500616\" style=\"stroke: #000000; stroke-width: 0.8\"/>\n      </g>\n     </g>\n     <g id=\"text_7\">\n      <!-- −1.0 -->\n      <g transform=\"translate(20.878125 143.299835)scale(0.1 -0.1)\">\n       <defs>\n        <path id=\"DejaVuSans-2212\" d=\"M 678 2272 \nL 4684 2272 \nL 4684 1741 \nL 678 1741 \nL 678 2272 \nz\n\" transform=\"scale(0.015625)\"/>\n        <path id=\"DejaVuSans-2e\" d=\"M 684 794 \nL 1344 794 \nL 1344 0 \nL 684 0 \nL 684 794 \nz\n\" transform=\"scale(0.015625)\"/>\n       </defs>\n       <use xlink:href=\"#DejaVuSans-2212\"/>\n       <use xlink:href=\"#DejaVuSans-31\" x=\"83.789062\"/>\n       <use xlink:href=\"#DejaVuSans-2e\" x=\"147.412109\"/>\n       <use xlink:href=\"#DejaVuSans-30\" x=\"179.199219\"/>\n      </g>\n     </g>\n    </g>\n    <g id=\"ytick_2\">\n     <g id=\"line2d_13\">\n      <path d=\"M 52.160938 108.000462 \nL 247.460938 108.000462 \n\" clip-path=\"url(#pe395e2c1e4)\" style=\"fill: none; stroke: #b0b0b0; stroke-width: 0.8; stroke-linecap: square\"/>\n     </g>\n     <g id=\"line2d_14\">\n      <g>\n       <use xlink:href=\"#m05e9b5f33c\" x=\"52.160938\" y=\"108.000462\" style=\"stroke: #000000; stroke-width: 0.8\"/>\n      </g>\n     </g>\n     <g id=\"text_8\">\n      <!-- −0.5 -->\n      <g transform=\"translate(20.878125 111.799681)scale(0.1 -0.1)\">\n       <use xlink:href=\"#DejaVuSans-2212\"/>\n       <use xlink:href=\"#DejaVuSans-30\" x=\"83.789062\"/>\n       <use xlink:href=\"#DejaVuSans-2e\" x=\"147.412109\"/>\n       <use xlink:href=\"#DejaVuSans-35\" x=\"179.199219\"/>\n      </g>\n     </g>\n    </g>\n    <g id=\"ytick_3\">\n     <g id=\"line2d_15\">\n      <path d=\"M 52.160938 76.500308 \nL 247.460938 76.500308 \n\" clip-path=\"url(#pe395e2c1e4)\" style=\"fill: none; stroke: #b0b0b0; stroke-width: 0.8; stroke-linecap: square\"/>\n     </g>\n     <g id=\"line2d_16\">\n      <g>\n       <use xlink:href=\"#m05e9b5f33c\" x=\"52.160938\" y=\"76.500308\" style=\"stroke: #000000; stroke-width: 0.8\"/>\n      </g>\n     </g>\n     <g id=\"text_9\">\n      <!-- 0.0 -->\n      <g transform=\"translate(29.257812 80.299527)scale(0.1 -0.1)\">\n       <use xlink:href=\"#DejaVuSans-30\"/>\n       <use xlink:href=\"#DejaVuSans-2e\" x=\"63.623047\"/>\n       <use xlink:href=\"#DejaVuSans-30\" x=\"95.410156\"/>\n      </g>\n     </g>\n    </g>\n    <g id=\"ytick_4\">\n     <g id=\"line2d_17\">\n      <path d=\"M 52.160938 45.000154 \nL 247.460938 45.000154 \n\" clip-path=\"url(#pe395e2c1e4)\" style=\"fill: none; stroke: #b0b0b0; stroke-width: 0.8; stroke-linecap: square\"/>\n     </g>\n     <g id=\"line2d_18\">\n      <g>\n       <use xlink:href=\"#m05e9b5f33c\" x=\"52.160938\" y=\"45.000154\" style=\"stroke: #000000; stroke-width: 0.8\"/>\n      </g>\n     </g>\n     <g id=\"text_10\">\n      <!-- 0.5 -->\n      <g transform=\"translate(29.257812 48.799373)scale(0.1 -0.1)\">\n       <use xlink:href=\"#DejaVuSans-30\"/>\n       <use xlink:href=\"#DejaVuSans-2e\" x=\"63.623047\"/>\n       <use xlink:href=\"#DejaVuSans-35\" x=\"95.410156\"/>\n      </g>\n     </g>\n    </g>\n    <g id=\"ytick_5\">\n     <g id=\"line2d_19\">\n      <path d=\"M 52.160938 13.5 \nL 247.460938 13.5 \n\" clip-path=\"url(#pe395e2c1e4)\" style=\"fill: none; stroke: #b0b0b0; stroke-width: 0.8; stroke-linecap: square\"/>\n     </g>\n     <g id=\"line2d_20\">\n      <g>\n       <use xlink:href=\"#m05e9b5f33c\" x=\"52.160938\" y=\"13.5\" style=\"stroke: #000000; stroke-width: 0.8\"/>\n      </g>\n     </g>\n     <g id=\"text_11\">\n      <!-- 1.0 -->\n      <g transform=\"translate(29.257812 17.299219)scale(0.1 -0.1)\">\n       <use xlink:href=\"#DejaVuSans-31\"/>\n       <use xlink:href=\"#DejaVuSans-2e\" x=\"63.623047\"/>\n       <use xlink:href=\"#DejaVuSans-30\" x=\"95.410156\"/>\n      </g>\n     </g>\n    </g>\n    <g id=\"text_12\">\n     <!-- y -->\n     <g transform=\"translate(14.798438 79.459375)rotate(-90)scale(0.1 -0.1)\">\n      <defs>\n       <path id=\"DejaVuSans-79\" d=\"M 2059 -325 \nQ 1816 -950 1584 -1140 \nQ 1353 -1331 966 -1331 \nL 506 -1331 \nL 506 -850 \nL 844 -850 \nQ 1081 -850 1212 -737 \nQ 1344 -625 1503 -206 \nL 1606 56 \nL 191 3500 \nL 800 3500 \nL 1894 763 \nL 2988 3500 \nL 3597 3500 \nL 2059 -325 \nz\n\" transform=\"scale(0.015625)\"/>\n      </defs>\n      <use xlink:href=\"#DejaVuSans-79\"/>\n     </g>\n    </g>\n   </g>\n   <g id=\"line2d_21\">\n    <path d=\"M 61.03821 76.500308 \nL 64.606963 51.966831 \nL 66.39134 40.927657 \nL 68.175716 31.306654 \nL 69.960093 23.487379 \nL 70.852281 20.353967 \nL 71.744469 17.781559 \nL 72.636657 15.795845 \nL 73.528845 14.416671 \nL 74.421034 13.657816 \nL 75.313222 13.526864 \nL 76.205411 14.025118 \nL 77.097599 15.147608 \nL 77.989786 16.883111 \nL 78.881975 19.214291 \nL 79.774162 22.117848 \nL 80.666352 25.564789 \nL 82.450729 33.945926 \nL 84.235106 44.02357 \nL 86.019482 55.395963 \nL 89.588234 80.1779 \nL 92.264798 98.599759 \nL 94.049175 109.88015 \nL 95.833552 119.829794 \nL 97.617927 128.052015 \nL 98.510114 131.409842 \nL 99.402306 134.219048 \nL 100.294493 136.451533 \nL 101.186681 138.085007 \nL 102.078868 139.103145 \nL 102.971055 139.495779 \nL 103.863247 139.258982 \nL 104.755434 138.395122 \nL 105.647622 136.912834 \nL 106.539813 134.826911 \nL 107.432001 132.158214 \nL 108.324188 128.933407 \nL 109.216376 125.184706 \nL 111.00075 116.270305 \nL 112.785125 105.770405 \nL 115.461691 87.976608 \nL 120.814824 50.994622 \nL 122.599199 40.05842 \nL 124.383574 30.575038 \nL 126.167949 22.92255 \nL 127.060136 19.881432 \nL 127.952328 17.406021 \nL 128.844515 15.521072 \nL 129.736702 14.245408 \nL 130.62889 13.591771 \nL 131.521077 13.566695 \nL 132.413269 14.170434 \nL 133.30546 15.396958 \nL 134.197643 17.233988 \nL 135.089835 19.663211 \nL 135.982018 22.6603 \nL 136.87421 26.195373 \nL 138.658585 34.733035 \nL 140.442968 44.93587 \nL 142.227343 56.397036 \nL 145.796092 81.234852 \nL 148.472659 99.588617 \nL 150.257033 110.773807 \nL 152.041417 120.592663 \nL 153.825783 128.653617 \nL 154.717974 131.921413 \nL 155.610158 134.63543 \nL 156.502349 136.768604 \nL 157.394532 138.299585 \nL 158.286724 139.213095 \nL 159.178916 139.5 \nL 160.071099 139.157432 \nL 160.96329 138.188809 \nL 161.855482 136.603811 \nL 162.747665 134.418298 \nL 163.639857 131.654064 \nL 164.53204 128.338781 \nL 166.316423 120.192594 \nL 168.100798 110.304568 \nL 169.885173 99.068874 \nL 173.453931 74.382022 \nL 177.02268 50.029656 \nL 178.807055 39.199503 \nL 180.591438 29.856373 \nL 182.375813 22.372835 \nL 183.268005 19.424859 \nL 184.160188 17.047187 \nL 185.052379 15.263528 \nL 185.944563 14.091738 \nL 186.836754 13.543507 \nL 187.728946 13.624324 \nL 188.621129 14.333372 \nL 189.513312 15.663564 \nL 190.405504 17.601633 \nL 191.297687 20.128173 \nL 192.189878 23.217991 \nL 193.082062 26.840156 \nL 194.866445 35.531972 \nL 196.65082 45.857031 \nL 199.327386 63.492793 \nL 205.57271 106.263081 \nL 207.357077 116.701208 \nL 209.14146 125.536744 \nL 210.033652 129.240522 \nL 210.925826 132.417282 \nL 211.818018 135.035398 \nL 212.710209 137.068645 \nL 213.602384 138.496691 \nL 214.494576 139.305313 \nL 215.386767 139.486406 \nL 216.278959 139.038159 \nL 217.171151 137.965046 \nL 218.063342 136.277796 \nL 218.955534 133.993265 \nL 219.847726 131.134277 \nL 220.7399 127.729469 \nL 222.524283 119.423269 \nL 224.308667 109.40585 \nL 226.093033 98.076693 \nL 229.661782 73.323687 \nL 232.338357 54.871316 \nL 234.122724 43.547024 \nL 235.907107 33.536371 \nL 237.691473 25.238638 \nL 238.583665 21.838476 \nL 238.583665 21.838476 \n\" clip-path=\"url(#pe395e2c1e4)\" style=\"fill: none; stroke: #1f77b4; stroke-width: 1.5; stroke-linecap: square\"/>\n   </g>\n   <g id=\"line2d_22\">\n    <path d=\"M 61.03821 13.5 \nL 61.930398 13.814738 \nL 62.822587 14.75581 \nL 63.714775 16.313814 \nL 64.606963 18.473183 \nL 65.499151 21.212337 \nL 66.39134 24.50391 \nL 68.175716 32.607571 \nL 69.960093 42.461094 \nL 71.744469 53.671661 \nL 74.421034 72.043843 \nL 77.989786 96.867649 \nL 79.774162 108.305764 \nL 81.558539 118.4759 \nL 83.342916 126.972601 \nL 84.235106 130.484568 \nL 85.127293 133.457133 \nL 86.019482 135.86061 \nL 86.91167 137.670972 \nL 87.803857 138.87014 \nL 88.696047 139.446129 \nL 89.588234 139.393186 \nL 90.480421 138.71184 \nL 91.372611 137.408891 \nL 92.264798 135.497367 \nL 93.156988 132.996362 \nL 94.049175 129.930869 \nL 94.941363 126.331521 \nL 96.725739 117.680056 \nL 98.510114 107.386901 \nL 101.186681 89.780509 \nL 107.432001 46.983598 \nL 109.216376 36.514456 \nL 111.00075 27.639424 \nL 111.892938 23.913152 \nL 112.785125 20.712314 \nL 113.677317 18.068877 \nL 114.569504 16.009285 \nL 115.461691 14.554093 \nL 116.353879 13.717849 \nL 117.246066 13.508907 \nL 118.138258 13.929352 \nL 119.030445 14.974985 \nL 119.922633 16.63536 \nL 120.814824 18.893894 \nL 121.707012 21.728004 \nL 122.599199 25.10938 \nL 124.383574 33.373654 \nL 126.167949 43.357248 \nL 127.952328 54.662177 \nL 131.521077 79.398432 \nL 134.197643 97.867158 \nL 135.982018 109.215631 \nL 137.766401 119.259899 \nL 139.550776 127.599422 \nL 140.442968 131.02301 \nL 141.335151 133.901794 \nL 142.227343 136.207068 \nL 143.119526 137.915752 \nL 144.011717 139.01081 \nL 144.903909 139.481277 \nL 145.796092 139.322462 \nL 146.688284 138.535943 \nL 147.580475 137.129579 \nL 148.472659 135.117444 \nL 149.36485 132.519609 \nL 150.257033 129.362072 \nL 151.149225 125.676329 \nL 152.9336 116.872561 \nL 154.717974 106.459282 \nL 157.394532 88.743199 \nL 162.747665 51.710284 \nL 164.53204 40.697916 \nL 166.316423 31.112834 \nL 168.100798 23.337249 \nL 168.99299 20.228036 \nL 169.885173 17.681106 \nL 170.777364 15.721854 \nL 171.669547 14.369894 \nL 172.561739 13.63871 \nL 173.453931 13.535621 \nL 174.346114 14.061656 \nL 175.238305 15.211561 \nL 176.130497 16.973846 \nL 177.02268 19.33088 \nL 177.914872 22.259157 \nL 178.807055 25.729364 \nL 180.591438 34.151965 \nL 182.375813 44.262819 \nL 184.160188 55.658881 \nL 187.728946 80.456254 \nL 190.405504 98.860646 \nL 192.189878 110.116279 \nL 193.974253 120.031751 \nL 195.758628 128.211765 \nL 196.65082 131.545999 \nL 197.543011 134.330234 \nL 198.435194 136.536628 \nL 199.327386 138.143177 \nL 200.219569 139.133802 \nL 201.111761 139.498618 \nL 202.003952 139.233973 \nL 202.896136 138.342521 \nL 203.788327 136.83315 \nL 204.680519 134.720949 \nL 205.57271 132.027025 \nL 206.464885 128.778355 \nL 207.357077 125.007281 \nL 209.14146 116.05365 \nL 210.925826 105.523243 \nL 213.602384 87.702429 \nL 218.955534 50.739896 \nL 220.7399 39.83136 \nL 222.524283 30.384601 \nL 224.308667 22.776345 \nL 225.200841 19.75971 \nL 226.093033 17.309951 \nL 226.985225 15.451606 \nL 227.877399 14.203261 \nL 228.769591 13.577344 \nL 229.661782 13.580138 \nL 230.553974 14.211612 \nL 231.446166 15.465459 \nL 232.338357 17.329154 \nL 233.230532 19.784017 \nL 234.122724 22.805616 \nL 235.014915 26.363718 \nL 236.799299 34.942224 \nL 238.583665 45.177429 \nL 238.583665 45.177429 \n\" clip-path=\"url(#pe395e2c1e4)\" style=\"fill: none; stroke-dasharray: 5.55,2.4; stroke-dashoffset: 0; stroke: #bf00bf; stroke-width: 1.5\"/>\n   </g>\n   <g id=\"patch_3\">\n    <path d=\"M 52.160938 145.8 \nL 52.160938 7.2 \n\" style=\"fill: none; stroke: #000000; stroke-width: 0.8; stroke-linejoin: miter; stroke-linecap: square\"/>\n   </g>\n   <g id=\"patch_4\">\n    <path d=\"M 247.460938 145.8 \nL 247.460938 7.2 \n\" style=\"fill: none; stroke: #000000; stroke-width: 0.8; stroke-linejoin: miter; stroke-linecap: square\"/>\n   </g>\n   <g id=\"patch_5\">\n    <path d=\"M 52.160938 145.8 \nL 247.460938 145.8 \n\" style=\"fill: none; stroke: #000000; stroke-width: 0.8; stroke-linejoin: miter; stroke-linecap: square\"/>\n   </g>\n   <g id=\"patch_6\">\n    <path d=\"M 52.160938 7.2 \nL 247.460938 7.2 \n\" style=\"fill: none; stroke: #000000; stroke-width: 0.8; stroke-linejoin: miter; stroke-linecap: square\"/>\n   </g>\n   <g id=\"legend_1\">\n    <g id=\"patch_7\">\n     <path d=\"M 180.557813 92.678125 \nL 240.460938 92.678125 \nQ 242.460938 92.678125 242.460938 90.678125 \nL 242.460938 62.321875 \nQ 242.460938 60.321875 240.460938 60.321875 \nL 180.557813 60.321875 \nQ 178.557813 60.321875 178.557813 62.321875 \nL 178.557813 90.678125 \nQ 178.557813 92.678125 180.557813 92.678125 \nz\n\" style=\"fill: #ffffff; opacity: 0.8; stroke: #cccccc; stroke-linejoin: miter\"/>\n    </g>\n    <g id=\"line2d_23\">\n     <path d=\"M 182.557813 68.420313 \nL 192.557813 68.420313 \nL 202.557813 68.420313 \n\" style=\"fill: none; stroke: #1f77b4; stroke-width: 1.5; stroke-linecap: square\"/>\n    </g>\n    <g id=\"text_13\">\n     <!-- y -->\n     <g transform=\"translate(210.557813 71.920313)scale(0.1 -0.1)\">\n      <use xlink:href=\"#DejaVuSans-79\"/>\n     </g>\n    </g>\n    <g id=\"line2d_24\">\n     <path d=\"M 182.557813 83.098438 \nL 192.557813 83.098438 \nL 202.557813 83.098438 \n\" style=\"fill: none; stroke-dasharray: 5.55,2.4; stroke-dashoffset: 0; stroke: #bf00bf; stroke-width: 1.5\"/>\n    </g>\n    <g id=\"text_14\">\n     <!-- dy/dx -->\n     <g transform=\"translate(210.557813 86.598438)scale(0.1 -0.1)\">\n      <defs>\n       <path id=\"DejaVuSans-64\" d=\"M 2906 2969 \nL 2906 4863 \nL 3481 4863 \nL 3481 0 \nL 2906 0 \nL 2906 525 \nQ 2725 213 2448 61 \nQ 2172 -91 1784 -91 \nQ 1150 -91 751 415 \nQ 353 922 353 1747 \nQ 353 2572 751 3078 \nQ 1150 3584 1784 3584 \nQ 2172 3584 2448 3432 \nQ 2725 3281 2906 2969 \nz\nM 947 1747 \nQ 947 1113 1208 752 \nQ 1469 391 1925 391 \nQ 2381 391 2643 752 \nQ 2906 1113 2906 1747 \nQ 2906 2381 2643 2742 \nQ 2381 3103 1925 3103 \nQ 1469 3103 1208 2742 \nQ 947 2381 947 1747 \nz\n\" transform=\"scale(0.015625)\"/>\n       <path id=\"DejaVuSans-2f\" d=\"M 1625 4666 \nL 2156 4666 \nL 531 -594 \nL 0 -594 \nL 1625 4666 \nz\n\" transform=\"scale(0.015625)\"/>\n      </defs>\n      <use xlink:href=\"#DejaVuSans-64\"/>\n      <use xlink:href=\"#DejaVuSans-79\" x=\"63.476562\"/>\n      <use xlink:href=\"#DejaVuSans-2f\" x=\"122.65625\"/>\n      <use xlink:href=\"#DejaVuSans-64\" x=\"156.347656\"/>\n      <use xlink:href=\"#DejaVuSans-78\" x=\"219.824219\"/>\n     </g>\n    </g>\n   </g>\n  </g>\n </g>\n <defs>\n  <clipPath id=\"pe395e2c1e4\">\n   <rect x=\"52.160938\" y=\"7.2\" width=\"195.3\" height=\"138.6\"/>\n  </clipPath>\n </defs>\n</svg>\n",
      "text/plain": [
       "<Figure size 350x250 with 1 Axes>"
      ]
     },
     "metadata": {},
     "output_type": "display_data"
    }
   ],
   "source": [
    "# 5.使f(x)=sin(x)，绘制f(x)和df(x)/dx的图像。\n",
    "x = torch.arange(0, 20, 0.1)\n",
    "x.requires_grad_(True)\n",
    "y=torch.sin(x)\n",
    "\n",
    "y.sum().backward(),x.grad\n",
    "d2l.plot(x.detach(),[y.detach(),x.grad],'x','y',legend=['y','dy/dx'])"
   ]
  },
  {
   "cell_type": "markdown",
   "metadata": {},
   "source": [
    "# 5 概率\n",
    "## 5.1 基本概率论"
   ]
  },
  {
   "cell_type": "code",
   "execution_count": 134,
   "metadata": {},
   "outputs": [],
   "source": [
    "import torch\n",
    "from torch.distributions import multinomial\n",
    "from d2l import torch as d2l"
   ]
  },
  {
   "cell_type": "code",
   "execution_count": 139,
   "metadata": {},
   "outputs": [
    {
     "data": {
      "text/plain": [
       "tensor([0.1672, 0.1681, 0.1671, 0.1660, 0.1666, 0.1650])"
      ]
     },
     "execution_count": 139,
     "metadata": {},
     "output_type": "execute_result"
    }
   ],
   "source": [
    "# 掷骰子 传入一个概率向量，输出一个相同长度的向量，采样次数\n",
    "fair_probs = torch.ones([6]) / 6\n",
    "multinomial.Multinomial(1, fair_probs).sample()\n",
    "multinomial.Multinomial(10, fair_probs).sample()\n",
    "\n",
    "counts = multinomial.Multinomial(1000, fair_probs).sample()\n",
    "counts / 1000  # 相对频率作为估计值"
   ]
  },
  {
   "cell_type": "code",
   "execution_count": 140,
   "metadata": {},
   "outputs": [
    {
     "data": {
      "image/svg+xml": "<?xml version=\"1.0\" encoding=\"utf-8\" standalone=\"no\"?>\n<!DOCTYPE svg PUBLIC \"-//W3C//DTD SVG 1.1//EN\"\n  \"http://www.w3.org/Graphics/SVG/1.1/DTD/svg11.dtd\">\n<svg xmlns:xlink=\"http://www.w3.org/1999/xlink\" width=\"392.14375pt\" height=\"294.23625pt\" viewBox=\"0 0 392.14375 294.23625\" xmlns=\"http://www.w3.org/2000/svg\" version=\"1.1\">\n <metadata>\n  <rdf:RDF xmlns:dc=\"http://purl.org/dc/elements/1.1/\" xmlns:cc=\"http://creativecommons.org/ns#\" xmlns:rdf=\"http://www.w3.org/1999/02/22-rdf-syntax-ns#\">\n   <cc:Work>\n    <dc:type rdf:resource=\"http://purl.org/dc/dcmitype/StillImage\"/>\n    <dc:date>2023-03-20T12:43:15.635888</dc:date>\n    <dc:format>image/svg+xml</dc:format>\n    <dc:creator>\n     <cc:Agent>\n      <dc:title>Matplotlib v3.5.1, https://matplotlib.org/</dc:title>\n     </cc:Agent>\n    </dc:creator>\n   </cc:Work>\n  </rdf:RDF>\n </metadata>\n <defs>\n  <style type=\"text/css\">*{stroke-linejoin: round; stroke-linecap: butt}</style>\n </defs>\n <g id=\"figure_1\">\n  <g id=\"patch_1\">\n   <path d=\"M 0 294.23625 \nL 392.14375 294.23625 \nL 392.14375 0 \nL 0 0 \nz\n\" style=\"fill: #ffffff\"/>\n  </g>\n  <g id=\"axes_1\">\n   <g id=\"patch_2\">\n    <path d=\"M 50.14375 256.68 \nL 384.94375 256.68 \nL 384.94375 7.2 \nL 50.14375 7.2 \nz\n\" style=\"fill: #ffffff\"/>\n   </g>\n   <g id=\"matplotlib.axis_1\">\n    <g id=\"xtick_1\">\n     <g id=\"line2d_1\">\n      <defs>\n       <path id=\"mfabf7f752e\" d=\"M 0 0 \nL 0 3.5 \n\" style=\"stroke: #000000; stroke-width: 0.8\"/>\n      </defs>\n      <g>\n       <use xlink:href=\"#mfabf7f752e\" x=\"65.361932\" y=\"256.68\" style=\"stroke: #000000; stroke-width: 0.8\"/>\n      </g>\n     </g>\n     <g id=\"text_1\">\n      <!-- 0 -->\n      <g transform=\"translate(62.180682 271.278437)scale(0.1 -0.1)\">\n       <defs>\n        <path id=\"DejaVuSans-30\" d=\"M 2034 4250 \nQ 1547 4250 1301 3770 \nQ 1056 3291 1056 2328 \nQ 1056 1369 1301 889 \nQ 1547 409 2034 409 \nQ 2525 409 2770 889 \nQ 3016 1369 3016 2328 \nQ 3016 3291 2770 3770 \nQ 2525 4250 2034 4250 \nz\nM 2034 4750 \nQ 2819 4750 3233 4129 \nQ 3647 3509 3647 2328 \nQ 3647 1150 3233 529 \nQ 2819 -91 2034 -91 \nQ 1250 -91 836 529 \nQ 422 1150 422 2328 \nQ 422 3509 836 4129 \nQ 1250 4750 2034 4750 \nz\n\" transform=\"scale(0.015625)\"/>\n       </defs>\n       <use xlink:href=\"#DejaVuSans-30\"/>\n      </g>\n     </g>\n    </g>\n    <g id=\"xtick_2\">\n     <g id=\"line2d_2\">\n      <g>\n       <use xlink:href=\"#mfabf7f752e\" x=\"126.356649\" y=\"256.68\" style=\"stroke: #000000; stroke-width: 0.8\"/>\n      </g>\n     </g>\n     <g id=\"text_2\">\n      <!-- 100 -->\n      <g transform=\"translate(116.812899 271.278437)scale(0.1 -0.1)\">\n       <defs>\n        <path id=\"DejaVuSans-31\" d=\"M 794 531 \nL 1825 531 \nL 1825 4091 \nL 703 3866 \nL 703 4441 \nL 1819 4666 \nL 2450 4666 \nL 2450 531 \nL 3481 531 \nL 3481 0 \nL 794 0 \nL 794 531 \nz\n\" transform=\"scale(0.015625)\"/>\n       </defs>\n       <use xlink:href=\"#DejaVuSans-31\"/>\n       <use xlink:href=\"#DejaVuSans-30\" x=\"63.623047\"/>\n       <use xlink:href=\"#DejaVuSans-30\" x=\"127.246094\"/>\n      </g>\n     </g>\n    </g>\n    <g id=\"xtick_3\">\n     <g id=\"line2d_3\">\n      <g>\n       <use xlink:href=\"#mfabf7f752e\" x=\"187.351365\" y=\"256.68\" style=\"stroke: #000000; stroke-width: 0.8\"/>\n      </g>\n     </g>\n     <g id=\"text_3\">\n      <!-- 200 -->\n      <g transform=\"translate(177.807615 271.278437)scale(0.1 -0.1)\">\n       <defs>\n        <path id=\"DejaVuSans-32\" d=\"M 1228 531 \nL 3431 531 \nL 3431 0 \nL 469 0 \nL 469 531 \nQ 828 903 1448 1529 \nQ 2069 2156 2228 2338 \nQ 2531 2678 2651 2914 \nQ 2772 3150 2772 3378 \nQ 2772 3750 2511 3984 \nQ 2250 4219 1831 4219 \nQ 1534 4219 1204 4116 \nQ 875 4013 500 3803 \nL 500 4441 \nQ 881 4594 1212 4672 \nQ 1544 4750 1819 4750 \nQ 2544 4750 2975 4387 \nQ 3406 4025 3406 3419 \nQ 3406 3131 3298 2873 \nQ 3191 2616 2906 2266 \nQ 2828 2175 2409 1742 \nQ 1991 1309 1228 531 \nz\n\" transform=\"scale(0.015625)\"/>\n       </defs>\n       <use xlink:href=\"#DejaVuSans-32\"/>\n       <use xlink:href=\"#DejaVuSans-30\" x=\"63.623047\"/>\n       <use xlink:href=\"#DejaVuSans-30\" x=\"127.246094\"/>\n      </g>\n     </g>\n    </g>\n    <g id=\"xtick_4\">\n     <g id=\"line2d_4\">\n      <g>\n       <use xlink:href=\"#mfabf7f752e\" x=\"248.346082\" y=\"256.68\" style=\"stroke: #000000; stroke-width: 0.8\"/>\n      </g>\n     </g>\n     <g id=\"text_4\">\n      <!-- 300 -->\n      <g transform=\"translate(238.802332 271.278437)scale(0.1 -0.1)\">\n       <defs>\n        <path id=\"DejaVuSans-33\" d=\"M 2597 2516 \nQ 3050 2419 3304 2112 \nQ 3559 1806 3559 1356 \nQ 3559 666 3084 287 \nQ 2609 -91 1734 -91 \nQ 1441 -91 1130 -33 \nQ 819 25 488 141 \nL 488 750 \nQ 750 597 1062 519 \nQ 1375 441 1716 441 \nQ 2309 441 2620 675 \nQ 2931 909 2931 1356 \nQ 2931 1769 2642 2001 \nQ 2353 2234 1838 2234 \nL 1294 2234 \nL 1294 2753 \nL 1863 2753 \nQ 2328 2753 2575 2939 \nQ 2822 3125 2822 3475 \nQ 2822 3834 2567 4026 \nQ 2313 4219 1838 4219 \nQ 1578 4219 1281 4162 \nQ 984 4106 628 3988 \nL 628 4550 \nQ 988 4650 1302 4700 \nQ 1616 4750 1894 4750 \nQ 2613 4750 3031 4423 \nQ 3450 4097 3450 3541 \nQ 3450 3153 3228 2886 \nQ 3006 2619 2597 2516 \nz\n\" transform=\"scale(0.015625)\"/>\n       </defs>\n       <use xlink:href=\"#DejaVuSans-33\"/>\n       <use xlink:href=\"#DejaVuSans-30\" x=\"63.623047\"/>\n       <use xlink:href=\"#DejaVuSans-30\" x=\"127.246094\"/>\n      </g>\n     </g>\n    </g>\n    <g id=\"xtick_5\">\n     <g id=\"line2d_5\">\n      <g>\n       <use xlink:href=\"#mfabf7f752e\" x=\"309.340799\" y=\"256.68\" style=\"stroke: #000000; stroke-width: 0.8\"/>\n      </g>\n     </g>\n     <g id=\"text_5\">\n      <!-- 400 -->\n      <g transform=\"translate(299.797049 271.278437)scale(0.1 -0.1)\">\n       <defs>\n        <path id=\"DejaVuSans-34\" d=\"M 2419 4116 \nL 825 1625 \nL 2419 1625 \nL 2419 4116 \nz\nM 2253 4666 \nL 3047 4666 \nL 3047 1625 \nL 3713 1625 \nL 3713 1100 \nL 3047 1100 \nL 3047 0 \nL 2419 0 \nL 2419 1100 \nL 313 1100 \nL 313 1709 \nL 2253 4666 \nz\n\" transform=\"scale(0.015625)\"/>\n       </defs>\n       <use xlink:href=\"#DejaVuSans-34\"/>\n       <use xlink:href=\"#DejaVuSans-30\" x=\"63.623047\"/>\n       <use xlink:href=\"#DejaVuSans-30\" x=\"127.246094\"/>\n      </g>\n     </g>\n    </g>\n    <g id=\"xtick_6\">\n     <g id=\"line2d_6\">\n      <g>\n       <use xlink:href=\"#mfabf7f752e\" x=\"370.335515\" y=\"256.68\" style=\"stroke: #000000; stroke-width: 0.8\"/>\n      </g>\n     </g>\n     <g id=\"text_6\">\n      <!-- 500 -->\n      <g transform=\"translate(360.791765 271.278437)scale(0.1 -0.1)\">\n       <defs>\n        <path id=\"DejaVuSans-35\" d=\"M 691 4666 \nL 3169 4666 \nL 3169 4134 \nL 1269 4134 \nL 1269 2991 \nQ 1406 3038 1543 3061 \nQ 1681 3084 1819 3084 \nQ 2600 3084 3056 2656 \nQ 3513 2228 3513 1497 \nQ 3513 744 3044 326 \nQ 2575 -91 1722 -91 \nQ 1428 -91 1123 -41 \nQ 819 9 494 109 \nL 494 744 \nQ 775 591 1075 516 \nQ 1375 441 1709 441 \nQ 2250 441 2565 725 \nQ 2881 1009 2881 1497 \nQ 2881 1984 2565 2268 \nQ 2250 2553 1709 2553 \nQ 1456 2553 1204 2497 \nQ 953 2441 691 2322 \nL 691 4666 \nz\n\" transform=\"scale(0.015625)\"/>\n       </defs>\n       <use xlink:href=\"#DejaVuSans-35\"/>\n       <use xlink:href=\"#DejaVuSans-30\" x=\"63.623047\"/>\n       <use xlink:href=\"#DejaVuSans-30\" x=\"127.246094\"/>\n      </g>\n     </g>\n    </g>\n    <g id=\"text_7\">\n     <!-- Groups of experiments -->\n     <g transform=\"translate(160.397656 284.956562)scale(0.1 -0.1)\">\n      <defs>\n       <path id=\"DejaVuSans-47\" d=\"M 3809 666 \nL 3809 1919 \nL 2778 1919 \nL 2778 2438 \nL 4434 2438 \nL 4434 434 \nQ 4069 175 3628 42 \nQ 3188 -91 2688 -91 \nQ 1594 -91 976 548 \nQ 359 1188 359 2328 \nQ 359 3472 976 4111 \nQ 1594 4750 2688 4750 \nQ 3144 4750 3555 4637 \nQ 3966 4525 4313 4306 \nL 4313 3634 \nQ 3963 3931 3569 4081 \nQ 3175 4231 2741 4231 \nQ 1884 4231 1454 3753 \nQ 1025 3275 1025 2328 \nQ 1025 1384 1454 906 \nQ 1884 428 2741 428 \nQ 3075 428 3337 486 \nQ 3600 544 3809 666 \nz\n\" transform=\"scale(0.015625)\"/>\n       <path id=\"DejaVuSans-72\" d=\"M 2631 2963 \nQ 2534 3019 2420 3045 \nQ 2306 3072 2169 3072 \nQ 1681 3072 1420 2755 \nQ 1159 2438 1159 1844 \nL 1159 0 \nL 581 0 \nL 581 3500 \nL 1159 3500 \nL 1159 2956 \nQ 1341 3275 1631 3429 \nQ 1922 3584 2338 3584 \nQ 2397 3584 2469 3576 \nQ 2541 3569 2628 3553 \nL 2631 2963 \nz\n\" transform=\"scale(0.015625)\"/>\n       <path id=\"DejaVuSans-6f\" d=\"M 1959 3097 \nQ 1497 3097 1228 2736 \nQ 959 2375 959 1747 \nQ 959 1119 1226 758 \nQ 1494 397 1959 397 \nQ 2419 397 2687 759 \nQ 2956 1122 2956 1747 \nQ 2956 2369 2687 2733 \nQ 2419 3097 1959 3097 \nz\nM 1959 3584 \nQ 2709 3584 3137 3096 \nQ 3566 2609 3566 1747 \nQ 3566 888 3137 398 \nQ 2709 -91 1959 -91 \nQ 1206 -91 779 398 \nQ 353 888 353 1747 \nQ 353 2609 779 3096 \nQ 1206 3584 1959 3584 \nz\n\" transform=\"scale(0.015625)\"/>\n       <path id=\"DejaVuSans-75\" d=\"M 544 1381 \nL 544 3500 \nL 1119 3500 \nL 1119 1403 \nQ 1119 906 1312 657 \nQ 1506 409 1894 409 \nQ 2359 409 2629 706 \nQ 2900 1003 2900 1516 \nL 2900 3500 \nL 3475 3500 \nL 3475 0 \nL 2900 0 \nL 2900 538 \nQ 2691 219 2414 64 \nQ 2138 -91 1772 -91 \nQ 1169 -91 856 284 \nQ 544 659 544 1381 \nz\nM 1991 3584 \nL 1991 3584 \nz\n\" transform=\"scale(0.015625)\"/>\n       <path id=\"DejaVuSans-70\" d=\"M 1159 525 \nL 1159 -1331 \nL 581 -1331 \nL 581 3500 \nL 1159 3500 \nL 1159 2969 \nQ 1341 3281 1617 3432 \nQ 1894 3584 2278 3584 \nQ 2916 3584 3314 3078 \nQ 3713 2572 3713 1747 \nQ 3713 922 3314 415 \nQ 2916 -91 2278 -91 \nQ 1894 -91 1617 61 \nQ 1341 213 1159 525 \nz\nM 3116 1747 \nQ 3116 2381 2855 2742 \nQ 2594 3103 2138 3103 \nQ 1681 3103 1420 2742 \nQ 1159 2381 1159 1747 \nQ 1159 1113 1420 752 \nQ 1681 391 2138 391 \nQ 2594 391 2855 752 \nQ 3116 1113 3116 1747 \nz\n\" transform=\"scale(0.015625)\"/>\n       <path id=\"DejaVuSans-73\" d=\"M 2834 3397 \nL 2834 2853 \nQ 2591 2978 2328 3040 \nQ 2066 3103 1784 3103 \nQ 1356 3103 1142 2972 \nQ 928 2841 928 2578 \nQ 928 2378 1081 2264 \nQ 1234 2150 1697 2047 \nL 1894 2003 \nQ 2506 1872 2764 1633 \nQ 3022 1394 3022 966 \nQ 3022 478 2636 193 \nQ 2250 -91 1575 -91 \nQ 1294 -91 989 -36 \nQ 684 19 347 128 \nL 347 722 \nQ 666 556 975 473 \nQ 1284 391 1588 391 \nQ 1994 391 2212 530 \nQ 2431 669 2431 922 \nQ 2431 1156 2273 1281 \nQ 2116 1406 1581 1522 \nL 1381 1569 \nQ 847 1681 609 1914 \nQ 372 2147 372 2553 \nQ 372 3047 722 3315 \nQ 1072 3584 1716 3584 \nQ 2034 3584 2315 3537 \nQ 2597 3491 2834 3397 \nz\n\" transform=\"scale(0.015625)\"/>\n       <path id=\"DejaVuSans-20\" transform=\"scale(0.015625)\"/>\n       <path id=\"DejaVuSans-66\" d=\"M 2375 4863 \nL 2375 4384 \nL 1825 4384 \nQ 1516 4384 1395 4259 \nQ 1275 4134 1275 3809 \nL 1275 3500 \nL 2222 3500 \nL 2222 3053 \nL 1275 3053 \nL 1275 0 \nL 697 0 \nL 697 3053 \nL 147 3053 \nL 147 3500 \nL 697 3500 \nL 697 3744 \nQ 697 4328 969 4595 \nQ 1241 4863 1831 4863 \nL 2375 4863 \nz\n\" transform=\"scale(0.015625)\"/>\n       <path id=\"DejaVuSans-65\" d=\"M 3597 1894 \nL 3597 1613 \nL 953 1613 \nQ 991 1019 1311 708 \nQ 1631 397 2203 397 \nQ 2534 397 2845 478 \nQ 3156 559 3463 722 \nL 3463 178 \nQ 3153 47 2828 -22 \nQ 2503 -91 2169 -91 \nQ 1331 -91 842 396 \nQ 353 884 353 1716 \nQ 353 2575 817 3079 \nQ 1281 3584 2069 3584 \nQ 2775 3584 3186 3129 \nQ 3597 2675 3597 1894 \nz\nM 3022 2063 \nQ 3016 2534 2758 2815 \nQ 2500 3097 2075 3097 \nQ 1594 3097 1305 2825 \nQ 1016 2553 972 2059 \nL 3022 2063 \nz\n\" transform=\"scale(0.015625)\"/>\n       <path id=\"DejaVuSans-78\" d=\"M 3513 3500 \nL 2247 1797 \nL 3578 0 \nL 2900 0 \nL 1881 1375 \nL 863 0 \nL 184 0 \nL 1544 1831 \nL 300 3500 \nL 978 3500 \nL 1906 2253 \nL 2834 3500 \nL 3513 3500 \nz\n\" transform=\"scale(0.015625)\"/>\n       <path id=\"DejaVuSans-69\" d=\"M 603 3500 \nL 1178 3500 \nL 1178 0 \nL 603 0 \nL 603 3500 \nz\nM 603 4863 \nL 1178 4863 \nL 1178 4134 \nL 603 4134 \nL 603 4863 \nz\n\" transform=\"scale(0.015625)\"/>\n       <path id=\"DejaVuSans-6d\" d=\"M 3328 2828 \nQ 3544 3216 3844 3400 \nQ 4144 3584 4550 3584 \nQ 5097 3584 5394 3201 \nQ 5691 2819 5691 2113 \nL 5691 0 \nL 5113 0 \nL 5113 2094 \nQ 5113 2597 4934 2840 \nQ 4756 3084 4391 3084 \nQ 3944 3084 3684 2787 \nQ 3425 2491 3425 1978 \nL 3425 0 \nL 2847 0 \nL 2847 2094 \nQ 2847 2600 2669 2842 \nQ 2491 3084 2119 3084 \nQ 1678 3084 1418 2786 \nQ 1159 2488 1159 1978 \nL 1159 0 \nL 581 0 \nL 581 3500 \nL 1159 3500 \nL 1159 2956 \nQ 1356 3278 1631 3431 \nQ 1906 3584 2284 3584 \nQ 2666 3584 2933 3390 \nQ 3200 3197 3328 2828 \nz\n\" transform=\"scale(0.015625)\"/>\n       <path id=\"DejaVuSans-6e\" d=\"M 3513 2113 \nL 3513 0 \nL 2938 0 \nL 2938 2094 \nQ 2938 2591 2744 2837 \nQ 2550 3084 2163 3084 \nQ 1697 3084 1428 2787 \nQ 1159 2491 1159 1978 \nL 1159 0 \nL 581 0 \nL 581 3500 \nL 1159 3500 \nL 1159 2956 \nQ 1366 3272 1645 3428 \nQ 1925 3584 2291 3584 \nQ 2894 3584 3203 3211 \nQ 3513 2838 3513 2113 \nz\n\" transform=\"scale(0.015625)\"/>\n       <path id=\"DejaVuSans-74\" d=\"M 1172 4494 \nL 1172 3500 \nL 2356 3500 \nL 2356 3053 \nL 1172 3053 \nL 1172 1153 \nQ 1172 725 1289 603 \nQ 1406 481 1766 481 \nL 2356 481 \nL 2356 0 \nL 1766 0 \nQ 1100 0 847 248 \nQ 594 497 594 1153 \nL 594 3053 \nL 172 3053 \nL 172 3500 \nL 594 3500 \nL 594 4494 \nL 1172 4494 \nz\n\" transform=\"scale(0.015625)\"/>\n      </defs>\n      <use xlink:href=\"#DejaVuSans-47\"/>\n      <use xlink:href=\"#DejaVuSans-72\" x=\"77.490234\"/>\n      <use xlink:href=\"#DejaVuSans-6f\" x=\"116.353516\"/>\n      <use xlink:href=\"#DejaVuSans-75\" x=\"177.535156\"/>\n      <use xlink:href=\"#DejaVuSans-70\" x=\"240.914062\"/>\n      <use xlink:href=\"#DejaVuSans-73\" x=\"304.390625\"/>\n      <use xlink:href=\"#DejaVuSans-20\" x=\"356.490234\"/>\n      <use xlink:href=\"#DejaVuSans-6f\" x=\"388.277344\"/>\n      <use xlink:href=\"#DejaVuSans-66\" x=\"449.458984\"/>\n      <use xlink:href=\"#DejaVuSans-20\" x=\"484.664062\"/>\n      <use xlink:href=\"#DejaVuSans-65\" x=\"516.451172\"/>\n      <use xlink:href=\"#DejaVuSans-78\" x=\"576.224609\"/>\n      <use xlink:href=\"#DejaVuSans-70\" x=\"635.404297\"/>\n      <use xlink:href=\"#DejaVuSans-65\" x=\"698.880859\"/>\n      <use xlink:href=\"#DejaVuSans-72\" x=\"760.404297\"/>\n      <use xlink:href=\"#DejaVuSans-69\" x=\"801.517578\"/>\n      <use xlink:href=\"#DejaVuSans-6d\" x=\"829.300781\"/>\n      <use xlink:href=\"#DejaVuSans-65\" x=\"926.712891\"/>\n      <use xlink:href=\"#DejaVuSans-6e\" x=\"988.236328\"/>\n      <use xlink:href=\"#DejaVuSans-74\" x=\"1051.615234\"/>\n      <use xlink:href=\"#DejaVuSans-73\" x=\"1090.824219\"/>\n     </g>\n    </g>\n   </g>\n   <g id=\"matplotlib.axis_2\">\n    <g id=\"ytick_1\">\n     <g id=\"line2d_7\">\n      <defs>\n       <path id=\"m4713bd521a\" d=\"M 0 0 \nL -3.5 0 \n\" style=\"stroke: #000000; stroke-width: 0.8\"/>\n      </defs>\n      <g>\n       <use xlink:href=\"#m4713bd521a\" x=\"50.14375\" y=\"245.34\" style=\"stroke: #000000; stroke-width: 0.8\"/>\n      </g>\n     </g>\n     <g id=\"text_8\">\n      <!-- 0.00 -->\n      <g transform=\"translate(20.878125 249.139219)scale(0.1 -0.1)\">\n       <defs>\n        <path id=\"DejaVuSans-2e\" d=\"M 684 794 \nL 1344 794 \nL 1344 0 \nL 684 0 \nL 684 794 \nz\n\" transform=\"scale(0.015625)\"/>\n       </defs>\n       <use xlink:href=\"#DejaVuSans-30\"/>\n       <use xlink:href=\"#DejaVuSans-2e\" x=\"63.623047\"/>\n       <use xlink:href=\"#DejaVuSans-30\" x=\"95.410156\"/>\n       <use xlink:href=\"#DejaVuSans-30\" x=\"159.033203\"/>\n      </g>\n     </g>\n    </g>\n    <g id=\"ytick_2\">\n     <g id=\"line2d_8\">\n      <g>\n       <use xlink:href=\"#m4713bd521a\" x=\"50.14375\" y=\"207.540002\" style=\"stroke: #000000; stroke-width: 0.8\"/>\n      </g>\n     </g>\n     <g id=\"text_9\">\n      <!-- 0.05 -->\n      <g transform=\"translate(20.878125 211.33922)scale(0.1 -0.1)\">\n       <use xlink:href=\"#DejaVuSans-30\"/>\n       <use xlink:href=\"#DejaVuSans-2e\" x=\"63.623047\"/>\n       <use xlink:href=\"#DejaVuSans-30\" x=\"95.410156\"/>\n       <use xlink:href=\"#DejaVuSans-35\" x=\"159.033203\"/>\n      </g>\n     </g>\n    </g>\n    <g id=\"ytick_3\">\n     <g id=\"line2d_9\">\n      <g>\n       <use xlink:href=\"#m4713bd521a\" x=\"50.14375\" y=\"169.740003\" style=\"stroke: #000000; stroke-width: 0.8\"/>\n      </g>\n     </g>\n     <g id=\"text_10\">\n      <!-- 0.10 -->\n      <g transform=\"translate(20.878125 173.539222)scale(0.1 -0.1)\">\n       <use xlink:href=\"#DejaVuSans-30\"/>\n       <use xlink:href=\"#DejaVuSans-2e\" x=\"63.623047\"/>\n       <use xlink:href=\"#DejaVuSans-31\" x=\"95.410156\"/>\n       <use xlink:href=\"#DejaVuSans-30\" x=\"159.033203\"/>\n      </g>\n     </g>\n    </g>\n    <g id=\"ytick_4\">\n     <g id=\"line2d_10\">\n      <g>\n       <use xlink:href=\"#m4713bd521a\" x=\"50.14375\" y=\"131.940005\" style=\"stroke: #000000; stroke-width: 0.8\"/>\n      </g>\n     </g>\n     <g id=\"text_11\">\n      <!-- 0.15 -->\n      <g transform=\"translate(20.878125 135.739223)scale(0.1 -0.1)\">\n       <use xlink:href=\"#DejaVuSans-30\"/>\n       <use xlink:href=\"#DejaVuSans-2e\" x=\"63.623047\"/>\n       <use xlink:href=\"#DejaVuSans-31\" x=\"95.410156\"/>\n       <use xlink:href=\"#DejaVuSans-35\" x=\"159.033203\"/>\n      </g>\n     </g>\n    </g>\n    <g id=\"ytick_5\">\n     <g id=\"line2d_11\">\n      <g>\n       <use xlink:href=\"#m4713bd521a\" x=\"50.14375\" y=\"94.140006\" style=\"stroke: #000000; stroke-width: 0.8\"/>\n      </g>\n     </g>\n     <g id=\"text_12\">\n      <!-- 0.20 -->\n      <g transform=\"translate(20.878125 97.939225)scale(0.1 -0.1)\">\n       <use xlink:href=\"#DejaVuSans-30\"/>\n       <use xlink:href=\"#DejaVuSans-2e\" x=\"63.623047\"/>\n       <use xlink:href=\"#DejaVuSans-32\" x=\"95.410156\"/>\n       <use xlink:href=\"#DejaVuSans-30\" x=\"159.033203\"/>\n      </g>\n     </g>\n    </g>\n    <g id=\"ytick_6\">\n     <g id=\"line2d_12\">\n      <g>\n       <use xlink:href=\"#m4713bd521a\" x=\"50.14375\" y=\"56.340008\" style=\"stroke: #000000; stroke-width: 0.8\"/>\n      </g>\n     </g>\n     <g id=\"text_13\">\n      <!-- 0.25 -->\n      <g transform=\"translate(20.878125 60.139226)scale(0.1 -0.1)\">\n       <use xlink:href=\"#DejaVuSans-30\"/>\n       <use xlink:href=\"#DejaVuSans-2e\" x=\"63.623047\"/>\n       <use xlink:href=\"#DejaVuSans-32\" x=\"95.410156\"/>\n       <use xlink:href=\"#DejaVuSans-35\" x=\"159.033203\"/>\n      </g>\n     </g>\n    </g>\n    <g id=\"ytick_7\">\n     <g id=\"line2d_13\">\n      <g>\n       <use xlink:href=\"#m4713bd521a\" x=\"50.14375\" y=\"18.540009\" style=\"stroke: #000000; stroke-width: 0.8\"/>\n      </g>\n     </g>\n     <g id=\"text_14\">\n      <!-- 0.30 -->\n      <g transform=\"translate(20.878125 22.339228)scale(0.1 -0.1)\">\n       <use xlink:href=\"#DejaVuSans-30\"/>\n       <use xlink:href=\"#DejaVuSans-2e\" x=\"63.623047\"/>\n       <use xlink:href=\"#DejaVuSans-33\" x=\"95.410156\"/>\n       <use xlink:href=\"#DejaVuSans-30\" x=\"159.033203\"/>\n      </g>\n     </g>\n    </g>\n    <g id=\"text_15\">\n     <!-- Estimated probability -->\n     <g transform=\"translate(14.798438 185.463437)rotate(-90)scale(0.1 -0.1)\">\n      <defs>\n       <path id=\"DejaVuSans-45\" d=\"M 628 4666 \nL 3578 4666 \nL 3578 4134 \nL 1259 4134 \nL 1259 2753 \nL 3481 2753 \nL 3481 2222 \nL 1259 2222 \nL 1259 531 \nL 3634 531 \nL 3634 0 \nL 628 0 \nL 628 4666 \nz\n\" transform=\"scale(0.015625)\"/>\n       <path id=\"DejaVuSans-61\" d=\"M 2194 1759 \nQ 1497 1759 1228 1600 \nQ 959 1441 959 1056 \nQ 959 750 1161 570 \nQ 1363 391 1709 391 \nQ 2188 391 2477 730 \nQ 2766 1069 2766 1631 \nL 2766 1759 \nL 2194 1759 \nz\nM 3341 1997 \nL 3341 0 \nL 2766 0 \nL 2766 531 \nQ 2569 213 2275 61 \nQ 1981 -91 1556 -91 \nQ 1019 -91 701 211 \nQ 384 513 384 1019 \nQ 384 1609 779 1909 \nQ 1175 2209 1959 2209 \nL 2766 2209 \nL 2766 2266 \nQ 2766 2663 2505 2880 \nQ 2244 3097 1772 3097 \nQ 1472 3097 1187 3025 \nQ 903 2953 641 2809 \nL 641 3341 \nQ 956 3463 1253 3523 \nQ 1550 3584 1831 3584 \nQ 2591 3584 2966 3190 \nQ 3341 2797 3341 1997 \nz\n\" transform=\"scale(0.015625)\"/>\n       <path id=\"DejaVuSans-64\" d=\"M 2906 2969 \nL 2906 4863 \nL 3481 4863 \nL 3481 0 \nL 2906 0 \nL 2906 525 \nQ 2725 213 2448 61 \nQ 2172 -91 1784 -91 \nQ 1150 -91 751 415 \nQ 353 922 353 1747 \nQ 353 2572 751 3078 \nQ 1150 3584 1784 3584 \nQ 2172 3584 2448 3432 \nQ 2725 3281 2906 2969 \nz\nM 947 1747 \nQ 947 1113 1208 752 \nQ 1469 391 1925 391 \nQ 2381 391 2643 752 \nQ 2906 1113 2906 1747 \nQ 2906 2381 2643 2742 \nQ 2381 3103 1925 3103 \nQ 1469 3103 1208 2742 \nQ 947 2381 947 1747 \nz\n\" transform=\"scale(0.015625)\"/>\n       <path id=\"DejaVuSans-62\" d=\"M 3116 1747 \nQ 3116 2381 2855 2742 \nQ 2594 3103 2138 3103 \nQ 1681 3103 1420 2742 \nQ 1159 2381 1159 1747 \nQ 1159 1113 1420 752 \nQ 1681 391 2138 391 \nQ 2594 391 2855 752 \nQ 3116 1113 3116 1747 \nz\nM 1159 2969 \nQ 1341 3281 1617 3432 \nQ 1894 3584 2278 3584 \nQ 2916 3584 3314 3078 \nQ 3713 2572 3713 1747 \nQ 3713 922 3314 415 \nQ 2916 -91 2278 -91 \nQ 1894 -91 1617 61 \nQ 1341 213 1159 525 \nL 1159 0 \nL 581 0 \nL 581 4863 \nL 1159 4863 \nL 1159 2969 \nz\n\" transform=\"scale(0.015625)\"/>\n       <path id=\"DejaVuSans-6c\" d=\"M 603 4863 \nL 1178 4863 \nL 1178 0 \nL 603 0 \nL 603 4863 \nz\n\" transform=\"scale(0.015625)\"/>\n       <path id=\"DejaVuSans-79\" d=\"M 2059 -325 \nQ 1816 -950 1584 -1140 \nQ 1353 -1331 966 -1331 \nL 506 -1331 \nL 506 -850 \nL 844 -850 \nQ 1081 -850 1212 -737 \nQ 1344 -625 1503 -206 \nL 1606 56 \nL 191 3500 \nL 800 3500 \nL 1894 763 \nL 2988 3500 \nL 3597 3500 \nL 2059 -325 \nz\n\" transform=\"scale(0.015625)\"/>\n      </defs>\n      <use xlink:href=\"#DejaVuSans-45\"/>\n      <use xlink:href=\"#DejaVuSans-73\" x=\"63.183594\"/>\n      <use xlink:href=\"#DejaVuSans-74\" x=\"115.283203\"/>\n      <use xlink:href=\"#DejaVuSans-69\" x=\"154.492188\"/>\n      <use xlink:href=\"#DejaVuSans-6d\" x=\"182.275391\"/>\n      <use xlink:href=\"#DejaVuSans-61\" x=\"279.6875\"/>\n      <use xlink:href=\"#DejaVuSans-74\" x=\"340.966797\"/>\n      <use xlink:href=\"#DejaVuSans-65\" x=\"380.175781\"/>\n      <use xlink:href=\"#DejaVuSans-64\" x=\"441.699219\"/>\n      <use xlink:href=\"#DejaVuSans-20\" x=\"505.175781\"/>\n      <use xlink:href=\"#DejaVuSans-70\" x=\"536.962891\"/>\n      <use xlink:href=\"#DejaVuSans-72\" x=\"600.439453\"/>\n      <use xlink:href=\"#DejaVuSans-6f\" x=\"639.302734\"/>\n      <use xlink:href=\"#DejaVuSans-62\" x=\"700.484375\"/>\n      <use xlink:href=\"#DejaVuSans-61\" x=\"763.960938\"/>\n      <use xlink:href=\"#DejaVuSans-62\" x=\"825.240234\"/>\n      <use xlink:href=\"#DejaVuSans-69\" x=\"888.716797\"/>\n      <use xlink:href=\"#DejaVuSans-6c\" x=\"916.5\"/>\n      <use xlink:href=\"#DejaVuSans-69\" x=\"944.283203\"/>\n      <use xlink:href=\"#DejaVuSans-74\" x=\"972.066406\"/>\n      <use xlink:href=\"#DejaVuSans-79\" x=\"1011.275391\"/>\n     </g>\n    </g>\n   </g>\n   <g id=\"line2d_14\">\n    <path d=\"M 65.361932 245.34 \nL 65.971879 131.94 \nL 66.581826 144.539999 \nL 67.191773 150.840004 \nL 67.80172 139.500004 \nL 68.411668 144.539999 \nL 69.021615 115.740002 \nL 69.631562 122.490009 \nL 70.241509 136.14 \nL 70.851456 147.060008 \nL 71.461403 149.121824 \nL 72.071351 157.140003 \nL 72.681298 146.47846 \nL 73.291245 153.540003 \nL 73.901192 154.620006 \nL 75.121086 147.504704 \nL 75.731034 148.739998 \nL 76.340981 145.866316 \nL 76.950928 147.060008 \nL 77.560875 144.539999 \nL 78.170822 149.121824 \nL 78.780769 150.018269 \nL 79.390717 153.990006 \nL 80.000664 151.596005 \nL 80.610611 155.201542 \nL 81.830505 150.840004 \nL 83.0504 147.060008 \nL 84.270294 148.477506 \nL 84.880241 151.41273 \nL 85.490188 149.728234 \nL 86.100135 145.980005 \nL 86.710083 144.539999 \nL 87.929977 149.845268 \nL 88.539924 150.355383 \nL 89.149871 147.060008 \nL 89.759819 145.769277 \nL 90.369766 146.339999 \nL 90.979713 145.126052 \nL 91.58966 142.249092 \nL 92.199607 141.180006 \nL 93.419502 135.961276 \nL 94.029449 128.790003 \nL 94.639396 131.168576 \nL 95.249343 131.94 \nL 97.079185 138.358876 \nL 97.689132 134.740007 \nL 98.299079 129.878184 \nL 98.909026 131.94 \nL 99.518973 131.276847 \nL 100.12892 133.243449 \nL 100.738868 131.299321 \nL 101.958762 130.080993 \nL 102.568709 125.843232 \nL 103.178656 125.340001 \nL 103.788603 126.03375 \nL 105.008498 125.06728 \nL 105.618445 125.734038 \nL 106.228392 125.269412 \nL 106.838339 127.009571 \nL 107.448286 126.540001 \nL 108.058234 127.148461 \nL 109.278128 126.244118 \nL 109.888075 127.853521 \nL 110.498022 128.412008 \nL 112.937811 126.676716 \nL 113.547758 128.160004 \nL 114.157705 128.67334 \nL 114.767652 128.252199 \nL 115.3776 128.75205 \nL 116.597494 127.93765 \nL 117.207441 128.423724 \nL 117.817388 127.160695 \nL 118.427335 127.64455 \nL 119.037283 127.268098 \nL 119.64723 127.74 \nL 120.257177 127.37077 \nL 120.867124 127.831305 \nL 121.477071 125.030329 \nL 123.91686 123.756497 \nL 125.136754 124.685454 \nL 125.746701 124.380008 \nL 126.966596 125.269412 \nL 127.576543 123.499232 \nL 128.18649 122.490009 \nL 128.796437 122.940001 \nL 129.406384 121.9551 \nL 130.016332 123.108225 \nL 130.626279 121.440007 \nL 131.236226 121.189546 \nL 131.846173 120.256364 \nL 132.45612 120.702165 \nL 133.066067 119.790004 \nL 133.676015 119.563009 \nL 134.285962 120.003166 \nL 134.895909 118.463484 \nL 135.505856 118.905522 \nL 136.115803 117.40154 \nL 136.72575 117.845088 \nL 137.335698 117.645884 \nL 137.945645 116.190004 \nL 138.555592 117.257356 \nL 141.605328 119.340001 \nL 142.215275 120.332134 \nL 142.825222 120.1275 \nL 143.435169 120.512097 \nL 144.045116 121.472315 \nL 144.655064 121.263671 \nL 145.265011 120.485455 \nL 145.874958 120.287377 \nL 146.484905 121.220604 \nL 147.094852 119.900009 \nL 147.704799 119.710595 \nL 148.314747 120.6276 \nL 148.924694 120.435662 \nL 149.534641 120.790361 \nL 150.144588 120.06001 \nL 150.754535 120.412343 \nL 151.364482 121.292116 \nL 151.97443 121.630919 \nL 152.584377 121.440007 \nL 153.194324 120.730351 \nL 154.414218 122.425718 \nL 155.024165 122.234603 \nL 156.24406 122.868005 \nL 156.854007 122.177094 \nL 158.073901 121.810589 \nL 158.683848 121.140001 \nL 159.293796 121.453559 \nL 159.903743 121.278463 \nL 160.51369 120.142551 \nL 161.123637 119.977976 \nL 161.733584 120.766422 \nL 162.343531 121.0725 \nL 162.953479 120.435662 \nL 163.563426 121.206669 \nL 164.173373 121.504422 \nL 165.393267 123.005463 \nL 166.003214 123.286994 \nL 166.613162 123.112461 \nL 167.223109 123.390004 \nL 167.833056 123.216924 \nL 168.443003 123.935299 \nL 169.05295 123.761059 \nL 169.662897 124.46791 \nL 170.272845 124.292611 \nL 170.882792 124.553797 \nL 172.102686 124.208189 \nL 172.712633 123.611186 \nL 173.32258 123.44562 \nL 173.932528 122.859556 \nL 174.542475 123.120009 \nL 176.982263 122.490009 \nL 177.592211 123.154064 \nL 178.812105 123.652304 \nL 179.422052 123.495323 \nL 180.031999 123.740005 \nL 180.641946 124.380008 \nL 181.251894 124.617491 \nL 181.861841 123.671253 \nL 182.471788 123.909953 \nL 184.301629 122.297148 \nL 184.911577 122.537977 \nL 186.131471 123.772167 \nL 186.741418 123.246 \nL 187.351365 123.477321 \nL 187.961312 124.080599 \nL 188.57126 124.305521 \nL 189.181207 123.416477 \nL 189.791154 123.642447 \nL 190.401101 124.23321 \nL 191.011048 123.722611 \nL 191.620995 123.94385 \nL 192.230943 123.801254 \nL 192.84089 122.940001 \nL 193.450837 123.161803 \nL 194.060784 122.668305 \nL 194.670731 123.244231 \nL 195.890626 122.270235 \nL 196.500573 122.84001 \nL 197.11052 122.359355 \nL 197.720467 122.923486 \nL 199.550309 121.506517 \nL 200.160256 120.702165 \nL 200.770203 120.583057 \nL 201.38015 119.790004 \nL 201.990097 120.348007 \nL 202.600044 119.563009 \nL 203.209992 119.784056 \nL 204.429886 119.560091 \nL 205.039833 119.778266 \nL 205.64978 119.66728 \nL 206.259727 118.905522 \nL 206.869675 118.799234 \nL 207.479622 118.047694 \nL 208.089569 118.267659 \nL 208.699516 117.524748 \nL 209.309463 117.107088 \nL 209.91941 117.645884 \nL 210.529358 117.863856 \nL 211.139305 117.765003 \nL 211.749252 117.980665 \nL 212.359199 117.257356 \nL 212.969146 117.473334 \nL 214.189041 116.665715 \nL 214.798988 117.188784 \nL 215.408935 117.40154 \nL 216.018882 117.917422 \nL 216.628829 118.125548 \nL 217.238776 118.029602 \nL 218.458671 117.240007 \nL 219.068618 117.148702 \nL 219.678565 117.355758 \nL 220.288512 117.264712 \nL 220.898459 117.765003 \nL 221.508407 117.967237 \nL 222.118354 117.581863 \nL 222.728301 117.491358 \nL 223.338248 117.110772 \nL 223.948195 117.31242 \nL 224.558142 117.801074 \nL 225.778037 117.621821 \nL 226.387984 117.81849 \nL 226.997931 117.16106 \nL 228.217825 118.117617 \nL 228.827773 118.309521 \nL 229.43772 118.220007 \nL 230.047667 118.41012 \nL 231.877508 118.144384 \nL 232.487456 118.606913 \nL 233.097403 118.518267 \nL 234.317297 118.886765 \nL 236.147139 120.236807 \nL 236.757086 119.876172 \nL 237.367033 120.052372 \nL 237.97698 119.428738 \nL 238.586927 119.340001 \nL 239.196874 119.780564 \nL 239.806822 119.954635 \nL 241.636663 121.25173 \nL 242.856557 121.066033 \nL 244.076452 121.397142 \nL 244.686399 121.048482 \nL 245.296346 121.468384 \nL 245.906293 121.376369 \nL 246.51624 121.03128 \nL 247.736135 121.356002 \nL 248.346082 121.767916 \nL 250.175923 121.495263 \nL 250.785871 121.90132 \nL 252.005765 122.212974 \nL 252.615712 121.630919 \nL 253.225659 122.031265 \nL 253.835606 122.185171 \nL 254.445554 121.851899 \nL 255.055501 121.763084 \nL 255.665448 122.157898 \nL 256.275395 122.309427 \nL 256.885342 122.700005 \nL 257.495289 122.609624 \nL 258.715184 123.38151 \nL 259.325131 123.526843 \nL 259.935078 123.907508 \nL 260.545025 123.814772 \nL 261.154972 124.192182 \nL 262.374867 123.073337 \nL 264.814655 122.720497 \nL 266.644497 123.146651 \nL 267.254444 123.059278 \nL 267.864391 122.745416 \nL 268.474338 121.980729 \nL 269.084286 121.671947 \nL 269.694233 121.815005 \nL 270.30418 121.508556 \nL 272.743969 121.187507 \nL 273.353916 121.329483 \nL 273.963863 121.029804 \nL 274.57381 120.951634 \nL 275.183757 121.31218 \nL 275.793704 121.452139 \nL 276.403652 120.937699 \nL 277.013599 120.64345 \nL 277.623546 120.567511 \nL 278.84344 121.278463 \nL 279.453387 120.557045 \nL 280.063335 120.48221 \nL 281.283229 120.759719 \nL 282.503123 120.610589 \nL 283.11307 120.959002 \nL 283.723018 120.673709 \nL 284.942912 121.364383 \nL 285.552859 121.498012 \nL 286.162806 121.422647 \nL 286.772753 120.724616 \nL 287.382701 120.444663 \nL 289.212542 120.230217 \nL 289.822489 120.364398 \nL 290.432436 120.293517 \nL 291.042384 120.426796 \nL 291.652331 120.76258 \nL 292.872225 120.620221 \nL 294.092119 121.283622 \nL 294.702067 121.211626 \nL 295.312014 121.340005 \nL 295.921961 121.268234 \nL 296.531908 121.594747 \nL 297.141855 121.324256 \nL 298.36175 121.182302 \nL 298.971697 120.718128 \nL 300.191591 120.580421 \nL 301.411485 120.833822 \nL 302.021433 120.570857 \nL 302.63138 120.503085 \nL 303.241327 120.822354 \nL 303.851274 120.754289 \nL 304.461221 121.071305 \nL 305.071168 120.811066 \nL 305.681116 120.934939 \nL 306.291063 120.86728 \nL 306.90101 120.990387 \nL 307.510957 120.732975 \nL 308.120904 121.045271 \nL 308.730851 120.978006 \nL 309.340799 121.288139 \nL 309.950746 121.408667 \nL 310.560693 121.716186 \nL 313.000482 122.188168 \nL 313.610429 122.490009 \nL 316.660165 123.062038 \nL 317.270112 122.809572 \nL 319.099953 122.603316 \nL 319.7099 122.716081 \nL 320.319848 122.647881 \nL 320.929795 122.940001 \nL 322.149689 122.445219 \nL 322.759636 122.557027 \nL 323.369583 121.776793 \nL 324.589478 122.001975 \nL 325.199425 121.582625 \nL 325.809372 121.341875 \nL 326.419319 121.630919 \nL 327.029266 121.742795 \nL 327.639214 121.678752 \nL 328.249161 121.965002 \nL 328.859108 122.075335 \nL 329.469055 122.359355 \nL 330.079002 122.1207 \nL 331.908844 121.929044 \nL 332.518791 121.521331 \nL 333.128738 121.287272 \nL 334.348632 121.164435 \nL 334.95858 120.932776 \nL 335.568527 121.042703 \nL 336.178474 120.982253 \nL 338.008315 121.308755 \nL 338.618263 121.079867 \nL 339.22821 120.684005 \nL 339.838157 120.792771 \nL 340.448104 120.566553 \nL 341.058051 120.675106 \nL 341.667998 120.616661 \nL 342.277946 120.890779 \nL 342.887893 120.666319 \nL 343.49784 120.773699 \nL 344.107787 120.715548 \nL 344.717734 120.822354 \nL 346.547576 120.158187 \nL 347.157523 120.428554 \nL 347.76747 120.371901 \nL 348.987365 120.583778 \nL 349.597312 120.527159 \nL 350.207259 120.793853 \nL 350.817206 120.575825 \nL 351.427153 120.680434 \nL 352.647048 120.567973 \nL 353.256995 120.831761 \nL 353.866942 120.615952 \nL 354.476889 120.719378 \nL 355.086836 120.663536 \nL 355.696783 120.766422 \nL 356.306731 120.236244 \nL 356.916678 120.497418 \nL 357.526625 120.6 \nL 358.136572 120.544992 \nL 358.746519 120.647055 \nL 359.356466 120.592182 \nL 359.966414 120.38133 \nL 360.576361 120.327223 \nL 361.796255 120.530144 \nL 362.406202 119.856402 \nL 363.016149 119.958409 \nL 363.626097 119.597142 \nL 364.845991 119.800976 \nL 365.455938 119.748931 \nL 366.065885 119.544049 \nL 366.675832 119.798183 \nL 367.28578 119.746452 \nL 367.895727 119.847051 \nL 368.505674 119.795423 \nL 369.725568 120.297606 \nL 369.725568 120.297606 \n\" clip-path=\"url(#pe286d21773)\" style=\"fill: none; stroke: #1f77b4; stroke-width: 1.5; stroke-linecap: square\"/>\n   </g>\n   <g id=\"line2d_15\">\n    <path d=\"M 65.361932 94.140004 \nL 65.971879 94.140004 \nL 66.581826 43.739997 \nL 67.191773 75.240011 \nL 67.80172 48.780015 \nL 68.411668 56.340008 \nL 69.021615 61.740007 \nL 69.631562 56.340008 \nL 70.241509 60.540007 \nL 70.851456 71.460004 \nL 71.461403 73.52182 \nL 72.071351 68.940006 \nL 73.291245 94.140004 \nL 73.901192 89.100009 \nL 74.511139 89.415008 \nL 75.731034 98.340003 \nL 76.340981 106.076849 \nL 76.950928 105.480004 \nL 77.560875 101.340003 \nL 78.780769 100.713924 \nL 79.390717 103.590006 \nL 80.000664 103.212011 \nL 81.220558 108.140006 \nL 82.440452 107.174493 \nL 83.0504 109.26 \nL 84.270294 108.315001 \nL 84.880241 110.176374 \nL 86.100135 117.900006 \nL 86.710083 115.140002 \nL 87.32003 118.658925 \nL 87.929977 120.003166 \nL 88.539924 119.340001 \nL 89.149871 120.6 \nL 90.369766 119.340001 \nL 91.58966 121.630919 \nL 92.809554 120.435662 \nL 94.029449 122.490009 \nL 94.639396 118.825719 \nL 95.249343 121.356002 \nL 95.85929 122.304707 \nL 96.469237 120.309232 \nL 97.079185 119.815475 \nL 98.299079 124.380008 \nL 99.518973 125.971588 \nL 100.12892 124.119318 \nL 100.738868 126.173902 \nL 101.348815 125.640006 \nL 101.958762 126.362955 \nL 102.568709 125.843232 \nL 103.178656 126.540001 \nL 105.008498 131.94 \nL 105.618445 132.504188 \nL 106.838339 129.20087 \nL 107.448286 128.700005 \nL 108.668181 129.840006 \nL 109.278128 131.422192 \nL 109.888075 130.918386 \nL 110.498022 132.444009 \nL 111.107969 132.934747 \nL 111.717917 132.430918 \nL 112.327864 130.970769 \nL 113.547758 130.050002 \nL 114.767652 131.01805 \nL 115.3776 129.662893 \nL 115.987547 130.14 \nL 116.597494 129.716471 \nL 117.207441 128.423724 \nL 117.817388 128.898623 \nL 118.427335 126.78546 \nL 119.037283 126.418651 \nL 119.64723 126.900005 \nL 120.257177 125.709231 \nL 120.867124 126.187825 \nL 121.477071 127.469037 \nL 122.696966 125.175798 \nL 123.306913 126.427505 \nL 123.91686 126.094639 \nL 124.526807 124.997153 \nL 125.136754 126.212733 \nL 125.746701 126.648001 \nL 126.356649 127.823172 \nL 128.796437 129.420003 \nL 130.016332 128.760567 \nL 130.626279 127.74 \nL 131.236226 128.125329 \nL 131.846173 127.129096 \nL 132.45612 125.469732 \nL 133.676015 124.915221 \nL 134.285962 125.308424 \nL 134.895909 126.352175 \nL 135.505856 126.074485 \nL 137.335698 127.175295 \nL 137.945645 128.160004 \nL 138.555592 127.878845 \nL 139.165539 128.221974 \nL 139.775486 127.330248 \nL 140.385433 127.672262 \nL 140.995381 126.799203 \nL 141.605328 127.14 \nL 142.215275 126.284887 \nL 142.825222 124.852507 \nL 143.435169 124.028373 \nL 144.045116 123.798471 \nL 144.655064 124.726268 \nL 145.265011 124.494553 \nL 145.874958 124.834742 \nL 146.484905 124.605674 \nL 147.094852 124.940004 \nL 147.704799 124.157653 \nL 148.924694 123.722611 \nL 149.534641 124.597563 \nL 150.144588 123.840006 \nL 150.754535 123.629368 \nL 151.364482 122.889296 \nL 151.97443 122.688256 \nL 153.194324 123.337248 \nL 153.804271 123.137267 \nL 154.414218 122.425718 \nL 155.024165 122.234603 \nL 155.634113 121.03128 \nL 156.24406 121.356002 \nL 156.854007 121.175768 \nL 157.463954 120.003166 \nL 158.073901 119.834119 \nL 158.683848 120.158187 \nL 159.903743 119.824622 \nL 160.51369 120.142551 \nL 161.123637 120.934939 \nL 161.733584 121.241896 \nL 162.953479 120.905221 \nL 164.173373 122.432027 \nL 164.78332 122.720497 \nL 165.393267 122.547282 \nL 166.003214 122.831573 \nL 166.613162 122.207071 \nL 167.223109 122.040007 \nL 167.833056 121.427581 \nL 168.443003 119.932949 \nL 169.05295 120.224213 \nL 169.662897 120.07256 \nL 172.102686 121.201363 \nL 172.712633 121.902717 \nL 173.32258 122.171461 \nL 173.932528 122.859556 \nL 174.542475 122.700005 \nL 175.152422 121.706859 \nL 176.372316 122.231809 \nL 176.982263 120.846529 \nL 177.592211 120.702165 \nL 178.202158 120.965806 \nL 178.812105 120.822354 \nL 179.422052 121.484685 \nL 181.251894 119.867757 \nL 182.471788 121.167984 \nL 183.081735 121.028666 \nL 183.691682 121.666157 \nL 184.911577 122.154214 \nL 185.521524 121.630919 \nL 186.131471 121.872672 \nL 186.741418 121.734008 \nL 188.57126 122.44345 \nL 189.181207 123.045883 \nL 189.791154 123.273667 \nL 190.401101 122.031265 \nL 192.230943 122.716081 \nL 192.84089 122.220003 \nL 194.670731 121.824513 \nL 195.280678 122.048411 \nL 195.890626 122.621869 \nL 197.720467 122.229917 \nL 198.330414 122.446852 \nL 198.940361 122.318191 \nL 199.550309 122.532761 \nL 200.160256 123.085954 \nL 200.770203 122.956144 \nL 201.38015 123.165002 \nL 202.600044 122.908143 \nL 203.819939 123.982107 \nL 204.429886 124.18193 \nL 205.64978 123.921826 \nL 206.259727 124.445177 \nL 206.869675 124.315108 \nL 207.479622 124.509232 \nL 208.089569 125.023413 \nL 208.699516 125.212883 \nL 210.529358 126.720763 \nL 211.139305 126.585005 \nL 211.749252 127.07776 \nL 212.359199 126.941653 \nL 212.969146 126.495559 \nL 213.579093 126.982625 \nL 214.189041 126.848579 \nL 214.798988 127.022932 \nL 215.408935 125.971588 \nL 217.238776 126.496809 \nL 217.848724 126.36789 \nL 218.458671 126.840006 \nL 219.068618 126.411937 \nL 219.678565 126.284887 \nL 220.288512 126.751765 \nL 220.898459 126.919697 \nL 221.508407 127.380469 \nL 222.118354 127.544661 \nL 222.728301 127.415684 \nL 223.948195 126.581389 \nL 224.558142 126.457561 \nL 225.16809 126.622136 \nL 225.778037 127.071823 \nL 226.387984 126.947556 \nL 228.827773 127.583875 \nL 229.43772 127.460002 \nL 230.047667 127.616015 \nL 230.657614 127.492942 \nL 231.267561 126.540001 \nL 231.877508 126.14584 \nL 233.097403 126.461741 \nL 234.317297 126.229214 \nL 234.927244 125.572268 \nL 235.537191 125.190003 \nL 236.757086 124.96979 \nL 237.367033 125.127988 \nL 237.97698 125.55127 \nL 238.586927 125.441061 \nL 239.806822 125.749764 \nL 240.416769 125.377503 \nL 241.026716 125.531003 \nL 241.636663 125.422767 \nL 242.24661 124.795674 \nL 242.856557 124.431783 \nL 243.466505 124.586421 \nL 245.296346 124.277843 \nL 245.906293 124.430915 \nL 246.51624 124.836646 \nL 247.736135 124.128003 \nL 248.346082 124.530703 \nL 248.956029 124.179745 \nL 249.565976 124.330102 \nL 250.175923 124.728161 \nL 250.785871 124.627877 \nL 251.395818 124.775295 \nL 252.615712 124.576373 \nL 253.835606 124.867749 \nL 254.445554 124.768941 \nL 255.055501 125.155385 \nL 256.885342 124.140001 \nL 258.715184 124.570188 \nL 259.325131 124.237806 \nL 259.935078 124.143752 \nL 260.545025 124.285796 \nL 261.154972 124.661741 \nL 261.76492 124.567248 \nL 262.374867 124.706667 \nL 262.984814 124.612624 \nL 263.594761 124.751052 \nL 264.204708 124.657437 \nL 266.03455 125.06728 \nL 266.644497 124.745442 \nL 267.254444 124.653258 \nL 267.864391 124.788655 \nL 268.474338 125.149584 \nL 269.694233 124.514999 \nL 270.914127 125.22995 \nL 271.524074 125.13824 \nL 272.743969 125.399831 \nL 273.353916 125.75053 \nL 274.57381 125.566748 \nL 275.793704 124.948093 \nL 277.013599 125.640006 \nL 277.623546 125.549749 \nL 278.233493 125.028009 \nL 278.84344 125.155385 \nL 280.063335 125.836326 \nL 281.283229 126.083667 \nL 281.893176 125.993939 \nL 282.503123 125.692942 \nL 283.11307 125.604814 \nL 284.332965 125.850002 \nL 284.942912 125.552745 \nL 285.552859 125.465969 \nL 286.162806 125.587938 \nL 286.772753 125.916929 \nL 287.992648 126.156395 \nL 289.212542 126.804137 \nL 290.432436 126.627577 \nL 291.042384 126.336234 \nL 291.652331 126.249683 \nL 292.262278 126.366279 \nL 292.872225 126.280111 \nL 293.482172 125.791209 \nL 294.092119 125.103835 \nL 294.702067 125.422767 \nL 295.312014 125.540004 \nL 296.531908 124.976842 \nL 298.36175 124.735303 \nL 298.971697 125.049379 \nL 299.581644 124.969091 \nL 300.191591 125.085079 \nL 300.801538 124.809778 \nL 301.411485 125.120418 \nL 302.021433 125.235121 \nL 302.63138 125.155385 \nL 303.241327 124.882721 \nL 305.071168 124.648639 \nL 305.681116 124.954187 \nL 306.291063 124.876367 \nL 308.120904 124.076848 \nL 308.730851 124.19101 \nL 309.340799 124.493122 \nL 311.17064 123.706344 \nL 311.780587 123.633334 \nL 312.390534 123.933103 \nL 314.220376 124.269101 \nL 315.44027 124.858252 \nL 316.050217 124.967188 \nL 316.660165 124.892544 \nL 317.270112 125.000871 \nL 317.880059 125.29085 \nL 318.490006 125.21597 \nL 320.929795 126.360004 \nL 321.539742 126.283468 \nL 322.759636 126.488946 \nL 323.979531 127.048245 \nL 324.589478 127.148461 \nL 325.199425 127.071147 \nL 325.809372 127.347484 \nL 326.419319 127.446303 \nL 328.249161 126.165002 \nL 330.079002 125.944146 \nL 330.688949 125.524413 \nL 331.298897 125.452586 \nL 332.518791 125.654358 \nL 333.128738 125.92637 \nL 333.738685 126.025718 \nL 334.348632 125.953575 \nL 334.95858 126.052417 \nL 336.178474 126.588543 \nL 337.398368 126.443356 \nL 338.008315 126.202504 \nL 338.618263 126.467846 \nL 339.22821 126.396008 \nL 339.838157 125.98923 \nL 340.448104 126.086021 \nL 341.058051 125.848617 \nL 341.667998 126.111807 \nL 342.277946 125.54308 \nL 342.887893 125.640006 \nL 343.49784 125.571074 \nL 344.107787 125.832586 \nL 344.717734 125.598832 \nL 345.937629 126.118307 \nL 346.547576 125.885454 \nL 348.987365 125.61297 \nL 350.817206 125.895232 \nL 351.427153 126.149366 \nL 352.0371 126.081402 \nL 353.256995 125.626691 \nL 353.866942 125.719753 \nL 354.476889 125.971588 \nL 356.306731 126.246281 \nL 356.916678 126.021426 \nL 357.526625 125.955006 \nL 358.136572 126.046029 \nL 358.746519 125.509295 \nL 359.966414 125.692074 \nL 360.576361 125.47114 \nL 361.186308 125.406669 \nL 361.796255 125.187232 \nL 362.406202 125.433446 \nL 363.016149 125.524053 \nL 363.626097 125.768577 \nL 364.845991 125.640006 \nL 365.455938 125.729453 \nL 366.675832 125.601828 \nL 367.28578 125.843232 \nL 368.505674 126.019522 \nL 369.115621 125.80413 \nL 369.725568 125.891999 \nL 369.725568 125.891999 \n\" clip-path=\"url(#pe286d21773)\" style=\"fill: none; stroke: #ff7f0e; stroke-width: 1.5; stroke-linecap: square\"/>\n   </g>\n   <g id=\"line2d_16\">\n    <path d=\"M 65.361932 18.54 \nL 65.971879 131.94 \nL 66.581826 94.140004 \nL 67.191773 131.94 \nL 67.80172 109.26 \nL 68.411668 119.340001 \nL 69.021615 115.740002 \nL 69.631562 113.040008 \nL 70.241509 119.340001 \nL 70.851456 131.94 \nL 71.461403 128.50364 \nL 72.071351 113.040008 \nL 72.681298 117.40154 \nL 73.291245 104.940003 \nL 74.511139 94.140004 \nL 75.121086 89.692945 \nL 75.731034 89.940004 \nL 76.950928 97.920011 \nL 77.560875 101.340003 \nL 78.170822 97.576364 \nL 78.780769 100.713924 \nL 79.390717 97.290001 \nL 80.000664 100.188005 \nL 80.610611 99.955388 \nL 81.220558 102.540003 \nL 81.830505 99.540003 \nL 82.440452 99.353799 \nL 83.0504 104.220005 \nL 83.660347 99.01743 \nL 84.270294 101.227508 \nL 84.880241 98.721829 \nL 85.490188 100.810591 \nL 86.710083 100.440009 \nL 87.32003 104.356225 \nL 88.539924 103.83231 \nL 89.149871 105.480004 \nL 89.759819 108.89122 \nL 91.58966 113.040008 \nL 92.199607 112.620004 \nL 92.809554 113.861742 \nL 94.029449 119.340001 \nL 94.639396 120.368577 \nL 95.249343 122.868005 \nL 95.85929 119.340001 \nL 96.469237 121.763084 \nL 97.079185 122.668305 \nL 97.689132 122.140008 \nL 98.299079 123.005463 \nL 98.909026 121.140001 \nL 99.518973 120.666319 \nL 100.12892 117.602073 \nL 100.738868 118.485767 \nL 101.958762 117.687543 \nL 103.178656 121.740001 \nL 103.788603 122.490009 \nL 105.008498 119.340001 \nL 105.618445 120.09224 \nL 106.228392 119.710595 \nL 106.838339 121.531312 \nL 108.058234 120.759719 \nL 108.668181 122.490009 \nL 109.278128 123.137267 \nL 109.888075 121.72379 \nL 110.498022 122.364007 \nL 111.107969 123.982107 \nL 111.717917 122.612733 \nL 112.327864 124.186155 \nL 112.937811 121.891902 \nL 114.157705 123.073337 \nL 114.767652 120.876585 \nL 115.3776 122.376151 \nL 115.987547 122.940001 \nL 116.597494 121.71177 \nL 117.207441 121.391172 \nL 117.817388 120.208971 \nL 118.427335 119.912728 \nL 119.037283 120.47259 \nL 119.64723 120.180008 \nL 120.867124 117.970436 \nL 121.477071 118.527099 \nL 122.087018 118.267659 \nL 122.696966 118.809474 \nL 123.306913 118.552502 \nL 123.91686 119.080213 \nL 124.526807 118.825719 \nL 125.136754 117.812734 \nL 125.746701 118.332007 \nL 126.356649 116.595453 \nL 126.966596 115.634119 \nL 127.576543 116.893408 \nL 128.18649 117.40154 \nL 128.796437 115.740002 \nL 129.406384 116.24944 \nL 130.016332 117.455895 \nL 130.626279 117.940009 \nL 131.236226 116.334504 \nL 131.846173 117.507276 \nL 132.45612 117.977838 \nL 133.676015 117.555931 \nL 134.285962 116.024213 \nL 135.505856 115.646905 \nL 136.115803 116.109232 \nL 137.335698 115.740002 \nL 138.555592 114.133393 \nL 139.165539 114.589186 \nL 139.775486 114.422933 \nL 140.385433 114.869038 \nL 140.995381 115.9128 \nL 141.605328 115.740002 \nL 142.215275 114.97465 \nL 142.825222 115.402505 \nL 144.045116 115.075395 \nL 144.655064 114.338477 \nL 145.265011 114.185461 \nL 145.874958 113.466319 \nL 146.484905 114.450454 \nL 147.094852 113.740009 \nL 148.314747 113.453871 \nL 148.924694 113.861742 \nL 149.534641 112.088204 \nL 150.144588 113.040008 \nL 150.754535 112.905962 \nL 151.364482 111.709015 \nL 151.97443 112.114835 \nL 152.584377 113.040008 \nL 153.194324 113.431037 \nL 153.804271 112.781098 \nL 154.414218 111.62572 \nL 155.024165 112.018382 \nL 155.634113 111.898396 \nL 156.24406 111.276 \nL 156.854007 112.163851 \nL 157.463954 111.547899 \nL 158.073901 111.928237 \nL 158.683848 111.321827 \nL 159.903743 112.070777 \nL 160.51369 111.956569 \nL 161.123637 112.800767 \nL 161.733584 111.732458 \nL 162.343531 111.150009 \nL 162.953479 111.044352 \nL 163.563426 111.406677 \nL 164.78332 110.274157 \nL 165.393267 111.092737 \nL 166.613162 109.984312 \nL 167.833056 110.69149 \nL 168.443003 110.149416 \nL 169.05295 110.497896 \nL 169.662897 111.281869 \nL 170.272845 110.745789 \nL 170.882792 111.084828 \nL 172.712633 110.797632 \nL 173.32258 110.279327 \nL 174.542475 110.100007 \nL 175.152422 110.429505 \nL 176.372316 110.25148 \nL 176.982263 110.98566 \nL 177.592211 111.303251 \nL 178.202158 110.804526 \nL 179.422052 110.627244 \nL 180.031999 110.14001 \nL 181.251894 110.764084 \nL 181.861841 111.465009 \nL 182.471788 110.983531 \nL 183.081735 111.286398 \nL 184.301629 111.111437 \nL 185.521524 110.176374 \nL 186.741418 110.772003 \nL 187.351365 110.68926 \nL 187.961312 110.233072 \nL 188.57126 110.526217 \nL 189.181207 111.187061 \nL 190.401101 111.755541 \nL 191.011048 111.670443 \nL 191.620995 111.222693 \nL 192.230943 111.140963 \nL 192.84089 111.780009 \nL 193.450837 111.696398 \nL 194.060784 111.970189 \nL 194.670731 111.886488 \nL 195.280678 112.5101 \nL 195.890626 112.07303 \nL 198.330414 111.745481 \nL 198.940361 110.978191 \nL 200.770203 110.751669 \nL 201.990097 111.276 \nL 202.600044 110.865674 \nL 203.209992 110.791988 \nL 204.429886 111.306822 \nL 205.039833 111.232178 \nL 205.64978 111.485456 \nL 206.869675 110.687649 \nL 207.479622 110.940002 \nL 208.089569 110.54681 \nL 208.699516 111.117971 \nL 209.309463 111.046335 \nL 209.91941 111.292943 \nL 211.139305 109.890011 \nL 211.749252 109.824649 \nL 212.359199 110.072238 \nL 212.969146 109.384448 \nL 213.579093 109.32197 \nL 214.798988 109.813181 \nL 215.408935 109.749724 \nL 216.018882 109.991623 \nL 216.628829 109.927952 \nL 217.238776 109.26 \nL 217.848724 108.898576 \nL 218.458671 109.140002 \nL 219.068618 109.080713 \nL 219.678565 108.724257 \nL 220.288512 108.074127 \nL 220.898459 108.315001 \nL 221.508407 107.965687 \nL 222.118354 108.498141 \nL 222.728301 108.442704 \nL 223.948195 107.753799 \nL 225.16809 107.650271 \nL 226.997931 108.350532 \nL 227.607878 107.164726 \nL 228.217825 107.39821 \nL 228.827773 107.348925 \nL 229.43772 107.860008 \nL 230.657614 107.759127 \nL 231.267561 108.263079 \nL 231.877508 108.48745 \nL 232.487456 108.43528 \nL 233.097403 108.109567 \nL 233.70735 108.059144 \nL 234.317297 107.465182 \nL 236.757086 108.348515 \nL 237.97698 108.248457 \nL 238.586927 108.729484 \nL 239.196874 108.678464 \nL 239.806822 108.364399 \nL 240.416769 108.840008 \nL 241.026716 108.789145 \nL 241.636663 109.26 \nL 242.24661 109.467844 \nL 244.076452 109.311437 \nL 245.296346 109.719736 \nL 245.906293 109.412735 \nL 246.51624 109.361478 \nL 247.126188 109.563419 \nL 247.736135 109.008007 \nL 248.346082 109.209768 \nL 248.956029 109.159874 \nL 249.565976 109.35981 \nL 251.395818 108.469414 \nL 252.615712 109.358188 \nL 253.225659 109.308936 \nL 253.835606 109.016129 \nL 255.055501 108.92078 \nL 256.275395 109.308159 \nL 257.495289 109.212156 \nL 258.105237 108.92612 \nL 258.715184 108.879628 \nL 259.325131 109.307404 \nL 259.935078 108.7875 \nL 260.545025 108.506364 \nL 261.76492 108.88552 \nL 262.374867 108.60667 \nL 264.204708 109.167523 \nL 264.814655 109.121707 \nL 266.03455 108.572728 \nL 266.644497 108.529131 \nL 267.254444 108.941215 \nL 267.864391 109.123792 \nL 268.474338 109.078933 \nL 269.084286 109.485677 \nL 269.694233 109.665009 \nL 270.30418 109.394609 \nL 270.914127 109.349469 \nL 271.524074 109.527618 \nL 272.743969 109.437361 \nL 273.353916 108.729484 \nL 273.963863 108.907352 \nL 274.57381 108.86442 \nL 276.403652 109.390722 \nL 277.623546 109.303326 \nL 278.233493 109.476 \nL 278.84344 109.863087 \nL 279.453387 110.033192 \nL 280.063335 109.988165 \nL 280.673282 109.302718 \nL 281.283229 109.472959 \nL 282.503123 109.387061 \nL 283.11307 109.133299 \nL 284.942912 109.008705 \nL 285.552859 109.176468 \nL 286.162806 109.135046 \nL 286.772753 109.301546 \nL 287.382701 109.674247 \nL 290.432436 109.46433 \nL 291.042384 109.830575 \nL 291.652331 109.991623 \nL 292.872225 109.906852 \nL 293.482172 109.461603 \nL 294.092119 109.219794 \nL 295.921961 110.297262 \nL 296.531908 110.254747 \nL 298.971697 110.874382 \nL 299.581644 110.634555 \nL 300.801538 111.330704 \nL 301.411485 111.091554 \nL 302.021433 111.436666 \nL 302.63138 111.392314 \nL 303.241327 110.768139 \nL 303.851274 111.111437 \nL 304.461221 110.87588 \nL 305.681116 110.791143 \nL 306.291063 110.558188 \nL 306.90101 110.516833 \nL 308.120904 111.192637 \nL 308.730851 110.961001 \nL 309.340799 111.107584 \nL 309.950746 111.065373 \nL 310.560693 110.835787 \nL 311.17064 110.794466 \nL 312.390534 111.084828 \nL 313.000482 110.485955 \nL 313.610429 110.260593 \nL 314.220376 110.590857 \nL 314.830323 110.550742 \nL 315.44027 110.878696 \nL 316.660165 110.065434 \nL 317.270112 110.392183 \nL 317.880059 110.170854 \nL 318.490006 110.132315 \nL 319.099953 110.275261 \nL 319.7099 110.05579 \nL 320.319848 109.296094 \nL 320.929795 109.440008 \nL 322.149689 109.367493 \nL 322.759636 108.974053 \nL 323.979531 108.904243 \nL 325.809372 109.330656 \nL 326.419319 108.942804 \nL 328.249161 109.365004 \nL 328.859108 109.329845 \nL 329.469055 109.469038 \nL 330.079002 109.26 \nL 330.688949 109.572116 \nL 331.298897 109.7098 \nL 331.908844 110.01946 \nL 332.518791 109.983287 \nL 333.128738 110.290919 \nL 333.738685 110.254296 \nL 334.348632 110.388871 \nL 336.178474 110.279327 \nL 336.788421 110.073635 \nL 338.008315 110.340002 \nL 338.618263 110.303931 \nL 339.838157 110.567504 \nL 340.448104 110.865674 \nL 341.667998 110.791988 \nL 342.277946 110.921538 \nL 342.887893 110.718955 \nL 343.49784 110.1864 \nL 344.107787 110.151354 \nL 344.717734 110.281186 \nL 345.327681 110.081746 \nL 345.937629 110.047161 \nL 346.547576 110.176374 \nL 347.157523 110.468302 \nL 347.76747 110.596039 \nL 348.987365 111.174342 \nL 349.597312 110.975983 \nL 352.0371 110.833004 \nL 352.647048 111.117971 \nL 353.256995 111.241912 \nL 353.866942 111.205829 \nL 354.476889 110.692425 \nL 355.696783 110.306049 \nL 356.306731 110.588537 \nL 356.916678 110.712027 \nL 357.526625 110.99251 \nL 358.136572 110.800301 \nL 358.746519 111.079421 \nL 359.356466 110.887833 \nL 360.576361 111.13052 \nL 361.186308 110.940002 \nL 361.796255 110.905508 \nL 362.406202 110.71624 \nL 364.236044 111.538785 \nL 365.455938 111.161511 \nL 366.065885 111.28009 \nL 366.675832 110.787279 \nL 367.28578 111.058558 \nL 369.725568 110.923206 \nL 369.725568 110.923206 \n\" clip-path=\"url(#pe286d21773)\" style=\"fill: none; stroke: #2ca02c; stroke-width: 1.5; stroke-linecap: square\"/>\n   </g>\n   <g id=\"line2d_17\">\n    <path d=\"M 65.361932 169.740002 \nL 65.971879 131.94 \nL 66.581826 169.740002 \nL 67.191773 131.94 \nL 67.80172 154.620006 \nL 68.411668 157.140003 \nL 69.021615 158.940003 \nL 69.631562 160.290006 \nL 70.241509 152.940004 \nL 71.461403 128.50364 \nL 72.071351 131.94 \nL 72.681298 129.032308 \nL 73.291245 115.740002 \nL 73.901192 124.380008 \nL 74.511139 127.215005 \nL 75.121086 120.822354 \nL 75.731034 110.940002 \nL 76.340981 114.034743 \nL 76.950928 120.6 \nL 77.560875 122.940001 \nL 78.170822 128.50364 \nL 79.390717 125.640006 \nL 80.610611 111.586156 \nL 81.220558 110.940002 \nL 81.830505 113.040008 \nL 82.440452 112.388277 \nL 83.660347 116.088392 \nL 84.270294 113.040008 \nL 84.880241 112.467281 \nL 85.490188 107.481179 \nL 86.710083 110.940002 \nL 87.32003 102.312974 \nL 87.929977 100.108427 \nL 88.539924 99.955388 \nL 89.759819 103.359518 \nL 90.369766 103.140003 \nL 90.979713 101.172567 \nL 91.58966 102.730916 \nL 92.199607 102.540003 \nL 92.809554 104.000873 \nL 93.419502 107.008094 \nL 94.029449 108.315001 \nL 94.639396 111.111437 \nL 95.85929 110.445884 \nL 96.469237 108.678464 \nL 97.079185 109.830575 \nL 97.689132 112.340006 \nL 98.909026 114.390005 \nL 100.738868 121.048482 \nL 101.958762 120.16623 \nL 103.178656 121.740001 \nL 103.788603 120.1275 \nL 104.398551 120.890779 \nL 105.618445 120.09224 \nL 106.228392 120.822354 \nL 106.838339 119.340001 \nL 108.668181 118.29001 \nL 109.888075 119.680551 \nL 110.498022 115.308001 \nL 111.717917 114.758188 \nL 112.327864 113.524617 \nL 112.937811 115.193174 \nL 113.547758 114.930006 \nL 114.157705 116.540005 \nL 114.767652 117.188784 \nL 115.3776 115.089398 \nL 115.987547 115.740002 \nL 116.597494 115.485891 \nL 117.207441 114.358608 \nL 117.817388 114.995175 \nL 118.427335 114.758188 \nL 119.037283 112.827646 \nL 119.64723 114.300006 \nL 120.257177 114.909232 \nL 120.867124 114.683488 \nL 121.477071 113.649684 \nL 124.526807 116.511437 \nL 125.136754 115.521827 \nL 125.746701 113.796009 \nL 126.966596 114.892943 \nL 127.576543 114.691463 \nL 128.18649 115.9477 \nL 129.406384 115.536235 \nL 130.016332 114.62973 \nL 130.626279 115.140002 \nL 131.846173 117.507276 \nL 133.066067 118.440007 \nL 133.676015 117.555931 \nL 135.505856 116.950354 \nL 136.115803 118.047694 \nL 136.72575 117.845088 \nL 137.335698 117.01059 \nL 138.555592 117.88215 \nL 139.165539 117.067874 \nL 140.385433 116.698068 \nL 140.995381 115.9128 \nL 141.605328 116.940001 \nL 142.215275 117.355758 \nL 142.825222 118.35563 \nL 144.045116 119.14616 \nL 144.655064 118.378172 \nL 145.265011 119.340001 \nL 146.484905 118.963887 \nL 147.094852 119.900009 \nL 147.704799 120.26648 \nL 150.144588 123.840006 \nL 150.754535 123.629368 \nL 151.364482 123.95409 \nL 151.97443 124.80294 \nL 153.194324 124.380008 \nL 154.414218 124.997153 \nL 155.024165 124.788655 \nL 156.24406 125.388002 \nL 156.854007 125.181059 \nL 157.463954 125.971588 \nL 158.073901 125.76353 \nL 158.683848 126.540001 \nL 159.293796 125.843232 \nL 160.51369 125.439372 \nL 162.953479 126.540001 \nL 163.563426 127.273336 \nL 164.78332 127.791224 \nL 165.393267 127.129096 \nL 166.613162 127.639401 \nL 167.223109 126.540001 \nL 167.833056 126.348288 \nL 168.443003 127.048245 \nL 169.662897 125.786511 \nL 170.272845 126.47758 \nL 170.882792 125.422767 \nL 171.492739 125.244009 \nL 172.712633 125.74679 \nL 173.32258 126.418651 \nL 173.932528 125.393635 \nL 174.542475 125.220003 \nL 175.152422 125.465969 \nL 175.762369 124.047693 \nL 176.372316 123.058038 \nL 176.982263 123.311744 \nL 177.592211 122.336757 \nL 178.202158 122.591622 \nL 179.422052 122.288935 \nL 180.031999 122.940001 \nL 180.641946 122.390526 \nL 181.861841 122.883753 \nL 182.471788 121.951405 \nL 184.301629 121.525724 \nL 184.911577 122.154214 \nL 185.521524 122.012733 \nL 186.131471 121.492773 \nL 187.351365 121.972843 \nL 187.961312 121.086536 \nL 188.57126 120.953797 \nL 189.181207 120.451771 \nL 189.791154 120.692195 \nL 190.401101 120.563309 \nL 191.011048 121.166091 \nL 191.620995 120.672695 \nL 192.84089 121.140001 \nL 193.450837 121.728634 \nL 194.060784 121.598498 \nL 194.670731 121.824513 \nL 195.280678 121.695143 \nL 195.890626 121.918612 \nL 196.500573 120.390004 \nL 197.11052 120.617427 \nL 197.720467 120.149175 \nL 198.330414 120.030416 \nL 198.940361 120.256364 \nL 199.550309 119.79611 \nL 200.160256 120.021089 \nL 200.770203 119.905023 \nL 201.38015 120.1275 \nL 201.990097 119.004003 \nL 203.209992 119.451021 \nL 203.819939 119.00843 \nL 204.429886 119.229962 \nL 205.039833 118.792182 \nL 205.64978 119.340001 \nL 207.479622 119.986155 \nL 208.089569 119.232767 \nL 208.699516 119.767124 \nL 209.309463 119.977976 \nL 209.91941 119.234119 \nL 210.529358 119.445444 \nL 211.139305 119.970001 \nL 214.189041 120.985723 \nL 215.408935 121.992636 \nL 216.018882 120.965806 \nL 216.628829 120.554466 \nL 217.848724 120.946385 \nL 218.458671 120.540001 \nL 220.288512 121.118834 \nL 220.898459 121.013447 \nL 221.508407 121.203042 \nL 222.728301 120.41027 \nL 223.338248 120.890779 \nL 223.948195 120.788277 \nL 224.558142 120.975122 \nL 225.16809 121.447994 \nL 225.778037 121.058181 \nL 226.387984 120.956614 \nL 226.997931 121.140001 \nL 227.607878 121.605178 \nL 228.217825 121.502687 \nL 229.43772 121.86001 \nL 230.657614 121.656176 \nL 231.267561 121.832309 \nL 232.487456 122.730546 \nL 233.097403 122.353046 \nL 233.70735 122.524121 \nL 234.317297 122.9659 \nL 235.537191 123.300005 \nL 236.147139 122.658155 \nL 236.757086 123.093197 \nL 237.367033 123.258031 \nL 237.97698 123.155494 \nL 238.586927 123.318954 \nL 239.196874 122.423916 \nL 239.806822 122.588783 \nL 240.416769 121.965002 \nL 241.026716 121.607138 \nL 241.636663 120.99104 \nL 242.856557 121.324932 \nL 244.686399 121.048482 \nL 245.296346 121.212978 \nL 245.906293 120.86728 \nL 246.51624 120.777586 \nL 247.736135 121.608006 \nL 248.346082 121.516746 \nL 248.956029 121.676431 \nL 249.565976 121.336039 \nL 251.395818 121.069413 \nL 252.005765 120.735442 \nL 254.445554 121.365723 \nL 255.055501 120.793853 \nL 257.495289 121.413421 \nL 258.105237 121.327388 \nL 258.715184 121.479627 \nL 259.325131 121.39392 \nL 260.545025 122.166178 \nL 261.154972 122.313922 \nL 261.76492 122.694801 \nL 262.374867 122.84001 \nL 263.594761 122.663934 \nL 264.204708 122.807893 \nL 264.814655 123.181472 \nL 265.424603 123.093197 \nL 266.03455 122.776373 \nL 266.644497 123.146651 \nL 267.254444 123.286994 \nL 267.864391 123.199463 \nL 268.474338 123.565156 \nL 271.524074 123.13115 \nL 272.134021 123.268237 \nL 273.353916 123.097895 \nL 273.963863 123.454295 \nL 274.57381 123.588847 \nL 275.793704 123.418617 \nL 276.403652 122.898511 \nL 277.013599 123.250348 \nL 277.623546 123.16694 \nL 278.84344 122.57077 \nL 279.453387 122.490009 \nL 280.063335 122.195524 \nL 280.673282 122.543396 \nL 281.893176 122.808546 \nL 283.11307 122.648388 \nL 283.723018 122.358386 \nL 284.332965 121.86001 \nL 284.942912 121.992636 \nL 287.382701 121.687403 \nL 287.992648 121.818689 \nL 289.212542 121.257397 \nL 289.822489 121.593665 \nL 290.432436 121.519461 \nL 291.042384 121.241896 \nL 291.652331 120.559355 \nL 292.262278 120.48853 \nL 292.872225 120.822354 \nL 293.482172 120.751203 \nL 294.092119 121.082559 \nL 294.702067 120.610026 \nL 295.312014 120.740005 \nL 295.921961 120.669822 \nL 296.531908 120.20211 \nL 297.141855 120.133708 \nL 297.751802 119.867757 \nL 298.36175 119.800582 \nL 298.971697 119.536885 \nL 299.581644 119.863645 \nL 300.801538 119.340001 \nL 303.241327 119.855602 \nL 304.461221 119.340001 \nL 306.291063 119.1491 \nL 306.90101 119.466961 \nL 307.510957 119.403323 \nL 308.120904 119.150531 \nL 309.340799 119.02579 \nL 309.950746 119.340001 \nL 311.17064 119.21525 \nL 311.780587 119.340001 \nL 312.390534 119.091726 \nL 313.000482 119.03042 \nL 313.610429 119.15471 \nL 314.220376 118.90871 \nL 314.830323 119.032684 \nL 315.44027 118.420293 \nL 316.660165 118.668816 \nL 317.270112 118.244352 \nL 317.880059 118.186268 \nL 318.490006 118.491929 \nL 319.099953 118.252237 \nL 319.7099 118.194548 \nL 320.929795 118.440007 \nL 321.539742 118.741432 \nL 322.759636 118.982554 \nL 323.369583 119.280566 \nL 323.979531 119.043533 \nL 324.589478 118.45268 \nL 325.199425 118.749836 \nL 327.029266 119.105582 \nL 328.249161 118.99 \nL 328.859108 119.107216 \nL 329.469055 118.701294 \nL 331.298897 119.051678 \nL 331.908844 119.340001 \nL 333.128738 119.225456 \nL 334.348632 119.454028 \nL 334.95858 119.738195 \nL 335.568527 119.850814 \nL 336.178474 119.283371 \nL 336.788421 119.396508 \nL 337.398368 119.340001 \nL 338.008315 119.115 \nL 339.838157 119.451753 \nL 340.448104 118.893986 \nL 341.058051 119.173117 \nL 341.667998 118.618415 \nL 342.277946 118.730775 \nL 343.49784 119.284858 \nL 344.107787 119.229962 \nL 344.717734 119.504711 \nL 345.327681 119.285218 \nL 345.937629 119.230683 \nL 346.547576 119.340001 \nL 347.157523 119.1223 \nL 347.76747 119.394311 \nL 348.377417 119.502582 \nL 348.987365 119.285928 \nL 349.597312 119.393962 \nL 350.207259 119.016924 \nL 350.817206 119.286277 \nL 351.427153 118.911065 \nL 352.647048 118.806106 \nL 353.256995 118.594127 \nL 353.866942 118.702026 \nL 355.086836 118.598825 \nL 356.306731 118.180173 \nL 356.916678 118.129987 \nL 357.526625 117.765003 \nL 358.136572 117.873059 \nL 358.746519 117.666972 \nL 359.966414 117.569753 \nL 360.576361 117.677325 \nL 361.186308 117.940009 \nL 362.406202 118.152303 \nL 363.016149 117.948593 \nL 363.626097 117.900006 \nL 364.236044 117.697648 \nL 364.845991 117.649759 \nL 365.455938 117.90877 \nL 366.065885 118.013684 \nL 367.28578 117.917422 \nL 367.895727 118.021693 \nL 368.505674 117.973737 \nL 369.725568 117.576005 \nL 369.725568 117.576005 \n\" clip-path=\"url(#pe286d21773)\" style=\"fill: none; stroke: #d62728; stroke-width: 1.5; stroke-linecap: square\"/>\n   </g>\n   <g id=\"line2d_18\">\n    <path d=\"M 65.361932 18.54 \nL 66.581826 94.140004 \nL 67.191773 75.240011 \nL 67.80172 109.26 \nL 68.411668 94.140004 \nL 69.021615 115.740002 \nL 69.631562 113.040008 \nL 70.241509 110.940002 \nL 71.461403 121.630919 \nL 72.071351 131.94 \nL 72.681298 123.216924 \nL 73.901192 129.420003 \nL 75.121086 143.057646 \nL 75.731034 140.339999 \nL 76.950928 128.160004 \nL 77.560875 122.940001 \nL 78.170822 121.630919 \nL 78.780769 117.148702 \nL 79.390717 116.190004 \nL 80.000664 121.356002 \nL 80.610611 120.309232 \nL 81.220558 116.540005 \nL 81.830505 118.440007 \nL 82.440452 122.815869 \nL 83.0504 119.340001 \nL 83.660347 120.965806 \nL 84.270294 117.765003 \nL 85.490188 116.375296 \nL 86.100135 113.580009 \nL 86.710083 115.140002 \nL 87.32003 112.529195 \nL 87.929977 112.045272 \nL 88.539924 115.463079 \nL 89.149871 114.930006 \nL 89.759819 110.735132 \nL 90.369766 108.540002 \nL 91.58966 107.885456 \nL 92.199607 109.26 \nL 92.809554 112.218262 \nL 93.419502 108.616606 \nL 94.029449 111.465009 \nL 94.639396 108.02572 \nL 95.249343 106.236005 \nL 96.469237 108.678464 \nL 97.689132 108.140006 \nL 98.299079 109.26 \nL 98.909026 108.990005 \nL 99.518973 106.076849 \nL 100.12892 104.567595 \nL 100.738868 101.828139 \nL 101.348815 104.220005 \nL 101.958762 102.815416 \nL 102.568709 105.114198 \nL 103.178656 103.740003 \nL 103.788603 104.77126 \nL 104.398551 103.444616 \nL 105.008498 103.303642 \nL 105.618445 102.038518 \nL 106.228392 103.034121 \nL 107.448286 102.78001 \nL 108.058234 103.723105 \nL 108.668181 102.540003 \nL 109.278128 99.318089 \nL 109.888075 98.226494 \nL 110.498022 100.188005 \nL 111.107969 100.108427 \nL 112.937811 102.752669 \nL 113.547758 100.755008 \nL 114.157705 99.740007 \nL 115.3776 101.426757 \nL 115.987547 101.340003 \nL 117.817388 106.305523 \nL 118.427335 107.026366 \nL 119.037283 108.580456 \nL 119.64723 105.900007 \nL 120.257177 107.43231 \nL 120.867124 107.287833 \nL 121.477071 107.959356 \nL 122.087018 109.420857 \nL 122.696966 110.05579 \nL 123.306913 109.890011 \nL 123.91686 108.948256 \nL 124.526807 109.568578 \nL 125.136754 109.412735 \nL 125.746701 110.772003 \nL 126.356649 110.607327 \nL 126.966596 111.928237 \nL 127.576543 112.489518 \nL 128.18649 111.586156 \nL 130.016332 111.097018 \nL 130.626279 111.640004 \nL 131.846173 111.321827 \nL 132.45612 111.848119 \nL 133.066067 111.69001 \nL 133.676015 112.872752 \nL 134.285962 113.37159 \nL 134.895909 114.519138 \nL 135.505856 114.995175 \nL 136.72575 114.641705 \nL 137.335698 115.104708 \nL 137.945645 114.930006 \nL 138.555592 114.133393 \nL 139.775486 115.037567 \nL 140.385433 114.259361 \nL 141.605328 115.140002 \nL 142.215275 114.97465 \nL 142.825222 115.402505 \nL 143.435169 114.651629 \nL 145.265011 114.185461 \nL 145.874958 115.17159 \nL 146.484905 114.450454 \nL 147.094852 114.300006 \nL 147.704799 114.707652 \nL 148.314747 114.005701 \nL 148.924694 112.766092 \nL 149.534641 113.175979 \nL 150.144588 112.500006 \nL 151.364482 113.306206 \nL 151.97443 112.643504 \nL 152.584377 112.515001 \nL 153.194324 112.909657 \nL 154.414218 112.654296 \nL 155.634113 113.420537 \nL 156.24406 113.292001 \nL 156.854007 114.16649 \nL 158.073901 114.892943 \nL 159.293796 114.625167 \nL 159.903743 114.978469 \nL 160.51369 115.808799 \nL 161.123637 113.75773 \nL 161.733584 114.109815 \nL 162.343531 113.985007 \nL 162.953479 114.331312 \nL 166.003214 111.446027 \nL 167.223109 113.040008 \nL 170.272845 112.493765 \nL 170.882792 111.953798 \nL 172.102686 111.751372 \nL 173.32258 112.402922 \nL 173.932528 113.145597 \nL 174.542475 113.040008 \nL 175.152422 113.353261 \nL 175.762369 114.078463 \nL 176.372316 114.382626 \nL 176.982263 115.094355 \nL 177.592211 115.38973 \nL 178.202158 115.275489 \nL 178.812105 114.758188 \nL 179.422052 115.050645 \nL 180.031999 114.540002 \nL 180.641946 114.432632 \nL 181.251894 113.534767 \nL 181.861841 113.827507 \nL 182.471788 114.508921 \nL 183.081735 114.403917 \nL 183.691682 113.912312 \nL 184.301629 114.197143 \nL 184.911577 113.711576 \nL 185.521524 113.994548 \nL 188.57126 113.505523 \nL 189.181207 113.781184 \nL 189.791154 112.579032 \nL 190.401101 112.489518 \nL 191.011048 112.035663 \nL 191.620995 112.313082 \nL 192.84089 112.140002 \nL 194.670731 112.951271 \nL 195.280678 112.863368 \nL 196.500573 114.09001 \nL 198.330414 114.852332 \nL 199.550309 116.033214 \nL 200.160256 115.934598 \nL 201.38015 116.415006 \nL 201.990097 116.316007 \nL 202.600044 116.886908 \nL 204.429886 115.598521 \nL 205.039833 115.83392 \nL 205.64978 115.412734 \nL 206.869675 115.87906 \nL 208.089569 116.980861 \nL 209.309463 116.788112 \nL 209.91941 117.01059 \nL 210.529358 117.547538 \nL 211.139305 117.765003 \nL 211.749252 116.412201 \nL 212.359199 116.632572 \nL 212.969146 117.162232 \nL 214.189041 116.974293 \nL 214.798988 115.959517 \nL 216.018882 117.002907 \nL 217.848724 117.633233 \nL 218.458671 117.540001 \nL 219.068618 118.045148 \nL 219.678565 117.951026 \nL 220.288512 118.154128 \nL 220.898459 118.060322 \nL 221.508407 117.673078 \nL 222.118354 117.874884 \nL 222.728301 118.367031 \nL 223.338248 118.564623 \nL 224.558142 119.532367 \nL 225.778037 119.340001 \nL 226.387984 119.530193 \nL 226.997931 120.003166 \nL 227.607878 120.189448 \nL 228.217825 120.09224 \nL 229.43772 119.340001 \nL 230.657614 119.710595 \nL 231.877508 119.523952 \nL 232.487456 118.88182 \nL 233.097403 119.340001 \nL 233.70735 118.97611 \nL 234.317297 119.430653 \nL 234.927244 119.340001 \nL 235.537191 118.980008 \nL 236.147139 119.160647 \nL 236.757086 119.071921 \nL 237.367033 118.716682 \nL 240.416769 118.29001 \nL 241.636663 118.644832 \nL 242.24661 118.560624 \nL 242.856557 118.735901 \nL 243.466505 119.167992 \nL 244.686399 118.998314 \nL 245.296346 118.403519 \nL 245.906293 118.576373 \nL 247.126188 118.412914 \nL 247.736135 118.584 \nL 248.346082 118.00047 \nL 248.956029 118.422129 \nL 250.175923 118.759738 \nL 251.395818 118.598825 \nL 252.615712 118.930914 \nL 253.225659 118.850683 \nL 253.835606 118.283228 \nL 254.445554 118.448681 \nL 255.055501 118.370771 \nL 255.665448 118.051828 \nL 256.885342 117.900006 \nL 257.495289 117.585569 \nL 258.105237 117.511613 \nL 258.715184 116.962645 \nL 259.325131 116.654111 \nL 260.545025 116.98486 \nL 261.154972 116.209572 \nL 262.984814 117.40154 \nL 263.594761 117.09829 \nL 264.204708 117.028073 \nL 264.814655 116.497321 \nL 265.424603 116.888936 \nL 266.03455 116.820004 \nL 266.644497 116.979881 \nL 267.254444 116.683378 \nL 268.474338 116.548387 \nL 269.084286 116.707171 \nL 269.694233 116.640007 \nL 270.30418 116.797575 \nL 270.914127 116.506874 \nL 271.524074 116.663901 \nL 272.134021 116.59765 \nL 273.353916 116.908425 \nL 273.963863 116.401228 \nL 274.57381 116.556284 \nL 275.183757 116.92957 \nL 275.793704 116.863702 \nL 278.233493 117.468005 \nL 278.84344 117.186159 \nL 279.453387 117.335458 \nL 280.673282 117.204409 \nL 281.283229 116.713524 \nL 285.552859 117.738901 \nL 286.162806 117.673889 \nL 286.772753 117.816924 \nL 287.382701 117.337812 \nL 287.992648 117.067874 \nL 289.212542 117.354136 \nL 291.042384 118.389065 \nL 291.652331 118.527099 \nL 292.872225 117.992415 \nL 293.482172 118.332007 \nL 294.092119 118.468733 \nL 294.702067 118.203661 \nL 295.312014 117.740005 \nL 296.531908 118.411585 \nL 297.141855 118.34788 \nL 297.751802 118.680318 \nL 298.36175 118.616241 \nL 298.971697 118.749385 \nL 300.801538 118.558608 \nL 301.411485 118.300824 \nL 302.021433 118.433068 \nL 303.241327 119.082207 \nL 303.851274 119.01858 \nL 304.461221 119.340001 \nL 305.071168 119.467918 \nL 305.681116 119.021014 \nL 306.291063 119.340001 \nL 308.120904 119.150531 \nL 308.730851 119.277006 \nL 309.340799 119.02579 \nL 309.950746 118.963887 \nL 310.560693 119.089878 \nL 311.780587 118.96667 \nL 312.390534 118.719318 \nL 313.610429 118.969419 \nL 314.220376 118.539029 \nL 314.830323 118.295124 \nL 315.44027 118.236353 \nL 316.660165 118.485767 \nL 317.270112 118.792182 \nL 317.880059 118.91494 \nL 318.490006 118.855392 \nL 319.099953 118.614822 \nL 319.7099 118.556276 \nL 320.319848 118.678425 \nL 320.929795 118.440007 \nL 322.149689 118.683134 \nL 322.759636 118.625107 \nL 323.369583 118.745668 \nL 325.199425 118.572791 \nL 325.809372 118.33907 \nL 327.029266 118.226519 \nL 327.639214 118.521444 \nL 328.249161 118.465005 \nL 329.469055 118.701294 \nL 330.079002 118.992422 \nL 330.688949 118.762025 \nL 331.298897 119.051678 \nL 331.908844 118.822193 \nL 332.518791 119.110392 \nL 333.128738 118.710002 \nL 334.348632 118.256743 \nL 334.95858 118.543614 \nL 335.568527 118.48865 \nL 337.398368 118.832624 \nL 338.008315 119.115 \nL 338.618263 119.059383 \nL 339.22821 119.340001 \nL 340.448104 119.563009 \nL 341.058051 119.506896 \nL 341.667998 119.784056 \nL 342.277946 119.561544 \nL 343.49784 119.781138 \nL 344.107787 119.725161 \nL 344.717734 119.834119 \nL 345.327681 120.106964 \nL 346.547576 120.321827 \nL 347.157523 120.591844 \nL 347.76747 120.53483 \nL 348.377417 120.152904 \nL 348.987365 120.259315 \nL 350.207259 120.147699 \nL 350.817206 120.253435 \nL 351.427153 120.519577 \nL 352.0371 120.624085 \nL 352.647048 120.888312 \nL 353.256995 120.671929 \nL 353.866942 120.775445 \nL 354.476889 120.719378 \nL 355.086836 120.822354 \nL 356.306731 121.343351 \nL 357.526625 121.229999 \nL 359.966414 121.630919 \nL 361.186308 121.517782 \nL 361.796255 121.616804 \nL 362.406202 121.870329 \nL 363.016149 121.968224 \nL 363.626097 121.757147 \nL 364.236044 121.700899 \nL 364.845991 121.952205 \nL 365.455938 121.742434 \nL 366.065885 121.686559 \nL 366.675832 121.936366 \nL 367.28578 121.575494 \nL 369.725568 121.356002 \nL 369.725568 121.356002 \n\" clip-path=\"url(#pe286d21773)\" style=\"fill: none; stroke: #9467bd; stroke-width: 1.5; stroke-linecap: square\"/>\n   </g>\n   <g id=\"line2d_19\">\n    <path d=\"M 65.361932 169.740002 \nL 66.581826 169.740002 \nL 67.191773 150.840004 \nL 67.80172 154.620006 \nL 68.411668 144.539999 \nL 69.021615 148.139998 \nL 69.631562 150.840004 \nL 70.241509 136.14 \nL 70.851456 109.26 \nL 71.461403 114.758188 \nL 72.071351 113.040008 \nL 73.291245 121.140001 \nL 74.511139 117.765003 \nL 75.121086 120.822354 \nL 75.731034 127.74 \nL 76.950928 116.820004 \nL 77.560875 122.940001 \nL 78.170822 118.194548 \nL 78.780769 120.435662 \nL 79.390717 119.340001 \nL 80.610611 123.216924 \nL 81.830505 126.540001 \nL 82.440452 125.422767 \nL 83.0504 121.86001 \nL 83.660347 123.404525 \nL 84.270294 127.215005 \nL 84.880241 126.212733 \nL 86.710083 129.840006 \nL 87.32003 130.918386 \nL 87.929977 129.950529 \nL 88.539924 127.093847 \nL 89.149871 126.270006 \nL 90.979713 129.302799 \nL 91.58966 128.50364 \nL 92.199607 129.420003 \nL 92.809554 127.009571 \nL 94.029449 125.640006 \nL 94.639396 126.540001 \nL 95.249343 122.868005 \nL 95.85929 122.304707 \nL 96.469237 120.309232 \nL 97.079185 116.962645 \nL 98.299079 116.132732 \nL 98.909026 114.390005 \nL 99.518973 115.36106 \nL 100.12892 117.602073 \nL 101.348815 116.820004 \nL 101.958762 118.926892 \nL 102.568709 118.527099 \nL 103.178656 116.940001 \nL 103.788603 114.221251 \nL 105.008498 115.903641 \nL 105.618445 115.578807 \nL 106.228392 116.375296 \nL 106.838339 116.053052 \nL 107.448286 117.900006 \nL 108.058234 116.500566 \nL 108.668181 116.190004 \nL 109.888075 117.6373 \nL 110.498022 117.324001 \nL 111.107969 116.024213 \nL 111.717917 117.703641 \nL 113.547758 119.655001 \nL 114.157705 117.473334 \nL 115.3776 118.73278 \nL 115.987547 117.540001 \nL 117.207441 118.753959 \nL 117.817388 118.471043 \nL 118.427335 119.912728 \nL 120.867124 122.079131 \nL 121.477071 123.404525 \nL 122.696966 122.788427 \nL 123.306913 121.70251 \nL 123.91686 122.197732 \nL 124.526807 121.911436 \nL 125.136754 122.394547 \nL 126.356649 121.835057 \nL 126.966596 120.081178 \nL 128.18649 119.582317 \nL 129.406384 121.9551 \nL 130.016332 120.988607 \nL 130.626279 122.140008 \nL 131.236226 122.576707 \nL 132.45612 122.064328 \nL 133.066067 123.165002 \nL 134.285962 123.982107 \nL 136.72575 122.970519 \nL 137.335698 123.36353 \nL 137.945645 124.380008 \nL 138.555592 124.754882 \nL 139.165539 123.884268 \nL 139.775486 124.257081 \nL 140.995381 123.775209 \nL 141.605328 121.740001 \nL 142.215275 122.117962 \nL 142.825222 121.899382 \nL 143.435169 122.856289 \nL 144.045116 122.053852 \nL 144.655064 122.994964 \nL 145.265011 123.349099 \nL 145.874958 123.129483 \nL 146.484905 122.348957 \nL 147.094852 123.260002 \nL 147.704799 123.601768 \nL 148.314747 122.834896 \nL 148.924694 123.174792 \nL 149.534641 122.422023 \nL 150.144588 122.760004 \nL 150.754535 122.557027 \nL 151.364482 122.889296 \nL 152.584377 121.440007 \nL 153.804271 121.066033 \nL 154.414218 121.911436 \nL 155.024165 121.72379 \nL 155.634113 122.046045 \nL 156.24406 121.86001 \nL 156.854007 121.175768 \nL 157.463954 121.992636 \nL 158.073901 121.810589 \nL 159.293796 122.429042 \nL 159.903743 122.247693 \nL 161.123637 122.848865 \nL 161.733584 122.192831 \nL 162.953479 122.783481 \nL 163.563426 120.740005 \nL 165.393267 120.256364 \nL 166.613162 120.848985 \nL 167.223109 120.69001 \nL 168.443003 122.156478 \nL 169.05295 122.434742 \nL 169.662897 121.830698 \nL 170.272845 121.670641 \nL 170.882792 122.38139 \nL 171.492739 122.652004 \nL 172.102686 122.490009 \nL 173.32258 121.322025 \nL 175.152422 122.12453 \nL 176.372316 123.471147 \nL 178.202158 122.998073 \nL 178.812105 123.652304 \nL 179.422052 123.093197 \nL 180.031999 123.740005 \nL 180.641946 123.982107 \nL 181.251894 124.617491 \nL 181.861841 123.671253 \nL 182.471788 123.518248 \nL 183.691682 124.767702 \nL 184.301629 124.997153 \nL 184.911577 124.84051 \nL 185.521524 125.06728 \nL 186.131471 124.531965 \nL 186.741418 124.758003 \nL 187.351365 124.22956 \nL 187.961312 124.829109 \nL 188.57126 124.305521 \nL 189.181207 124.157653 \nL 189.791154 124.380008 \nL 190.401101 124.967188 \nL 191.620995 125.397701 \nL 192.230943 125.248144 \nL 192.84089 125.820003 \nL 193.450837 124.953275 \nL 194.060784 125.164533 \nL 194.670731 124.309014 \nL 195.280678 124.16804 \nL 195.890626 123.67675 \nL 196.500573 124.240003 \nL 197.11052 124.449683 \nL 197.720467 124.310647 \nL 198.330414 124.518086 \nL 198.940361 125.06728 \nL 200.770203 125.66826 \nL 201.38015 125.5275 \nL 202.600044 126.587788 \nL 203.209992 126.111807 \nL 203.819939 126.303159 \nL 204.429886 126.162715 \nL 205.039833 126.352175 \nL 205.64978 126.212733 \nL 206.869675 126.586357 \nL 207.479622 126.124616 \nL 208.089569 125.98852 \nL 208.699516 125.533223 \nL 209.309463 125.400766 \nL 210.529358 123.873892 \nL 211.139305 124.065008 \nL 211.749252 124.568216 \nL 212.969146 124.940004 \nL 213.579093 124.813777 \nL 214.189041 124.997153 \nL 214.798988 124.564398 \nL 215.408935 124.441223 \nL 216.018882 124.014201 \nL 216.628829 123.894226 \nL 217.238776 124.077602 \nL 217.848724 124.560725 \nL 218.458671 124.740001 \nL 219.068618 124.619057 \nL 219.678565 124.796699 \nL 220.288512 124.676476 \nL 220.898459 123.966572 \nL 222.118354 123.735352 \nL 222.728301 123.912983 \nL 223.338248 124.380008 \nL 223.948195 124.553797 \nL 224.558142 123.572062 \nL 225.16809 123.172708 \nL 225.778037 123.062736 \nL 226.997931 122.276848 \nL 227.607878 122.171461 \nL 228.217825 121.502687 \nL 229.43772 121.300002 \nL 230.047667 120.920813 \nL 230.657614 121.100302 \nL 231.267561 121.555386 \nL 231.877508 121.455339 \nL 232.487456 121.081095 \nL 233.70735 121.432425 \nL 234.317297 121.062304 \nL 237.367033 120.586651 \nL 237.97698 121.025918 \nL 238.586927 120.666319 \nL 239.196874 121.10224 \nL 239.806822 121.008299 \nL 240.416769 121.177503 \nL 241.636663 120.469661 \nL 242.24661 120.898766 \nL 242.856557 121.066033 \nL 243.466505 120.458091 \nL 244.076452 120.625719 \nL 244.686399 121.048482 \nL 245.296346 120.957571 \nL 245.906293 121.376369 \nL 246.51624 121.538668 \nL 247.126188 121.194187 \nL 247.736135 121.356002 \nL 248.346082 121.014427 \nL 250.175923 120.74922 \nL 251.395818 121.069413 \nL 252.005765 120.735442 \nL 252.615712 120.649094 \nL 253.225659 120.07399 \nL 253.835606 120.478065 \nL 254.445554 120.636466 \nL 255.055501 121.036158 \nL 256.885342 120.780008 \nL 257.495289 120.934939 \nL 258.715184 120.766422 \nL 259.325131 120.919945 \nL 261.76492 119.652083 \nL 262.374867 119.806677 \nL 262.984814 119.495079 \nL 263.594761 119.649211 \nL 264.204708 119.571199 \nL 264.814655 119.724147 \nL 265.424603 119.416605 \nL 266.03455 119.798183 \nL 266.644497 119.492274 \nL 267.254444 119.415907 \nL 270.914127 120.309232 \nL 272.743969 120.079003 \nL 273.353916 120.224213 \nL 273.963863 120.588983 \nL 274.57381 120.512097 \nL 275.183757 119.997398 \nL 275.793704 120.141165 \nL 276.403652 120.50197 \nL 277.013599 119.991731 \nL 278.233493 120.275999 \nL 278.84344 119.986155 \nL 280.673282 120.407803 \nL 281.893176 120.260228 \nL 282.503123 120.610589 \nL 283.11307 120.536655 \nL 283.723018 120.884291 \nL 284.332965 120.810007 \nL 285.552859 120.244975 \nL 286.772753 120.51693 \nL 287.382701 120.85891 \nL 287.992648 120.99246 \nL 289.212542 120.846529 \nL 289.822489 120.159516 \nL 290.432436 120.089199 \nL 291.042384 119.815475 \nL 291.652331 119.949678 \nL 292.262278 120.285845 \nL 292.872225 120.418077 \nL 293.482172 120.751203 \nL 294.702067 121.011093 \nL 295.921961 120.470348 \nL 296.531908 120.6 \nL 297.141855 120.927403 \nL 297.751802 120.857288 \nL 299.581644 121.238189 \nL 300.191591 121.167984 \nL 300.801538 121.29349 \nL 301.411485 121.223511 \nL 302.021433 120.765194 \nL 302.63138 120.503085 \nL 303.851274 120.754289 \nL 304.461221 120.686574 \nL 305.071168 121.002948 \nL 306.291063 121.249094 \nL 306.90101 121.180815 \nL 307.510957 121.492773 \nL 308.120904 121.424213 \nL 308.730851 121.54501 \nL 309.340799 121.099604 \nL 309.950746 121.032542 \nL 310.560693 121.153407 \nL 311.17064 121.460802 \nL 311.780587 121.206669 \nL 312.390534 121.140001 \nL 313.000482 121.445166 \nL 313.610429 121.007657 \nL 314.220376 121.126798 \nL 314.830323 120.876585 \nL 316.050217 120.746798 \nL 316.660165 120.865432 \nL 318.490006 120.672695 \nL 319.099953 120.790361 \nL 319.7099 120.72661 \nL 320.319848 121.024014 \nL 320.929795 120.420003 \nL 322.149689 120.295454 \nL 323.369583 120.52868 \nL 323.979531 120.466597 \nL 324.589478 120.759719 \nL 325.199425 120.874433 \nL 326.419319 120.749794 \nL 328.249161 121.090006 \nL 328.859108 120.853165 \nL 329.469055 120.791622 \nL 330.079002 120.90414 \nL 330.688949 121.189546 \nL 331.908844 120.375618 \nL 334.348632 120.822354 \nL 335.568527 120.021089 \nL 336.178474 120.302698 \nL 336.788421 120.24404 \nL 337.398368 120.016515 \nL 339.838157 119.787007 \nL 340.448104 120.064787 \nL 341.058051 120.007559 \nL 341.667998 120.117103 \nL 342.277946 120.392313 \nL 342.887893 120.334737 \nL 343.49784 120.442849 \nL 344.107787 120.385419 \nL 344.717734 119.998828 \nL 345.327681 120.106964 \nL 345.937629 120.050637 \nL 346.547576 120.158187 \nL 347.157523 119.612148 \nL 347.76747 119.394311 \nL 348.377417 119.340001 \nL 348.987365 119.123697 \nL 350.207259 119.340001 \nL 351.427153 118.911065 \nL 352.0371 119.018986 \nL 352.647048 118.806106 \nL 353.256995 119.073623 \nL 353.866942 119.021014 \nL 354.476889 119.286953 \nL 355.086836 119.392948 \nL 355.696783 119.340001 \nL 356.306731 119.445444 \nL 356.916678 119.39261 \nL 357.526625 119.497501 \nL 358.136572 119.444791 \nL 358.746519 119.705976 \nL 359.356466 119.809572 \nL 359.966414 119.756535 \nL 360.576361 119.85959 \nL 361.796255 119.753966 \nL 362.406202 120.011322 \nL 363.016149 119.649211 \nL 363.626097 119.751432 \nL 364.845991 119.647318 \nL 366.675832 119.950917 \nL 367.28578 119.898872 \nL 367.895727 119.694936 \nL 368.505674 119.795423 \nL 369.115621 120.047021 \nL 369.725568 119.995201 \nL 369.725568 119.995201 \n\" clip-path=\"url(#pe286d21773)\" style=\"fill: none; stroke: #8c564b; stroke-width: 1.5; stroke-linecap: square\"/>\n   </g>\n   <g id=\"line2d_20\">\n    <path d=\"M 50.14375 119.088005 \nL 384.94375 119.088005 \n\" clip-path=\"url(#pe286d21773)\" style=\"fill: none; stroke-dasharray: 5.55,2.4; stroke-dashoffset: 0; stroke: #000000; stroke-width: 1.5\"/>\n   </g>\n   <g id=\"patch_3\">\n    <path d=\"M 50.14375 256.68 \nL 50.14375 7.2 \n\" style=\"fill: none; stroke: #000000; stroke-width: 0.8; stroke-linejoin: miter; stroke-linecap: square\"/>\n   </g>\n   <g id=\"patch_4\">\n    <path d=\"M 384.94375 256.68 \nL 384.94375 7.2 \n\" style=\"fill: none; stroke: #000000; stroke-width: 0.8; stroke-linejoin: miter; stroke-linecap: square\"/>\n   </g>\n   <g id=\"patch_5\">\n    <path d=\"M 50.14375 256.68 \nL 384.94375 256.68 \n\" style=\"fill: none; stroke: #000000; stroke-width: 0.8; stroke-linejoin: miter; stroke-linecap: square\"/>\n   </g>\n   <g id=\"patch_6\">\n    <path d=\"M 50.14375 7.2 \nL 384.94375 7.2 \n\" style=\"fill: none; stroke: #000000; stroke-width: 0.8; stroke-linejoin: miter; stroke-linecap: square\"/>\n   </g>\n   <g id=\"legend_1\">\n    <g id=\"patch_7\">\n     <path d=\"M 302.089063 103.26875 \nL 377.94375 103.26875 \nQ 379.94375 103.26875 379.94375 101.26875 \nL 379.94375 14.2 \nQ 379.94375 12.2 377.94375 12.2 \nL 302.089063 12.2 \nQ 300.089063 12.2 300.089063 14.2 \nL 300.089063 101.26875 \nQ 300.089063 103.26875 302.089063 103.26875 \nz\n\" style=\"fill: #ffffff; opacity: 0.8; stroke: #cccccc; stroke-linejoin: miter\"/>\n    </g>\n    <g id=\"line2d_21\">\n     <path d=\"M 304.089063 20.298437 \nL 314.089063 20.298437 \nL 324.089063 20.298437 \n\" style=\"fill: none; stroke: #1f77b4; stroke-width: 1.5; stroke-linecap: square\"/>\n    </g>\n    <g id=\"text_16\">\n     <!-- P(die=1) -->\n     <g transform=\"translate(332.089063 23.798437)scale(0.1 -0.1)\">\n      <defs>\n       <path id=\"DejaVuSans-50\" d=\"M 1259 4147 \nL 1259 2394 \nL 2053 2394 \nQ 2494 2394 2734 2622 \nQ 2975 2850 2975 3272 \nQ 2975 3691 2734 3919 \nQ 2494 4147 2053 4147 \nL 1259 4147 \nz\nM 628 4666 \nL 2053 4666 \nQ 2838 4666 3239 4311 \nQ 3641 3956 3641 3272 \nQ 3641 2581 3239 2228 \nQ 2838 1875 2053 1875 \nL 1259 1875 \nL 1259 0 \nL 628 0 \nL 628 4666 \nz\n\" transform=\"scale(0.015625)\"/>\n       <path id=\"DejaVuSans-28\" d=\"M 1984 4856 \nQ 1566 4138 1362 3434 \nQ 1159 2731 1159 2009 \nQ 1159 1288 1364 580 \nQ 1569 -128 1984 -844 \nL 1484 -844 \nQ 1016 -109 783 600 \nQ 550 1309 550 2009 \nQ 550 2706 781 3412 \nQ 1013 4119 1484 4856 \nL 1984 4856 \nz\n\" transform=\"scale(0.015625)\"/>\n       <path id=\"DejaVuSans-3d\" d=\"M 678 2906 \nL 4684 2906 \nL 4684 2381 \nL 678 2381 \nL 678 2906 \nz\nM 678 1631 \nL 4684 1631 \nL 4684 1100 \nL 678 1100 \nL 678 1631 \nz\n\" transform=\"scale(0.015625)\"/>\n       <path id=\"DejaVuSans-29\" d=\"M 513 4856 \nL 1013 4856 \nQ 1481 4119 1714 3412 \nQ 1947 2706 1947 2009 \nQ 1947 1309 1714 600 \nQ 1481 -109 1013 -844 \nL 513 -844 \nQ 928 -128 1133 580 \nQ 1338 1288 1338 2009 \nQ 1338 2731 1133 3434 \nQ 928 4138 513 4856 \nz\n\" transform=\"scale(0.015625)\"/>\n      </defs>\n      <use xlink:href=\"#DejaVuSans-50\"/>\n      <use xlink:href=\"#DejaVuSans-28\" x=\"60.302734\"/>\n      <use xlink:href=\"#DejaVuSans-64\" x=\"99.316406\"/>\n      <use xlink:href=\"#DejaVuSans-69\" x=\"162.792969\"/>\n      <use xlink:href=\"#DejaVuSans-65\" x=\"190.576172\"/>\n      <use xlink:href=\"#DejaVuSans-3d\" x=\"252.099609\"/>\n      <use xlink:href=\"#DejaVuSans-31\" x=\"335.888672\"/>\n      <use xlink:href=\"#DejaVuSans-29\" x=\"399.511719\"/>\n     </g>\n    </g>\n    <g id=\"line2d_22\">\n     <path d=\"M 304.089063 34.976562 \nL 314.089063 34.976562 \nL 324.089063 34.976562 \n\" style=\"fill: none; stroke: #ff7f0e; stroke-width: 1.5; stroke-linecap: square\"/>\n    </g>\n    <g id=\"text_17\">\n     <!-- P(die=2) -->\n     <g transform=\"translate(332.089063 38.476562)scale(0.1 -0.1)\">\n      <use xlink:href=\"#DejaVuSans-50\"/>\n      <use xlink:href=\"#DejaVuSans-28\" x=\"60.302734\"/>\n      <use xlink:href=\"#DejaVuSans-64\" x=\"99.316406\"/>\n      <use xlink:href=\"#DejaVuSans-69\" x=\"162.792969\"/>\n      <use xlink:href=\"#DejaVuSans-65\" x=\"190.576172\"/>\n      <use xlink:href=\"#DejaVuSans-3d\" x=\"252.099609\"/>\n      <use xlink:href=\"#DejaVuSans-32\" x=\"335.888672\"/>\n      <use xlink:href=\"#DejaVuSans-29\" x=\"399.511719\"/>\n     </g>\n    </g>\n    <g id=\"line2d_23\">\n     <path d=\"M 304.089063 49.654687 \nL 314.089063 49.654687 \nL 324.089063 49.654687 \n\" style=\"fill: none; stroke: #2ca02c; stroke-width: 1.5; stroke-linecap: square\"/>\n    </g>\n    <g id=\"text_18\">\n     <!-- P(die=3) -->\n     <g transform=\"translate(332.089063 53.154687)scale(0.1 -0.1)\">\n      <use xlink:href=\"#DejaVuSans-50\"/>\n      <use xlink:href=\"#DejaVuSans-28\" x=\"60.302734\"/>\n      <use xlink:href=\"#DejaVuSans-64\" x=\"99.316406\"/>\n      <use xlink:href=\"#DejaVuSans-69\" x=\"162.792969\"/>\n      <use xlink:href=\"#DejaVuSans-65\" x=\"190.576172\"/>\n      <use xlink:href=\"#DejaVuSans-3d\" x=\"252.099609\"/>\n      <use xlink:href=\"#DejaVuSans-33\" x=\"335.888672\"/>\n      <use xlink:href=\"#DejaVuSans-29\" x=\"399.511719\"/>\n     </g>\n    </g>\n    <g id=\"line2d_24\">\n     <path d=\"M 304.089063 64.332812 \nL 314.089063 64.332812 \nL 324.089063 64.332812 \n\" style=\"fill: none; stroke: #d62728; stroke-width: 1.5; stroke-linecap: square\"/>\n    </g>\n    <g id=\"text_19\">\n     <!-- P(die=4) -->\n     <g transform=\"translate(332.089063 67.832812)scale(0.1 -0.1)\">\n      <use xlink:href=\"#DejaVuSans-50\"/>\n      <use xlink:href=\"#DejaVuSans-28\" x=\"60.302734\"/>\n      <use xlink:href=\"#DejaVuSans-64\" x=\"99.316406\"/>\n      <use xlink:href=\"#DejaVuSans-69\" x=\"162.792969\"/>\n      <use xlink:href=\"#DejaVuSans-65\" x=\"190.576172\"/>\n      <use xlink:href=\"#DejaVuSans-3d\" x=\"252.099609\"/>\n      <use xlink:href=\"#DejaVuSans-34\" x=\"335.888672\"/>\n      <use xlink:href=\"#DejaVuSans-29\" x=\"399.511719\"/>\n     </g>\n    </g>\n    <g id=\"line2d_25\">\n     <path d=\"M 304.089063 79.010937 \nL 314.089063 79.010937 \nL 324.089063 79.010937 \n\" style=\"fill: none; stroke: #9467bd; stroke-width: 1.5; stroke-linecap: square\"/>\n    </g>\n    <g id=\"text_20\">\n     <!-- P(die=5) -->\n     <g transform=\"translate(332.089063 82.510937)scale(0.1 -0.1)\">\n      <use xlink:href=\"#DejaVuSans-50\"/>\n      <use xlink:href=\"#DejaVuSans-28\" x=\"60.302734\"/>\n      <use xlink:href=\"#DejaVuSans-64\" x=\"99.316406\"/>\n      <use xlink:href=\"#DejaVuSans-69\" x=\"162.792969\"/>\n      <use xlink:href=\"#DejaVuSans-65\" x=\"190.576172\"/>\n      <use xlink:href=\"#DejaVuSans-3d\" x=\"252.099609\"/>\n      <use xlink:href=\"#DejaVuSans-35\" x=\"335.888672\"/>\n      <use xlink:href=\"#DejaVuSans-29\" x=\"399.511719\"/>\n     </g>\n    </g>\n    <g id=\"line2d_26\">\n     <path d=\"M 304.089063 93.689062 \nL 314.089063 93.689062 \nL 324.089063 93.689062 \n\" style=\"fill: none; stroke: #8c564b; stroke-width: 1.5; stroke-linecap: square\"/>\n    </g>\n    <g id=\"text_21\">\n     <!-- P(die=6) -->\n     <g transform=\"translate(332.089063 97.189062)scale(0.1 -0.1)\">\n      <defs>\n       <path id=\"DejaVuSans-36\" d=\"M 2113 2584 \nQ 1688 2584 1439 2293 \nQ 1191 2003 1191 1497 \nQ 1191 994 1439 701 \nQ 1688 409 2113 409 \nQ 2538 409 2786 701 \nQ 3034 994 3034 1497 \nQ 3034 2003 2786 2293 \nQ 2538 2584 2113 2584 \nz\nM 3366 4563 \nL 3366 3988 \nQ 3128 4100 2886 4159 \nQ 2644 4219 2406 4219 \nQ 1781 4219 1451 3797 \nQ 1122 3375 1075 2522 \nQ 1259 2794 1537 2939 \nQ 1816 3084 2150 3084 \nQ 2853 3084 3261 2657 \nQ 3669 2231 3669 1497 \nQ 3669 778 3244 343 \nQ 2819 -91 2113 -91 \nQ 1303 -91 875 529 \nQ 447 1150 447 2328 \nQ 447 3434 972 4092 \nQ 1497 4750 2381 4750 \nQ 2619 4750 2861 4703 \nQ 3103 4656 3366 4563 \nz\n\" transform=\"scale(0.015625)\"/>\n      </defs>\n      <use xlink:href=\"#DejaVuSans-50\"/>\n      <use xlink:href=\"#DejaVuSans-28\" x=\"60.302734\"/>\n      <use xlink:href=\"#DejaVuSans-64\" x=\"99.316406\"/>\n      <use xlink:href=\"#DejaVuSans-69\" x=\"162.792969\"/>\n      <use xlink:href=\"#DejaVuSans-65\" x=\"190.576172\"/>\n      <use xlink:href=\"#DejaVuSans-3d\" x=\"252.099609\"/>\n      <use xlink:href=\"#DejaVuSans-36\" x=\"335.888672\"/>\n      <use xlink:href=\"#DejaVuSans-29\" x=\"399.511719\"/>\n     </g>\n    </g>\n   </g>\n  </g>\n </g>\n <defs>\n  <clipPath id=\"pe286d21773\">\n   <rect x=\"50.14375\" y=\"7.2\" width=\"334.8\" height=\"249.48\"/>\n  </clipPath>\n </defs>\n</svg>\n",
      "text/plain": [
       "<Figure size 600x450 with 1 Axes>"
      ]
     },
     "metadata": {},
     "output_type": "display_data"
    }
   ],
   "source": [
    "# 概率随着时间推移收敛到真实概率\n",
    "counts = multinomial.Multinomial(10, fair_probs).sample((500,))\n",
    "cum_counts = counts.cumsum(dim=0)\n",
    "estimates = cum_counts / cum_counts.sum(dim=1, keepdims=True)\n",
    "\n",
    "d2l.set_figsize((6, 4.5))\n",
    "for i in range(6):\n",
    "    d2l.plt.plot(estimates[:, i].numpy(),\n",
    "                 label=(\"P(die=\" + str(i + 1) + \")\"))\n",
    "d2l.plt.axhline(y=0.167, color='black', linestyle='dashed')\n",
    "d2l.plt.gca().set_xlabel('Groups of experiments')\n",
    "d2l.plt.gca().set_ylabel('Estimated probability')\n",
    "d2l.plt.legend();"
   ]
  },
  {
   "cell_type": "markdown",
   "metadata": {},
   "source": [
    "## 5.2 多个随机变量\n",
    "条件概率\n",
    "联合概率\n",
    "贝叶斯定理\n",
    "边际化\n",
    "独立性\n",
    "期望和方差\n",
    "\n",
    "我们可以从概率分布中采样。\n",
    "我们可以使用联合分布、条件分布、Bayes定理、边缘化和独立性假设来分析多个随机变量。\n",
    "期望和方差为概率分布的关键特征的概括提供了实用的度量形式。"
   ]
  },
  {
   "cell_type": "markdown",
   "metadata": {},
   "source": [
    "## 5.3 练习\n",
    "\n",
    "2.给定两个概率为P(A)和P(B)的事件，计算P(AUB)和P(A∩B)的上限和下限。（提示：使用友元图来展示这些情况。\n",
    "\n",
    "P(AUB) 最小值是max(P(A),P(B)),最大值是1\n",
    "\n",
    "P(A∩B) 最小值是0,最大值是min(P(A),P(B))\n",
    "\n",
    "3.假设我们有一系列随机变量，例如A、B和C，其B只依赖于A，而C只依赖于B，能简化联合概率P(A,B,C)吗？（提示：这是一个马尔可夫链。)\n",
    "\n",
    "P(A,B,C) = P(A)P(B|A)P(C|B)\n",
    "\n",
    "4.第一个测试更准确，为什么不运行第一个测试两次，而是同时运行第一个和第二个测试\n",
    "\n",
    "很多解释说 运行第一个测试两次，不是独立的，贝叶斯定理不能适用"
   ]
  },
  {
   "cell_type": "code",
   "execution_count": 141,
   "metadata": {},
   "outputs": [
    {
     "data": {
      "text/plain": [
       "tensor([[0.0000, 0.0020, 0.0030, 0.0010, 0.0030, 0.0010],\n",
       "        [0.0030, 0.0020, 0.0000, 0.0020, 0.0020, 0.0010],\n",
       "        [0.0010, 0.0040, 0.0030, 0.0000, 0.0010, 0.0010],\n",
       "        ...,\n",
       "        [0.0020, 0.0010, 0.0020, 0.0020, 0.0020, 0.0010],\n",
       "        [0.0000, 0.0030, 0.0020, 0.0030, 0.0020, 0.0000],\n",
       "        [0.0000, 0.0010, 0.0020, 0.0030, 0.0020, 0.0020]])"
      ]
     },
     "execution_count": 141,
     "metadata": {},
     "output_type": "execute_result"
    }
   ],
   "source": [
    "# 1.进行m=500组实验，每组抽取n=10个样本。改变m和n，观察和分析实验结果。\n",
    "multinomial.Multinomial(10, fair_probs).sample((500,))\n",
    "counts / 1000 "
   ]
  },
  {
   "cell_type": "markdown",
   "metadata": {},
   "source": [
    "# 6 查阅文档"
   ]
  },
  {
   "cell_type": "code",
   "execution_count": 143,
   "metadata": {},
   "outputs": [
    {
     "name": "stdout",
     "output_type": "stream",
     "text": [
      "['AbsTransform', 'AffineTransform', 'Bernoulli', 'Beta', 'Binomial', 'CatTransform', 'Categorical', 'Cauchy', 'Chi2', 'ComposeTransform', 'ContinuousBernoulli', 'CorrCholeskyTransform', 'CumulativeDistributionTransform', 'Dirichlet', 'Distribution', 'ExpTransform', 'Exponential', 'ExponentialFamily', 'FisherSnedecor', 'Gamma', 'Geometric', 'Gumbel', 'HalfCauchy', 'HalfNormal', 'Independent', 'IndependentTransform', 'Kumaraswamy', 'LKJCholesky', 'Laplace', 'LogNormal', 'LogisticNormal', 'LowRankMultivariateNormal', 'LowerCholeskyTransform', 'MixtureSameFamily', 'Multinomial', 'MultivariateNormal', 'NegativeBinomial', 'Normal', 'OneHotCategorical', 'OneHotCategoricalStraightThrough', 'Pareto', 'Poisson', 'PositiveDefiniteTransform', 'PowerTransform', 'RelaxedBernoulli', 'RelaxedOneHotCategorical', 'ReshapeTransform', 'SigmoidTransform', 'SoftmaxTransform', 'SoftplusTransform', 'StackTransform', 'StickBreakingTransform', 'StudentT', 'TanhTransform', 'Transform', 'TransformedDistribution', 'Uniform', 'VonMises', 'Weibull', 'Wishart', '__all__', '__builtins__', '__cached__', '__doc__', '__file__', '__loader__', '__name__', '__package__', '__path__', '__spec__', 'bernoulli', 'beta', 'biject_to', 'binomial', 'categorical', 'cauchy', 'chi2', 'constraint_registry', 'constraints', 'continuous_bernoulli', 'dirichlet', 'distribution', 'exp_family', 'exponential', 'fishersnedecor', 'gamma', 'geometric', 'gumbel', 'half_cauchy', 'half_normal', 'identity_transform', 'independent', 'kl', 'kl_divergence', 'kumaraswamy', 'laplace', 'lkj_cholesky', 'log_normal', 'logistic_normal', 'lowrank_multivariate_normal', 'mixture_same_family', 'multinomial', 'multivariate_normal', 'negative_binomial', 'normal', 'one_hot_categorical', 'pareto', 'poisson', 'register_kl', 'relaxed_bernoulli', 'relaxed_categorical', 'studentT', 'transform_to', 'transformed_distribution', 'transforms', 'uniform', 'utils', 'von_mises', 'weibull', 'wishart']\n",
      "Help on built-in function ones in module torch:\n",
      "\n",
      "ones(...)\n",
      "    ones(*size, *, out=None, dtype=None, layout=torch.strided, device=None, requires_grad=False) -> Tensor\n",
      "    \n",
      "    Returns a tensor filled with the scalar value `1`, with the shape defined\n",
      "    by the variable argument :attr:`size`.\n",
      "    \n",
      "    Args:\n",
      "        size (int...): a sequence of integers defining the shape of the output tensor.\n",
      "            Can be a variable number of arguments or a collection like a list or tuple.\n",
      "    \n",
      "    Keyword arguments:\n",
      "        out (Tensor, optional): the output tensor.\n",
      "        dtype (:class:`torch.dtype`, optional): the desired data type of returned tensor.\n",
      "            Default: if ``None``, uses a global default (see :func:`torch.set_default_tensor_type`).\n",
      "        layout (:class:`torch.layout`, optional): the desired layout of returned Tensor.\n",
      "            Default: ``torch.strided``.\n",
      "        device (:class:`torch.device`, optional): the desired device of returned tensor.\n",
      "            Default: if ``None``, uses the current device for the default tensor type\n",
      "            (see :func:`torch.set_default_tensor_type`). :attr:`device` will be the CPU\n",
      "            for CPU tensor types and the current CUDA device for CUDA tensor types.\n",
      "        requires_grad (bool, optional): If autograd should record operations on the\n",
      "            returned tensor. Default: ``False``.\n",
      "    \n",
      "    Example::\n",
      "    \n",
      "        >>> torch.ones(2, 3)\n",
      "        tensor([[ 1.,  1.,  1.],\n",
      "                [ 1.,  1.,  1.]])\n",
      "    \n",
      "        >>> torch.ones(5)\n",
      "        tensor([ 1.,  1.,  1.,  1.,  1.])\n",
      "\n"
     ]
    }
   ],
   "source": [
    "# 为了知道模块中可以调用哪些函数和类，可以调用dir函数。 例如，我们可以查询随机数生成模块中的所有属性：\n",
    "import torch\n",
    "\n",
    "print(dir(torch.distributions))\n",
    "\n",
    "# 查找特定函数和类的用法，help函数\n",
    "help(torch.ones)\n"
   ]
  }
 ],
 "metadata": {
  "interpreter": {
   "hash": "548f7e803bdf020f88735becc77803abdfff299c341293cea7e9bd3e66384f0d"
  },
  "kernelspec": {
   "display_name": "Python 3.8.10 64-bit",
   "language": "python",
   "name": "python3"
  },
  "language_info": {
   "codemirror_mode": {
    "name": "ipython",
    "version": 3
   },
   "file_extension": ".py",
   "mimetype": "text/x-python",
   "name": "python",
   "nbconvert_exporter": "python",
   "pygments_lexer": "ipython3",
   "version": "3.8.10"
  },
  "orig_nbformat": 4
 },
 "nbformat": 4,
 "nbformat_minor": 2
}
